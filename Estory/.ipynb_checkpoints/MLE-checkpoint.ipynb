{
 "cells": [
  {
   "cell_type": "markdown",
   "id": "860e9eae",
   "metadata": {},
   "source": [
    "# Generowanie próbki z rozkładu Gamma(ALFA,sigma=1)"
   ]
  },
  {
   "cell_type": "code",
   "execution_count": 17,
   "id": "6f1fcbc5",
   "metadata": {},
   "outputs": [],
   "source": [
    "import matplotlib.pyplot as plt\n",
    "import numpy as np\n",
    "import scipy.stats as stats\n",
    "n = 100\n",
    "ALFA = 0.6 \n",
    "data = stats.gamma.rvs(a=ALFA, size=n)"
   ]
  },
  {
   "cell_type": "markdown",
   "id": "cc8027cc",
   "metadata": {},
   "source": [
    "# Histogram dla próbki"
   ]
  },
  {
   "cell_type": "code",
   "execution_count": 18,
   "id": "7ff25796",
   "metadata": {},
   "outputs": [
    {
     "data": {
      "image/png": "[encoded data removed]",
      "text/plain": [
       "<Figure size 432x288 with 1 Axes>"
      ]
     },
     "metadata": {
      "needs_background": "light"
     },
     "output_type": "display_data"
    }
   ],
   "source": [
    "hx, hy, _ = plt.hist(data, bins=50, color=\"lightblue\")\n",
    "\n",
    "plt.ylim(0.0,max(hx)+0.05)\n",
    "plt.title(r'Gamma distribution $\\alpha = 0.6$ and $\\sigma = 1$')\n",
    "plt.grid()\n",
    "\n",
    "plt.savefig(\"C:\\\\Users\\\\123\\\\Documents\\\\DDR\\\\Praca\\\\gamma.pgf\", bbox_inches='tight')\n",
    "plt.show()\n",
    "plt.close()"
   ]
  },
  {
   "cell_type": "code",
   "execution_count": null,
   "id": "518b3607",
   "metadata": {},
   "outputs": [],
   "source": []
  }
 ],
 "metadata": {
  "kernelspec": {
   "display_name": "Python 3 (ipykernel)",
   "language": "python",
   "name": "python3"
  },
  "language_info": {
   "codemirror_mode": {
    "name": "ipython",
    "version": 3
   },
   "file_extension": ".py",
   "mimetype": "text/x-python",
   "name": "python",
   "nbconvert_exporter": "python",
   "pygments_lexer": "ipython3",
   "version": "3.9.7"
  }
 },
 "nbformat": 4,
 "nbformat_minor": 5
}
