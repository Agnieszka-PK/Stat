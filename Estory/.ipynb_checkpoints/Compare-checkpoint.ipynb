{
 "cells": [
  {
   "cell_type": "code",
   "execution_count": 4,
   "id": "38f0c118",
   "metadata": {},
   "outputs": [],
   "source": [
    "# %matplotlib inline\n",
    "import collections\n",
    "import math\n",
    "import numpy as np\n",
    "import scipy as sp\n",
    "import scipy.stats as stats\n",
    "import matplotlib.pyplot as plt"
   ]
  },
  {
   "cell_type": "markdown",
   "id": "5fba18bd",
   "metadata": {},
   "source": [
    "# Generowanie próbki z rozkładu Gamma o wielkości size"
   ]
  },
  {
   "cell_type": "code",
   "execution_count": 5,
   "id": "74930510",
   "metadata": {},
   "outputs": [],
   "source": [
    "gamma_data = stats.gamma.rvs(a=0.5, size=100)    "
   ]
  },
  {
   "cell_type": "code",
   "execution_count": 6,
   "id": "beac54d8",
   "metadata": {},
   "outputs": [
    {
     "name": "stdout",
     "output_type": "stream",
     "text": [
      "[array([1.47086295e-03, 5.50205495e-02, 2.30396498e+00, 2.55341804e-01,\n",
      "       1.97740132e-02, 4.77610281e-02, 3.62005930e-01, 1.29740863e+00,\n",
      "       3.79503111e-01, 2.70803635e-02, 1.84319886e-01, 1.53096131e-01,\n",
      "       6.52018381e-01, 1.16962686e+00, 5.79998806e-01, 5.87410356e-02,\n",
      "       1.21888496e-03, 5.70266700e-01, 1.31812259e+00, 1.79167908e-04,\n",
      "       1.62431650e-01, 2.73605058e-01, 5.93559889e-02, 6.26542154e-01,\n",
      "       7.61980077e-01, 2.42204884e-02, 4.00101643e-02, 1.09042516e+00,\n",
      "       3.88122601e-01, 3.69428103e-01, 3.49328492e-01, 5.07156605e-01,\n",
      "       6.45075314e-01, 1.97266363e+00, 2.76636512e-01, 8.64684514e-01,\n",
      "       6.41676275e-02, 9.96597312e-01, 3.80222068e-01, 2.47084392e-01,\n",
      "       4.65185242e-01, 5.35170193e-01, 1.86480396e-03, 4.80532752e-01,\n",
      "       2.32964493e-03, 1.43785944e-01, 2.73422133e-04, 6.03771766e-02,\n",
      "       2.22063859e-01, 2.85612393e-01, 4.48277961e-02, 1.90213093e+00,\n",
      "       4.18206425e-01, 1.43440389e+00, 1.93647401e+00, 2.20920199e+00,\n",
      "       9.71551096e-02, 1.95778843e-02, 8.37727911e+00, 1.73037195e-01,\n",
      "       6.96027721e-02, 2.02900500e-01, 2.90333457e-02, 3.55039448e-04,\n",
      "       7.19664367e-01, 1.43877219e+00, 2.13483981e-01, 4.08899770e-01,\n",
      "       2.20378353e-05, 6.90396123e-02, 1.35437683e-01, 4.96240142e-01,\n",
      "       2.47898381e-01, 1.24739445e-01, 1.43035598e-02, 4.06081627e-02,\n",
      "       1.50325544e-01, 1.09876264e+00, 1.65871771e-02, 6.71172742e-01,\n",
      "       1.81891205e-03, 1.11908199e-01, 3.82793167e-01, 1.36259356e-02,\n",
      "       1.20265069e+00, 3.02466779e-01, 1.26748222e+00, 2.41218005e-01,\n",
      "       4.73735342e-02, 1.59387100e-02, 1.17362061e+00, 8.98755203e-02,\n",
      "       8.77513937e-02, 2.85053543e-01, 8.78392253e-01, 6.94804959e-01,\n",
      "       3.07344919e-01, 2.09877698e-02, 4.21932020e-03, 7.12105635e-02])]\n"
     ]
    }
   ],
   "source": [
    "print([gamma_data])"
   ]
  },
  {
   "cell_type": "markdown",
   "id": "1c5f97e0",
   "metadata": {},
   "source": [
    "# Największa wartość w próbce"
   ]
  },
  {
   "cell_type": "code",
   "execution_count": 7,
   "id": "4d3380b9",
   "metadata": {},
   "outputs": [
    {
     "data": {
      "text/plain": [
       "8.37728"
      ]
     },
     "execution_count": 7,
     "metadata": {},
     "output_type": "execute_result"
    }
   ],
   "source": [
    "round(max(gamma_data),5)"
   ]
  },
  {
   "cell_type": "code",
   "execution_count": 8,
   "id": "0a8fd91b",
   "metadata": {},
   "outputs": [
    {
     "data": {
      "text/plain": [
       "8"
      ]
     },
     "execution_count": 8,
     "metadata": {},
     "output_type": "execute_result"
    }
   ],
   "source": [
    "round(max(gamma_data))"
   ]
  },
  {
   "cell_type": "markdown",
   "id": "f62c3406",
   "metadata": {},
   "source": [
    "# Najmniejsza wartość w próbce"
   ]
  },
  {
   "cell_type": "code",
   "execution_count": 9,
   "id": "afc219fb",
   "metadata": {},
   "outputs": [
    {
     "data": {
      "text/plain": [
       "2.203784e-05"
      ]
     },
     "execution_count": 9,
     "metadata": {},
     "output_type": "execute_result"
    }
   ],
   "source": [
    "round(min(gamma_data),11)"
   ]
  },
  {
   "cell_type": "markdown",
   "id": "300959e7",
   "metadata": {},
   "source": [
    "# Długość próbki"
   ]
  },
  {
   "cell_type": "code",
   "execution_count": 10,
   "id": "0651c0e2",
   "metadata": {},
   "outputs": [
    {
     "data": {
      "text/plain": [
       "100"
      ]
     },
     "execution_count": 10,
     "metadata": {},
     "output_type": "execute_result"
    }
   ],
   "source": [
    "len(gamma_data)"
   ]
  },
  {
   "cell_type": "markdown",
   "id": "ebd73ecd",
   "metadata": {},
   "source": [
    "# Ostatni elemet w próbce"
   ]
  },
  {
   "cell_type": "code",
   "execution_count": 11,
   "id": "4215de5e",
   "metadata": {},
   "outputs": [
    {
     "data": {
      "text/plain": [
       "0.07121056349498729"
      ]
     },
     "execution_count": 11,
     "metadata": {},
     "output_type": "execute_result"
    }
   ],
   "source": [
    "gamma_data[-1]"
   ]
  },
  {
   "cell_type": "code",
   "execution_count": 12,
   "id": "b2911609",
   "metadata": {},
   "outputs": [
    {
     "data": {
      "text/plain": [
       "0.07121056349498729"
      ]
     },
     "execution_count": 12,
     "metadata": {},
     "output_type": "execute_result"
    }
   ],
   "source": [
    "gamma_data[len(gamma_data)-1]"
   ]
  },
  {
   "cell_type": "code",
   "execution_count": 13,
   "id": "923a10bf",
   "metadata": {},
   "outputs": [],
   "source": [
    "maks = max(gamma_data)"
   ]
  },
  {
   "cell_type": "code",
   "execution_count": 14,
   "id": "dd3f9900",
   "metadata": {},
   "outputs": [
    {
     "data": {
      "text/plain": [
       "8.37727910733894"
      ]
     },
     "execution_count": 14,
     "metadata": {},
     "output_type": "execute_result"
    }
   ],
   "source": [
    "maks"
   ]
  },
  {
   "cell_type": "code",
   "execution_count": 15,
   "id": "71f1ab70",
   "metadata": {},
   "outputs": [
    {
     "data": {
      "text/plain": [
       "array([2.20378353e-05, 1.79167908e-04, 2.73422133e-04, 3.55039448e-04,\n",
       "       1.21888496e-03, 1.47086295e-03, 1.81891205e-03, 1.86480396e-03,\n",
       "       2.32964493e-03, 4.21932020e-03, 1.36259356e-02, 1.43035598e-02,\n",
       "       1.59387100e-02, 1.65871771e-02, 1.95778843e-02, 1.97740132e-02,\n",
       "       2.09877698e-02, 2.42204884e-02, 2.70803635e-02, 2.90333457e-02,\n",
       "       4.00101643e-02, 4.06081627e-02, 4.48277961e-02, 4.73735342e-02,\n",
       "       4.77610281e-02, 5.50205495e-02, 5.87410356e-02, 5.93559889e-02,\n",
       "       6.03771766e-02, 6.41676275e-02, 6.90396123e-02, 6.96027721e-02,\n",
       "       7.12105635e-02, 8.77513937e-02, 8.98755203e-02, 9.71551096e-02,\n",
       "       1.11908199e-01, 1.24739445e-01, 1.35437683e-01, 1.43785944e-01,\n",
       "       1.50325544e-01, 1.53096131e-01, 1.62431650e-01, 1.73037195e-01,\n",
       "       1.84319886e-01, 2.02900500e-01, 2.13483981e-01, 2.22063859e-01,\n",
       "       2.41218005e-01, 2.47084392e-01, 2.47898381e-01, 2.55341804e-01,\n",
       "       2.73605058e-01, 2.76636512e-01, 2.85053543e-01, 2.85612393e-01,\n",
       "       3.02466779e-01, 3.07344919e-01, 3.49328492e-01, 3.62005930e-01,\n",
       "       3.69428103e-01, 3.79503111e-01, 3.80222068e-01, 3.82793167e-01,\n",
       "       3.88122601e-01, 4.08899770e-01, 4.18206425e-01, 4.65185242e-01,\n",
       "       4.80532752e-01, 4.96240142e-01, 5.07156605e-01, 5.35170193e-01,\n",
       "       5.70266700e-01, 5.79998806e-01, 6.26542154e-01, 6.45075314e-01,\n",
       "       6.52018381e-01, 6.71172742e-01, 6.94804959e-01, 7.19664367e-01,\n",
       "       7.61980077e-01, 8.64684514e-01, 8.78392253e-01, 9.96597312e-01,\n",
       "       1.09042516e+00, 1.09876264e+00, 1.16962686e+00, 1.17362061e+00,\n",
       "       1.20265069e+00, 1.26748222e+00, 1.29740863e+00, 1.31812259e+00,\n",
       "       1.43440389e+00, 1.43877219e+00, 1.90213093e+00, 1.93647401e+00,\n",
       "       1.97266363e+00, 2.20920199e+00, 2.30396498e+00, 8.37727911e+00])"
      ]
     },
     "execution_count": 15,
     "metadata": {},
     "output_type": "execute_result"
    }
   ],
   "source": [
    "np.sort(gamma_data)"
   ]
  },
  {
   "cell_type": "code",
   "execution_count": 16,
   "id": "4d66b71c",
   "metadata": {},
   "outputs": [
    {
     "data": {
      "text/plain": [
       "8.37727910733894"
      ]
     },
     "execution_count": 16,
     "metadata": {},
     "output_type": "execute_result"
    }
   ],
   "source": [
    "np.sort(gamma_data)[-1]"
   ]
  },
  {
   "cell_type": "markdown",
   "id": "e3825731",
   "metadata": {},
   "source": [
    "# Typ obiektu"
   ]
  },
  {
   "cell_type": "code",
   "execution_count": 17,
   "id": "26fff259",
   "metadata": {},
   "outputs": [
    {
     "data": {
      "text/plain": [
       "numpy.ndarray"
      ]
     },
     "execution_count": 17,
     "metadata": {},
     "output_type": "execute_result"
    }
   ],
   "source": [
    "type(gamma_data)"
   ]
  },
  {
   "cell_type": "markdown",
   "id": "98805515",
   "metadata": {},
   "source": [
    "# Wymiar wektora"
   ]
  },
  {
   "cell_type": "code",
   "execution_count": 18,
   "id": "06194795",
   "metadata": {},
   "outputs": [
    {
     "data": {
      "text/plain": [
       "(100,)"
      ]
     },
     "execution_count": 18,
     "metadata": {},
     "output_type": "execute_result"
    }
   ],
   "source": [
    "gamma_data.shape"
   ]
  },
  {
   "cell_type": "code",
   "execution_count": 19,
   "id": "266c99c7",
   "metadata": {},
   "outputs": [
    {
     "data": {
      "text/plain": [
       "0.0014708629460192454"
      ]
     },
     "execution_count": 19,
     "metadata": {},
     "output_type": "execute_result"
    }
   ],
   "source": [
    "gamma_data[0]"
   ]
  },
  {
   "cell_type": "code",
   "execution_count": 20,
   "id": "2da7faf4",
   "metadata": {},
   "outputs": [
    {
     "data": {
      "text/plain": [
       "array([8.37727911])"
      ]
     },
     "execution_count": 20,
     "metadata": {},
     "output_type": "execute_result"
    }
   ],
   "source": [
    "gamma_data[gamma_data > 5]"
   ]
  },
  {
   "cell_type": "code",
   "execution_count": null,
   "id": "1ba8c9a4",
   "metadata": {},
   "outputs": [],
   "source": []
  },
  {
   "cell_type": "markdown",
   "id": "10d18561",
   "metadata": {},
   "source": [
    "# Średnia arytmetyczna z próby"
   ]
  },
  {
   "cell_type": "code",
   "execution_count": 21,
   "id": "7643694d",
   "metadata": {},
   "outputs": [
    {
     "data": {
      "text/plain": [
       "0.5169453348748949"
      ]
     },
     "execution_count": 21,
     "metadata": {},
     "output_type": "execute_result"
    }
   ],
   "source": [
    "np.mean(gamma_data)"
   ]
  },
  {
   "cell_type": "code",
   "execution_count": 22,
   "id": "9eebf1d9",
   "metadata": {},
   "outputs": [
    {
     "data": {
      "text/plain": [
       "51.69453348748949"
      ]
     },
     "execution_count": 22,
     "metadata": {},
     "output_type": "execute_result"
    }
   ],
   "source": [
    "np.sum(gamma_data)"
   ]
  },
  {
   "cell_type": "code",
   "execution_count": 23,
   "id": "f3e5d11c",
   "metadata": {},
   "outputs": [
    {
     "data": {
      "text/plain": [
       "0.5169453348748949"
      ]
     },
     "execution_count": 23,
     "metadata": {},
     "output_type": "execute_result"
    }
   ],
   "source": [
    "np.sum(gamma_data)/len(gamma_data)"
   ]
  },
  {
   "cell_type": "markdown",
   "id": "2cc0c29a",
   "metadata": {},
   "source": [
    "# Mediana z próby"
   ]
  },
  {
   "cell_type": "code",
   "execution_count": 24,
   "id": "36deceda",
   "metadata": {},
   "outputs": [
    {
     "data": {
      "text/plain": [
       "0.2474913868388186"
      ]
     },
     "execution_count": 24,
     "metadata": {},
     "output_type": "execute_result"
    }
   ],
   "source": [
    "np.median(gamma_data)"
   ]
  },
  {
   "cell_type": "markdown",
   "id": "d83150e2",
   "metadata": {},
   "source": [
    "# Odchylenie standardowe"
   ]
  },
  {
   "cell_type": "code",
   "execution_count": 25,
   "id": "1f68db82",
   "metadata": {},
   "outputs": [
    {
     "data": {
      "text/plain": [
       "0.9528811915226255"
      ]
     },
     "execution_count": 25,
     "metadata": {},
     "output_type": "execute_result"
    }
   ],
   "source": [
    "np.std(gamma_data)"
   ]
  },
  {
   "cell_type": "code",
   "execution_count": 26,
   "id": "8dc877a6",
   "metadata": {},
   "outputs": [
    {
     "data": {
      "text/plain": [
       "0.9079825651575786"
      ]
     },
     "execution_count": 26,
     "metadata": {},
     "output_type": "execute_result"
    }
   ],
   "source": [
    "np.std(gamma_data)**2"
   ]
  },
  {
   "cell_type": "code",
   "execution_count": 27,
   "id": "76fd6230",
   "metadata": {},
   "outputs": [
    {
     "data": {
      "text/plain": [
       "0.9079825651575786"
      ]
     },
     "execution_count": 27,
     "metadata": {},
     "output_type": "execute_result"
    }
   ],
   "source": [
    "np.var(gamma_data)"
   ]
  },
  {
   "cell_type": "markdown",
   "id": "8e586ecf",
   "metadata": {},
   "source": [
    "# Wariancja z próby"
   ]
  },
  {
   "cell_type": "code",
   "execution_count": 28,
   "id": "d20cf43a",
   "metadata": {},
   "outputs": [
    {
     "data": {
      "text/plain": [
       "array([2.65713931e-01, 2.13374507e-01, 3.19343920e+00, 6.84364073e-02,\n",
       "       2.47179323e-01, 2.20133914e-01, 2.40062191e-02, 6.09122956e-01,\n",
       "       1.88903648e-02, 2.39967690e-01, 1.10639689e-01, 1.32386243e-01,\n",
       "       1.82447277e-02, 4.25993178e-01, 3.97574021e-03, 2.09951180e-01,\n",
       "       2.65973771e-01, 2.84316803e-03, 6.41884991e-01, 2.67047271e-01,\n",
       "       1.25679952e-01, 5.92144904e-02, 2.09388010e-01, 1.20114627e-02,\n",
       "       6.00420250e-02, 2.42777774e-01, 2.27467157e-01, 3.28879107e-01,\n",
       "       1.65952968e-02, 2.17613338e-02, 2.80954060e-02, 9.58192243e-05,\n",
       "       1.64172917e-02, 2.11911575e+00, 5.77483302e-02, 1.20922536e-01,\n",
       "       2.05007652e-01, 2.30066019e-01, 1.86932517e-02, 7.28249283e-02,\n",
       "       2.67910721e-03, 3.32145457e-04, 2.65307953e-01, 1.32587619e-03,\n",
       "       2.64829308e-01, 1.39247931e-01, 2.66949865e-01, 2.08454483e-01,\n",
       "       8.69550849e-02, 5.35149299e-02, 2.22894970e-01, 1.91873914e+00,\n",
       "       9.74937236e-03, 8.41730209e-01, 2.01506165e+00, 2.86373257e+00,\n",
       "       1.76223833e-01, 2.47374381e-01, 6.17848470e+01, 1.18272809e-01,\n",
       "       2.00115368e-01, 9.86241582e-02, 2.38058109e-01, 2.66865533e-01,\n",
       "       4.10950060e-02, 8.49764747e-01, 9.20887935e-02, 1.16738440e-02,\n",
       "       2.67209695e-01, 2.00619536e-01, 1.45548089e-01, 4.28705031e-04,\n",
       "       7.23862632e-02, 1.53825460e-01, 2.52648754e-01, 2.26897102e-01,\n",
       "       1.34410071e-01, 3.38511377e-01, 2.50358286e-01, 2.37860930e-02,\n",
       "       2.65355231e-01, 1.64055082e-01, 1.79968042e-02, 2.53330418e-01,\n",
       "       4.70191837e-01, 4.60010510e-02, 5.63305615e-01, 7.60255603e-02,\n",
       "       2.20497676e-01, 2.51007638e-01, 4.31222418e-01, 1.82388627e-01,\n",
       "       1.84207439e-01, 5.37738033e-02, 1.30643875e-01, 3.16340457e-02,\n",
       "       4.39323343e-02, 2.45973906e-01, 2.62887966e-01, 1.98679486e-01])"
      ]
     },
     "execution_count": 28,
     "metadata": {},
     "output_type": "execute_result"
    }
   ],
   "source": [
    "(gamma_data - np.mean(gamma_data))**2"
   ]
  },
  {
   "cell_type": "code",
   "execution_count": 29,
   "id": "b87f2f67",
   "metadata": {},
   "outputs": [
    {
     "data": {
      "text/plain": [
       "0.9079825651575786"
      ]
     },
     "execution_count": 29,
     "metadata": {},
     "output_type": "execute_result"
    }
   ],
   "source": [
    "np.sum((gamma_data - np.mean(gamma_data))**2)/len(gamma_data)"
   ]
  },
  {
   "cell_type": "markdown",
   "id": "88944ee8",
   "metadata": {},
   "source": [
    "# Empiryczna dystrybuata z próby"
   ]
  },
  {
   "cell_type": "code",
   "execution_count": 30,
   "id": "0a4f8385",
   "metadata": {
    "scrolled": true
   },
   "outputs": [
    {
     "data": {
      "image/png": "[encoded data removed]",
      "text/plain": [
       "<Figure size 432x288 with 1 Axes>"
      ]
     },
     "metadata": {
      "needs_background": "light"
     },
     "output_type": "display_data"
    }
   ],
   "source": [
    "x = np.sort(gamma_data)\n",
    "y = np.arange(1, len(x) +1)/len(x)\n",
    "_ = plt.plot(x, y, marker='.', linestyle=\"none\")\n",
    "_ = plt.xlabel('wartości zmiennej gamma')\n",
    "_ = plt.ylabel('Prawdopodobieństwo')\n",
    "plt.margins(0.02)\n",
    "plt.title('Empiryczna dystrybyanta z próby')\n",
    "plt.show()"
   ]
  },
  {
   "cell_type": "code",
   "execution_count": 31,
   "id": "1a4f90ee",
   "metadata": {
    "scrolled": true
   },
   "outputs": [
    {
     "data": {
      "image/png": "[encoded data removed]",
      "text/plain": [
       "<Figure size 432x288 with 1 Axes>"
      ]
     },
     "metadata": {
      "needs_background": "light"
     },
     "output_type": "display_data"
    }
   ],
   "source": [
    "_ = plt.hist(gamma_data,  orientation = 'horizontal')\n",
    "_ = plt.xlabel('Ilośc')\n",
    "_ = plt.ylabel('wartość gamma')\n",
    "plt.title('Histogram')\n",
    "plt.show()"
   ]
  },
  {
   "cell_type": "code",
   "execution_count": 32,
   "id": "a50c5f95",
   "metadata": {},
   "outputs": [
    {
     "data": {
      "image/png": "[encoded data removed]",
      "text/plain": [
       "<Figure size 432x288 with 1 Axes>"
      ]
     },
     "metadata": {
      "needs_background": "light"
     },
     "output_type": "display_data"
    }
   ],
   "source": [
    "bin_xd = [0, 1, 2, 3, 4, 5, 6]\n",
    "_ = plt.hist(gamma_data, bins = bin_xd, density=True, label='sym')\n",
    "_ = plt.xlabel('wartość gamma')\n",
    "_ = plt.ylabel('Częstość')\n",
    "plt.title('Histogram i gęstość gamma')\n",
    "plt.yticks([0, 0.2, 0.4, 0.5, 0.6, 0.7, 0.8, 0.9, 1])\n",
    "xx = np.linspace (0, 6, 100) \n",
    "yy = stats.gamma.pdf(xx, a=0.5, scale=1)\n",
    "plt.ylim(0, 1)\n",
    "plt.plot(xx, yy, label='gamma(0.5)')\n",
    "plt.show()"
   ]
  },
  {
   "cell_type": "code",
   "execution_count": 33,
   "id": "f079386f",
   "metadata": {},
   "outputs": [
    {
     "data": {
      "image/png": "[encoded data removed]",
      "text/plain": [
       "<Figure size 432x288 with 1 Axes>"
      ]
     },
     "metadata": {
      "needs_background": "light"
     },
     "output_type": "display_data"
    }
   ],
   "source": [
    "xx = np.linspace (0, 6, 100) \n",
    "yy = stats.gamma.pdf(xx, a=0.5, scale=1)\n",
    "plt.plot(xx, yy)\n",
    "plt.show()"
   ]
  },
  {
   "cell_type": "code",
   "execution_count": 34,
   "id": "caecb37c",
   "metadata": {},
   "outputs": [
    {
     "data": {
      "image/png": "[encoded data removed]",
      "text/plain": [
       "<Figure size 432x288 with 1 Axes>"
      ]
     },
     "metadata": {
      "needs_background": "light"
     },
     "output_type": "display_data"
    }
   ],
   "source": [
    "bin_xd = [0, 1, 2, 3, 4, 5, 6]\n",
    "_ = plt.hist(gamma_data, bins = bin_xd)\n",
    "_ = plt.xlabel('wartość gamma')\n",
    "_ = plt.ylabel('Częstość')\n",
    "plt.title('Histogram')\n",
    "plt.yticks([0, 2000, 4000, 6000, 8000, 10000],['0t','2t','4t','6t','8t','10t'])\n",
    "plt.show()"
   ]
  },
  {
   "cell_type": "code",
   "execution_count": 35,
   "id": "df04cc8a",
   "metadata": {},
   "outputs": [
    {
     "name": "stdout",
     "output_type": "stream",
     "text": [
      "Help on function hist in module matplotlib.pyplot:\n",
      "\n",
      "hist(x, bins=None, range=None, density=False, weights=None, cumulative=False, bottom=None, histtype='bar', align='mid', orientation='vertical', rwidth=None, log=False, color=None, label=None, stacked=False, *, data=None, **kwargs)\n",
      "    Plot a histogram.\n",
      "    \n",
      "    Compute and draw the histogram of *x*.  The return value is a tuple\n",
      "    (*n*, *bins*, *patches*) or ([*n0*, *n1*, ...], *bins*, [*patches0*,\n",
      "    *patches1*, ...]) if the input contains multiple data.  See the\n",
      "    documentation of the *weights* parameter to draw a histogram of\n",
      "    already-binned data.\n",
      "    \n",
      "    Multiple data can be provided via *x* as a list of datasets\n",
      "    of potentially different length ([*x0*, *x1*, ...]), or as\n",
      "    a 2D ndarray in which each column is a dataset.  Note that\n",
      "    the ndarray form is transposed relative to the list form.\n",
      "    \n",
      "    Masked arrays are not supported.\n",
      "    \n",
      "    The *bins*, *range*, *weights*, and *density* parameters behave as in\n",
      "    `numpy.histogram`.\n",
      "    \n",
      "    Parameters\n",
      "    ----------\n",
      "    x : (n,) array or sequence of (n,) arrays\n",
      "        Input values, this takes either a single array or a sequence of\n",
      "        arrays which are not required to be of the same length.\n",
      "    \n",
      "    bins : int or sequence or str, default: :rc:`hist.bins`\n",
      "        If *bins* is an integer, it defines the number of equal-width bins\n",
      "        in the range.\n",
      "    \n",
      "        If *bins* is a sequence, it defines the bin edges, including the\n",
      "        left edge of the first bin and the right edge of the last bin;\n",
      "        in this case, bins may be unequally spaced.  All but the last\n",
      "        (righthand-most) bin is half-open.  In other words, if *bins* is::\n",
      "    \n",
      "            [1, 2, 3, 4]\n",
      "    \n",
      "        then the first bin is ``[1, 2)`` (including 1, but excluding 2) and\n",
      "        the second ``[2, 3)``.  The last bin, however, is ``[3, 4]``, which\n",
      "        *includes* 4.\n",
      "    \n",
      "        If *bins* is a string, it is one of the binning strategies\n",
      "        supported by `numpy.histogram_bin_edges`: 'auto', 'fd', 'doane',\n",
      "        'scott', 'stone', 'rice', 'sturges', or 'sqrt'.\n",
      "    \n",
      "    range : tuple or None, default: None\n",
      "        The lower and upper range of the bins. Lower and upper outliers\n",
      "        are ignored. If not provided, *range* is ``(x.min(), x.max())``.\n",
      "        Range has no effect if *bins* is a sequence.\n",
      "    \n",
      "        If *bins* is a sequence or *range* is specified, autoscaling\n",
      "        is based on the specified bin range instead of the\n",
      "        range of x.\n",
      "    \n",
      "    density : bool, default: False\n",
      "        If ``True``, draw and return a probability density: each bin\n",
      "        will display the bin's raw count divided by the total number of\n",
      "        counts *and the bin width*\n",
      "        (``density = counts / (sum(counts) * np.diff(bins))``),\n",
      "        so that the area under the histogram integrates to 1\n",
      "        (``np.sum(density * np.diff(bins)) == 1``).\n",
      "    \n",
      "        If *stacked* is also ``True``, the sum of the histograms is\n",
      "        normalized to 1.\n",
      "    \n",
      "    weights : (n,) array-like or None, default: None\n",
      "        An array of weights, of the same shape as *x*.  Each value in\n",
      "        *x* only contributes its associated weight towards the bin count\n",
      "        (instead of 1).  If *density* is ``True``, the weights are\n",
      "        normalized, so that the integral of the density over the range\n",
      "        remains 1.\n",
      "    \n",
      "        This parameter can be used to draw a histogram of data that has\n",
      "        already been binned, e.g. using `numpy.histogram` (by treating each\n",
      "        bin as a single point with a weight equal to its count) ::\n",
      "    \n",
      "            counts, bins = np.histogram(data)\n",
      "            plt.hist(bins[:-1], bins, weights=counts)\n",
      "    \n",
      "        (or you may alternatively use `~.bar()`).\n",
      "    \n",
      "    cumulative : bool or -1, default: False\n",
      "        If ``True``, then a histogram is computed where each bin gives the\n",
      "        counts in that bin plus all bins for smaller values. The last bin\n",
      "        gives the total number of datapoints.\n",
      "    \n",
      "        If *density* is also ``True`` then the histogram is normalized such\n",
      "        that the last bin equals 1.\n",
      "    \n",
      "        If *cumulative* is a number less than 0 (e.g., -1), the direction\n",
      "        of accumulation is reversed.  In this case, if *density* is also\n",
      "        ``True``, then the histogram is normalized such that the first bin\n",
      "        equals 1.\n",
      "    \n",
      "    bottom : array-like, scalar, or None, default: None\n",
      "        Location of the bottom of each bin, ie. bins are drawn from\n",
      "        ``bottom`` to ``bottom + hist(x, bins)`` If a scalar, the bottom\n",
      "        of each bin is shifted by the same amount. If an array, each bin\n",
      "        is shifted independently and the length of bottom must match the\n",
      "        number of bins. If None, defaults to 0.\n",
      "    \n",
      "    histtype : {'bar', 'barstacked', 'step', 'stepfilled'}, default: 'bar'\n",
      "        The type of histogram to draw.\n",
      "    \n",
      "        - 'bar' is a traditional bar-type histogram.  If multiple data\n",
      "          are given the bars are arranged side by side.\n",
      "        - 'barstacked' is a bar-type histogram where multiple\n",
      "          data are stacked on top of each other.\n",
      "        - 'step' generates a lineplot that is by default unfilled.\n",
      "        - 'stepfilled' generates a lineplot that is by default filled.\n",
      "    \n",
      "    align : {'left', 'mid', 'right'}, default: 'mid'\n",
      "        The horizontal alignment of the histogram bars.\n",
      "    \n",
      "        - 'left': bars are centered on the left bin edges.\n",
      "        - 'mid': bars are centered between the bin edges.\n",
      "        - 'right': bars are centered on the right bin edges.\n",
      "    \n",
      "    orientation : {'vertical', 'horizontal'}, default: 'vertical'\n",
      "        If 'horizontal', `~.Axes.barh` will be used for bar-type histograms\n",
      "        and the *bottom* kwarg will be the left edges.\n",
      "    \n",
      "    rwidth : float or None, default: None\n",
      "        The relative width of the bars as a fraction of the bin width.  If\n",
      "        ``None``, automatically compute the width.\n",
      "    \n",
      "        Ignored if *histtype* is 'step' or 'stepfilled'.\n",
      "    \n",
      "    log : bool, default: False\n",
      "        If ``True``, the histogram axis will be set to a log scale.\n",
      "    \n",
      "    color : color or array-like of colors or None, default: None\n",
      "        Color or sequence of colors, one per dataset.  Default (``None``)\n",
      "        uses the standard line color sequence.\n",
      "    \n",
      "    label : str or None, default: None\n",
      "        String, or sequence of strings to match multiple datasets.  Bar\n",
      "        charts yield multiple patches per dataset, but only the first gets\n",
      "        the label, so that `~.Axes.legend` will work as expected.\n",
      "    \n",
      "    stacked : bool, default: False\n",
      "        If ``True``, multiple data are stacked on top of each other If\n",
      "        ``False`` multiple data are arranged side by side if histtype is\n",
      "        'bar' or on top of each other if histtype is 'step'\n",
      "    \n",
      "    Returns\n",
      "    -------\n",
      "    n : array or list of arrays\n",
      "        The values of the histogram bins. See *density* and *weights* for a\n",
      "        description of the possible semantics.  If input *x* is an array,\n",
      "        then this is an array of length *nbins*. If input is a sequence of\n",
      "        arrays ``[data1, data2, ...]``, then this is a list of arrays with\n",
      "        the values of the histograms for each of the arrays in the same\n",
      "        order.  The dtype of the array *n* (or of its element arrays) will\n",
      "        always be float even if no weighting or normalization is used.\n",
      "    \n",
      "    bins : array\n",
      "        The edges of the bins. Length nbins + 1 (nbins left edges and right\n",
      "        edge of last bin).  Always a single array even when multiple data\n",
      "        sets are passed in.\n",
      "    \n",
      "    patches : `.BarContainer` or list of a single `.Polygon` or list of such objects\n",
      "        Container of individual artists used to create the histogram\n",
      "        or list of such containers if there are multiple input datasets.\n",
      "    \n",
      "    Other Parameters\n",
      "    ----------------\n",
      "    **kwargs\n",
      "        `~matplotlib.patches.Patch` properties\n",
      "    \n",
      "    See Also\n",
      "    --------\n",
      "    hist2d : 2D histograms\n",
      "    \n",
      "    Notes\n",
      "    -----\n",
      "    For large numbers of bins (>1000), 'step' and 'stepfilled' can be\n",
      "    significantly faster than 'bar' and 'barstacked'.\n",
      "    \n",
      "    .. note::\n",
      "        In addition to the above described arguments, this function can take\n",
      "        a *data* keyword argument. If such a *data* argument is given,\n",
      "        the following arguments can also be string ``s``, which is\n",
      "        interpreted as ``data[s]`` (unless this raises an exception):\n",
      "        *x*, *weights*.\n",
      "    \n",
      "        Objects passed as **data** must support item access (``data[s]``) and\n",
      "        membership test (``s in data``).\n",
      "\n"
     ]
    }
   ],
   "source": [
    "help(plt.hist)"
   ]
  },
  {
   "cell_type": "markdown",
   "id": "117b5b4f",
   "metadata": {},
   "source": [
    "# Metoda count i index działa dla listy"
   ]
  },
  {
   "cell_type": "code",
   "execution_count": 36,
   "id": "bdee5c1a",
   "metadata": {},
   "outputs": [
    {
     "ename": "AttributeError",
     "evalue": "'numpy.ndarray' object has no attribute 'count'",
     "output_type": "error",
     "traceback": [
      "\u001b[1;31m---------------------------------------------------------------------------\u001b[0m",
      "\u001b[1;31mAttributeError\u001b[0m                            Traceback (most recent call last)",
      "\u001b[1;32m~\\AppData\\Local\\Temp/ipykernel_16048/2367248635.py\u001b[0m in \u001b[0;36m<module>\u001b[1;34m\u001b[0m\n\u001b[1;32m----> 1\u001b[1;33m \u001b[0mgamma_data\u001b[0m\u001b[1;33m.\u001b[0m\u001b[0mcount\u001b[0m\u001b[1;33m(\u001b[0m\u001b[0mgamma_data\u001b[0m\u001b[1;33m[\u001b[0m\u001b[1;36m100\u001b[0m\u001b[1;33m]\u001b[0m\u001b[1;33m)\u001b[0m\u001b[1;33m\u001b[0m\u001b[1;33m\u001b[0m\u001b[0m\n\u001b[0m",
      "\u001b[1;31mAttributeError\u001b[0m: 'numpy.ndarray' object has no attribute 'count'"
     ]
    }
   ],
   "source": [
    "gamma_data.count(gamma_data[100])"
   ]
  },
  {
   "cell_type": "code",
   "execution_count": 37,
   "id": "48bde821",
   "metadata": {
    "scrolled": true
   },
   "outputs": [
    {
     "ename": "AttributeError",
     "evalue": "'numpy.ndarray' object has no attribute 'index'",
     "output_type": "error",
     "traceback": [
      "\u001b[1;31m---------------------------------------------------------------------------\u001b[0m",
      "\u001b[1;31mAttributeError\u001b[0m                            Traceback (most recent call last)",
      "\u001b[1;32m~\\AppData\\Local\\Temp/ipykernel_16048/53316964.py\u001b[0m in \u001b[0;36m<module>\u001b[1;34m\u001b[0m\n\u001b[1;32m----> 1\u001b[1;33m \u001b[0mgamma_data\u001b[0m\u001b[1;33m.\u001b[0m\u001b[0mindex\u001b[0m\u001b[1;33m(\u001b[0m\u001b[0mmax\u001b[0m\u001b[1;33m(\u001b[0m\u001b[0mgamma_data\u001b[0m\u001b[1;33m)\u001b[0m\u001b[1;33m)\u001b[0m\u001b[1;33m\u001b[0m\u001b[1;33m\u001b[0m\u001b[0m\n\u001b[0m",
      "\u001b[1;31mAttributeError\u001b[0m: 'numpy.ndarray' object has no attribute 'index'"
     ]
    }
   ],
   "source": [
    "gamma_data.index(max(gamma_data))"
   ]
  },
  {
   "cell_type": "code",
   "execution_count": 38,
   "id": "de6b412c",
   "metadata": {},
   "outputs": [
    {
     "data": {
      "text/plain": [
       "8.37727910733894"
      ]
     },
     "execution_count": 38,
     "metadata": {},
     "output_type": "execute_result"
    }
   ],
   "source": [
    "max(gamma_data)"
   ]
  },
  {
   "cell_type": "code",
   "execution_count": 39,
   "id": "374a08ea",
   "metadata": {},
   "outputs": [],
   "source": [
    "a=0.5"
   ]
  },
  {
   "cell_type": "code",
   "execution_count": 40,
   "id": "dec2d046",
   "metadata": {},
   "outputs": [],
   "source": [
    "mean, var, skew, kurt = stats.gamma.stats(a, moments='mvsk')"
   ]
  },
  {
   "cell_type": "code",
   "execution_count": 41,
   "id": "9c475fc7",
   "metadata": {},
   "outputs": [
    {
     "data": {
      "text/plain": [
       "array(0.5)"
      ]
     },
     "execution_count": 41,
     "metadata": {},
     "output_type": "execute_result"
    }
   ],
   "source": [
    "mean"
   ]
  },
  {
   "cell_type": "code",
   "execution_count": 42,
   "id": "c1c3ad8b",
   "metadata": {},
   "outputs": [
    {
     "data": {
      "text/plain": [
       "array(0.5)"
      ]
     },
     "execution_count": 42,
     "metadata": {},
     "output_type": "execute_result"
    }
   ],
   "source": [
    "var"
   ]
  },
  {
   "cell_type": "code",
   "execution_count": 43,
   "id": "f69ee69d",
   "metadata": {},
   "outputs": [
    {
     "data": {
      "text/plain": [
       "array(2.82842712)"
      ]
     },
     "execution_count": 43,
     "metadata": {},
     "output_type": "execute_result"
    }
   ],
   "source": [
    "skew"
   ]
  },
  {
   "cell_type": "code",
   "execution_count": 44,
   "id": "dc29e148",
   "metadata": {},
   "outputs": [
    {
     "data": {
      "text/plain": [
       "array(12.)"
      ]
     },
     "execution_count": 44,
     "metadata": {},
     "output_type": "execute_result"
    }
   ],
   "source": [
    "kurt"
   ]
  },
  {
   "cell_type": "code",
   "execution_count": null,
   "id": "5f4b81a5",
   "metadata": {},
   "outputs": [],
   "source": []
  },
  {
   "cell_type": "code",
   "execution_count": null,
   "id": "bbf61a07",
   "metadata": {},
   "outputs": [],
   "source": []
  },
  {
   "cell_type": "code",
   "execution_count": null,
   "id": "23b5a250",
   "metadata": {},
   "outputs": [],
   "source": []
  },
  {
   "cell_type": "code",
   "execution_count": null,
   "id": "5cee1efb",
   "metadata": {},
   "outputs": [],
   "source": []
  }
 ],
 "metadata": {
  "kernelspec": {
   "display_name": "Python 3 (ipykernel)",
   "language": "python",
   "name": "python3"
  },
  "language_info": {
   "codemirror_mode": {
    "name": "ipython",
    "version": 3
   },
   "file_extension": ".py",
   "mimetype": "text/x-python",
   "name": "python",
   "nbconvert_exporter": "python",
   "pygments_lexer": "ipython3",
   "version": "3.9.7"
  }
 },
 "nbformat": 4,
 "nbformat_minor": 5
}
