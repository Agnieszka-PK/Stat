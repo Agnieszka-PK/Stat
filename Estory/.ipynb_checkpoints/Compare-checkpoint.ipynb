{
 "cells": [
  {
   "cell_type": "code",
   "execution_count": 1,
   "id": "38f0c118",
   "metadata": {},
   "outputs": [],
   "source": [
    "# %matplotlib inline\n",
    "import collections\n",
    "import math\n",
    "import numpy as np\n",
    "import scipy as sp\n",
    "import scipy.stats as stats\n",
    "import matplotlib.pyplot as plt"
   ]
  },
  {
   "cell_type": "markdown",
   "id": "5fba18bd",
   "metadata": {},
   "source": [
    "# Generowanie próbki z rozkładu Gamma o wielkości size"
   ]
  },
  {
   "cell_type": "code",
   "execution_count": 2,
   "id": "74930510",
   "metadata": {},
   "outputs": [],
   "source": [
    "gamma_data = stats.gamma.rvs(a=0.5, size=100)    "
   ]
  },
  {
   "cell_type": "code",
   "execution_count": 3,
   "id": "beac54d8",
   "metadata": {},
   "outputs": [
    {
     "name": "stdout",
     "output_type": "stream",
     "text": [
      "[array([8.97560658e-02, 1.37161985e-02, 7.09304832e-02, 4.17616806e-01,\n",
      "       3.39663413e-01, 1.30721149e-02, 4.05348770e-03, 8.75464786e-02,\n",
      "       1.10380354e-01, 2.06658337e+00, 7.90538419e-02, 5.86229698e-02,\n",
      "       1.13380498e+00, 2.24778746e-01, 8.75311548e-01, 2.57257161e-01,\n",
      "       1.74454860e+00, 7.05736694e-01, 7.60304403e-01, 2.52297592e+00,\n",
      "       7.35365597e-02, 2.86229243e-01, 4.91090430e-02, 2.98672170e-02,\n",
      "       9.33695165e-01, 1.22805257e-02, 3.45556527e-03, 2.59634610e-01,\n",
      "       1.15411221e-01, 5.14988112e-01, 8.25571892e-02, 3.75307813e-03,\n",
      "       9.61261572e-02, 7.79426052e-01, 3.62649496e-01, 1.67693539e-01,\n",
      "       5.32794977e-01, 8.93831635e-01, 7.25534049e-03, 1.30448798e-01,\n",
      "       1.50508186e-01, 2.04337420e-01, 1.50052682e-01, 1.63602581e+00,\n",
      "       1.25782724e+00, 1.34387382e-01, 2.80041752e+00, 8.26786512e-02,\n",
      "       1.56356532e-03, 2.34022753e-02, 1.47777777e+00, 2.91051497e-01,\n",
      "       4.96041803e-01, 3.56380472e-02, 2.26008545e-01, 3.62322181e-01,\n",
      "       1.73106721e-01, 1.18775210e-01, 6.39959494e-01, 9.20558563e-02,\n",
      "       6.41445551e-01, 1.70814583e-01, 1.59999290e-02, 6.27596969e-01,\n",
      "       7.02202191e-02, 6.10378097e-02, 8.48112108e-04, 4.47413554e-01,\n",
      "       2.19624983e-01, 6.59589007e-01, 2.83322624e-01, 2.13857393e-02,\n",
      "       2.13157539e-03, 1.11257414e+00, 2.84037260e-02, 1.06952320e-01,\n",
      "       1.79298043e+00, 1.21661969e-03, 1.45258884e-03, 5.85993049e-03,\n",
      "       5.60604590e-01, 3.43086568e-01, 4.94854136e-01, 1.02201308e-01,\n",
      "       4.59937062e-02, 5.33223255e+00, 1.55996152e+00, 6.06670117e-03,\n",
      "       7.36653382e-02, 6.41305488e-01, 2.14732413e-01, 1.90836216e-01,\n",
      "       2.53717645e-01, 3.63446434e-01, 2.02796635e-01, 4.98038894e-01,\n",
      "       1.11579409e+00, 1.47160947e+00, 1.67926321e+00, 2.44551131e-01])]\n"
     ]
    }
   ],
   "source": [
    "print([gamma_data])"
   ]
  },
  {
   "cell_type": "markdown",
   "id": "1c5f97e0",
   "metadata": {},
   "source": [
    "# Największa wartość w próbce"
   ]
  },
  {
   "cell_type": "code",
   "execution_count": 4,
   "id": "4d3380b9",
   "metadata": {},
   "outputs": [
    {
     "data": {
      "text/plain": [
       "5.33223"
      ]
     },
     "execution_count": 4,
     "metadata": {},
     "output_type": "execute_result"
    }
   ],
   "source": [
    "round(max(gamma_data),5)"
   ]
  },
  {
   "cell_type": "code",
   "execution_count": 5,
   "id": "0a8fd91b",
   "metadata": {},
   "outputs": [
    {
     "data": {
      "text/plain": [
       "5"
      ]
     },
     "execution_count": 5,
     "metadata": {},
     "output_type": "execute_result"
    }
   ],
   "source": [
    "round(max(gamma_data))"
   ]
  },
  {
   "cell_type": "markdown",
   "id": "f62c3406",
   "metadata": {},
   "source": [
    "# Najmniejsza wartość w próbce"
   ]
  },
  {
   "cell_type": "code",
   "execution_count": 6,
   "id": "afc219fb",
   "metadata": {},
   "outputs": [
    {
     "data": {
      "text/plain": [
       "0.00084811211"
      ]
     },
     "execution_count": 6,
     "metadata": {},
     "output_type": "execute_result"
    }
   ],
   "source": [
    "round(min(gamma_data),11)"
   ]
  },
  {
   "cell_type": "markdown",
   "id": "300959e7",
   "metadata": {},
   "source": [
    "# Długość próbki"
   ]
  },
  {
   "cell_type": "code",
   "execution_count": 7,
   "id": "0651c0e2",
   "metadata": {},
   "outputs": [
    {
     "data": {
      "text/plain": [
       "100"
      ]
     },
     "execution_count": 7,
     "metadata": {},
     "output_type": "execute_result"
    }
   ],
   "source": [
    "len(gamma_data)"
   ]
  },
  {
   "cell_type": "markdown",
   "id": "ebd73ecd",
   "metadata": {},
   "source": [
    "# Ostatni elemet w próbce"
   ]
  },
  {
   "cell_type": "code",
   "execution_count": 8,
   "id": "4215de5e",
   "metadata": {},
   "outputs": [
    {
     "data": {
      "text/plain": [
       "0.24455113086375066"
      ]
     },
     "execution_count": 8,
     "metadata": {},
     "output_type": "execute_result"
    }
   ],
   "source": [
    "gamma_data[-1]"
   ]
  },
  {
   "cell_type": "code",
   "execution_count": 9,
   "id": "b2911609",
   "metadata": {},
   "outputs": [
    {
     "data": {
      "text/plain": [
       "0.24455113086375066"
      ]
     },
     "execution_count": 9,
     "metadata": {},
     "output_type": "execute_result"
    }
   ],
   "source": [
    "gamma_data[len(gamma_data)-1]"
   ]
  },
  {
   "cell_type": "code",
   "execution_count": 10,
   "id": "923a10bf",
   "metadata": {},
   "outputs": [],
   "source": [
    "maks = max(gamma_data)"
   ]
  },
  {
   "cell_type": "code",
   "execution_count": 11,
   "id": "dd3f9900",
   "metadata": {},
   "outputs": [
    {
     "data": {
      "text/plain": [
       "5.332232547711628"
      ]
     },
     "execution_count": 11,
     "metadata": {},
     "output_type": "execute_result"
    }
   ],
   "source": [
    "maks"
   ]
  },
  {
   "cell_type": "code",
   "execution_count": 12,
   "id": "71f1ab70",
   "metadata": {},
   "outputs": [
    {
     "data": {
      "text/plain": [
       "array([8.48112108e-04, 1.21661969e-03, 1.45258884e-03, 1.56356532e-03,\n",
       "       2.13157539e-03, 3.45556527e-03, 3.75307813e-03, 4.05348770e-03,\n",
       "       5.85993049e-03, 6.06670117e-03, 7.25534049e-03, 1.22805257e-02,\n",
       "       1.30721149e-02, 1.37161985e-02, 1.59999290e-02, 2.13857393e-02,\n",
       "       2.34022753e-02, 2.84037260e-02, 2.98672170e-02, 3.56380472e-02,\n",
       "       4.59937062e-02, 4.91090430e-02, 5.86229698e-02, 6.10378097e-02,\n",
       "       7.02202191e-02, 7.09304832e-02, 7.35365597e-02, 7.36653382e-02,\n",
       "       7.90538419e-02, 8.25571892e-02, 8.26786512e-02, 8.75464786e-02,\n",
       "       8.97560658e-02, 9.20558563e-02, 9.61261572e-02, 1.02201308e-01,\n",
       "       1.06952320e-01, 1.10380354e-01, 1.15411221e-01, 1.18775210e-01,\n",
       "       1.30448798e-01, 1.34387382e-01, 1.50052682e-01, 1.50508186e-01,\n",
       "       1.67693539e-01, 1.70814583e-01, 1.73106721e-01, 1.90836216e-01,\n",
       "       2.02796635e-01, 2.04337420e-01, 2.14732413e-01, 2.19624983e-01,\n",
       "       2.24778746e-01, 2.26008545e-01, 2.44551131e-01, 2.53717645e-01,\n",
       "       2.57257161e-01, 2.59634610e-01, 2.83322624e-01, 2.86229243e-01,\n",
       "       2.91051497e-01, 3.39663413e-01, 3.43086568e-01, 3.62322181e-01,\n",
       "       3.62649496e-01, 3.63446434e-01, 4.17616806e-01, 4.47413554e-01,\n",
       "       4.94854136e-01, 4.96041803e-01, 4.98038894e-01, 5.14988112e-01,\n",
       "       5.32794977e-01, 5.60604590e-01, 6.27596969e-01, 6.39959494e-01,\n",
       "       6.41305488e-01, 6.41445551e-01, 6.59589007e-01, 7.05736694e-01,\n",
       "       7.60304403e-01, 7.79426052e-01, 8.75311548e-01, 8.93831635e-01,\n",
       "       9.33695165e-01, 1.11257414e+00, 1.11579409e+00, 1.13380498e+00,\n",
       "       1.25782724e+00, 1.47160947e+00, 1.47777777e+00, 1.55996152e+00,\n",
       "       1.63602581e+00, 1.67926321e+00, 1.74454860e+00, 1.79298043e+00,\n",
       "       2.06658337e+00, 2.52297592e+00, 2.80041752e+00, 5.33223255e+00])"
      ]
     },
     "execution_count": 12,
     "metadata": {},
     "output_type": "execute_result"
    }
   ],
   "source": [
    "np.sort(gamma_data)"
   ]
  },
  {
   "cell_type": "code",
   "execution_count": 13,
   "id": "4d66b71c",
   "metadata": {},
   "outputs": [
    {
     "data": {
      "text/plain": [
       "5.332232547711628"
      ]
     },
     "execution_count": 13,
     "metadata": {},
     "output_type": "execute_result"
    }
   ],
   "source": [
    "np.sort(gamma_data)[-1]"
   ]
  },
  {
   "cell_type": "markdown",
   "id": "e3825731",
   "metadata": {},
   "source": [
    "# Typ obiektu"
   ]
  },
  {
   "cell_type": "code",
   "execution_count": 14,
   "id": "26fff259",
   "metadata": {},
   "outputs": [
    {
     "data": {
      "text/plain": [
       "numpy.ndarray"
      ]
     },
     "execution_count": 14,
     "metadata": {},
     "output_type": "execute_result"
    }
   ],
   "source": [
    "type(gamma_data)"
   ]
  },
  {
   "cell_type": "markdown",
   "id": "98805515",
   "metadata": {},
   "source": [
    "# Wymiar wektora"
   ]
  },
  {
   "cell_type": "code",
   "execution_count": 15,
   "id": "06194795",
   "metadata": {},
   "outputs": [
    {
     "data": {
      "text/plain": [
       "(100,)"
      ]
     },
     "execution_count": 15,
     "metadata": {},
     "output_type": "execute_result"
    }
   ],
   "source": [
    "gamma_data.shape"
   ]
  },
  {
   "cell_type": "code",
   "execution_count": 16,
   "id": "266c99c7",
   "metadata": {},
   "outputs": [
    {
     "data": {
      "text/plain": [
       "0.08975606582610646"
      ]
     },
     "execution_count": 16,
     "metadata": {},
     "output_type": "execute_result"
    }
   ],
   "source": [
    "gamma_data[0]"
   ]
  },
  {
   "cell_type": "code",
   "execution_count": 17,
   "id": "2da7faf4",
   "metadata": {},
   "outputs": [
    {
     "data": {
      "text/plain": [
       "array([5.33223255])"
      ]
     },
     "execution_count": 17,
     "metadata": {},
     "output_type": "execute_result"
    }
   ],
   "source": [
    "gamma_data[gamma_data > 5]"
   ]
  },
  {
   "cell_type": "code",
   "execution_count": null,
   "id": "1ba8c9a4",
   "metadata": {},
   "outputs": [],
   "source": []
  },
  {
   "cell_type": "markdown",
   "id": "10d18561",
   "metadata": {},
   "source": [
    "# Średnia arytmetyczna z próby"
   ]
  },
  {
   "cell_type": "code",
   "execution_count": 18,
   "id": "7643694d",
   "metadata": {},
   "outputs": [
    {
     "data": {
      "text/plain": [
       "0.48930023460475247"
      ]
     },
     "execution_count": 18,
     "metadata": {},
     "output_type": "execute_result"
    }
   ],
   "source": [
    "np.mean(gamma_data)"
   ]
  },
  {
   "cell_type": "code",
   "execution_count": 19,
   "id": "9eebf1d9",
   "metadata": {},
   "outputs": [
    {
     "data": {
      "text/plain": [
       "48.93002346047525"
      ]
     },
     "execution_count": 19,
     "metadata": {},
     "output_type": "execute_result"
    }
   ],
   "source": [
    "np.sum(gamma_data)"
   ]
  },
  {
   "cell_type": "code",
   "execution_count": 20,
   "id": "f3e5d11c",
   "metadata": {},
   "outputs": [
    {
     "data": {
      "text/plain": [
       "0.48930023460475247"
      ]
     },
     "execution_count": 20,
     "metadata": {},
     "output_type": "execute_result"
    }
   ],
   "source": [
    "np.sum(gamma_data)/len(gamma_data)"
   ]
  },
  {
   "cell_type": "markdown",
   "id": "2cc0c29a",
   "metadata": {},
   "source": [
    "# Mediana z próby"
   ]
  },
  {
   "cell_type": "code",
   "execution_count": 21,
   "id": "36deceda",
   "metadata": {},
   "outputs": [
    {
     "data": {
      "text/plain": [
       "0.20953491645190137"
      ]
     },
     "execution_count": 21,
     "metadata": {},
     "output_type": "execute_result"
    }
   ],
   "source": [
    "np.median(gamma_data)"
   ]
  },
  {
   "cell_type": "markdown",
   "id": "d83150e2",
   "metadata": {},
   "source": [
    "# Odchylenie standardowe"
   ]
  },
  {
   "cell_type": "code",
   "execution_count": 22,
   "id": "1f68db82",
   "metadata": {},
   "outputs": [
    {
     "data": {
      "text/plain": [
       "0.7535527540343946"
      ]
     },
     "execution_count": 22,
     "metadata": {},
     "output_type": "execute_result"
    }
   ],
   "source": [
    "np.std(gamma_data)"
   ]
  },
  {
   "cell_type": "code",
   "execution_count": 23,
   "id": "8dc877a6",
   "metadata": {},
   "outputs": [
    {
     "data": {
      "text/plain": [
       "0.5678417531128208"
      ]
     },
     "execution_count": 23,
     "metadata": {},
     "output_type": "execute_result"
    }
   ],
   "source": [
    "np.std(gamma_data)**2"
   ]
  },
  {
   "cell_type": "code",
   "execution_count": 24,
   "id": "76fd6230",
   "metadata": {},
   "outputs": [
    {
     "data": {
      "text/plain": [
       "0.5678417531128208"
      ]
     },
     "execution_count": 24,
     "metadata": {},
     "output_type": "execute_result"
    }
   ],
   "source": [
    "np.var(gamma_data)"
   ]
  },
  {
   "cell_type": "markdown",
   "id": "8e586ecf",
   "metadata": {},
   "source": [
    "# Wariancja z próby"
   ]
  },
  {
   "cell_type": "code",
   "execution_count": 25,
   "id": "d20cf43a",
   "metadata": {},
   "outputs": [
    {
     "data": {
      "text/plain": [
       "array([1.59635543e-01, 2.26180175e-01, 1.75033249e-01, 5.13851392e-03,\n",
       "       2.23911785e-02, 2.26793222e-01, 2.35464405e-01, 1.61406080e-01,\n",
       "       1.43580276e-01, 2.48782209e+00, 1.68302103e-01, 1.85482906e-01,\n",
       "       4.15386365e-01, 6.99716179e-02, 1.49004734e-01, 5.38439879e-02,\n",
       "       1.57564845e+00, 4.68447411e-02, 7.34432591e-02, 4.13583681e+00,\n",
       "       1.72859433e-01, 4.12378277e-02, 1.93768285e-01, 2.11078698e-01,\n",
       "       1.97486854e-01, 2.27547803e-01, 2.36045043e-01, 5.27462992e-02,\n",
       "       1.39792995e-01, 6.59867055e-04, 1.65439905e-01, 2.35756041e-01,\n",
       "       1.54585855e-01, 8.41729898e-02, 1.60404095e-02, 1.03430867e-01,\n",
       "       1.89179260e-03, 1.63645654e-01, 2.32367280e-01, 1.28774354e-01,\n",
       "       1.14780052e-01, 8.12038056e-02, 1.15088902e-01, 1.31497954e+00,\n",
       "       5.90633765e-01, 1.25963133e-01, 5.34126310e+00, 1.65341112e-01,\n",
       "       2.37887059e-01, 2.17060908e-01, 9.77087844e-01, 3.93025619e-02,\n",
       "       4.54487444e-05, 2.05809380e-01, 6.93225137e-02, 1.61234262e-02,\n",
       "       9.99783381e-02, 1.37288794e-01, 2.26982123e-02, 1.57803096e-01,\n",
       "       2.31481974e-02, 1.01433110e-01, 2.24013179e-01, 1.91259868e-02,\n",
       "       1.75628059e-01, 1.83408705e-01, 2.38585476e-01, 1.75449405e-03,\n",
       "       7.27247416e-02, 2.89982659e-02, 4.24267760e-02, 2.18943975e-01,\n",
       "       2.37333303e-01, 3.88470357e-01, 2.12425592e-01, 1.46189928e-01,\n",
       "       1.69958205e+00, 2.38225615e-01, 2.37995325e-01, 2.33714528e-01,\n",
       "       5.08431110e-03, 2.13784363e-02, 3.08458218e-05, 1.49845579e-01,\n",
       "       1.96520678e-01, 2.34539934e+01, 1.14631558e+00, 2.33514648e-01,\n",
       "       1.72752367e-01, 2.31055970e-02, 7.53874888e-02, 8.90807706e-02,\n",
       "       5.54991564e-02, 1.58391792e-02, 8.20843126e-02, 7.63641645e-05,\n",
       "       3.92494547e-01, 9.64931439e-01, 1.41601189e+00, 5.99021238e-02])"
      ]
     },
     "execution_count": 25,
     "metadata": {},
     "output_type": "execute_result"
    }
   ],
   "source": [
    "(gamma_data - np.mean(gamma_data))**2"
   ]
  },
  {
   "cell_type": "code",
   "execution_count": 26,
   "id": "b87f2f67",
   "metadata": {},
   "outputs": [
    {
     "data": {
      "text/plain": [
       "0.5678417531128208"
      ]
     },
     "execution_count": 26,
     "metadata": {},
     "output_type": "execute_result"
    }
   ],
   "source": [
    "np.sum((gamma_data - np.mean(gamma_data))**2)/len(gamma_data)"
   ]
  },
  {
   "cell_type": "markdown",
   "id": "88944ee8",
   "metadata": {},
   "source": [
    "# Empiryczna dystrybuata z próby"
   ]
  },
  {
   "cell_type": "code",
   "execution_count": 27,
   "id": "0a4f8385",
   "metadata": {
    "scrolled": true
   },
   "outputs": [
    {
     "data": {
      "image/png": "[encoded data removed]",
      "text/plain": [
       "<Figure size 432x288 with 1 Axes>"
      ]
     },
     "metadata": {
      "needs_background": "light"
     },
     "output_type": "display_data"
    }
   ],
   "source": [
    "x = np.sort(gamma_data)\n",
    "y = np.arange(1, len(x) +1)/len(x)\n",
    "_ = plt.plot(x, y, marker='.', linestyle=\"none\")\n",
    "_ = plt.xlabel('wartości zmiennej gamma')\n",
    "_ = plt.ylabel('Prawdopodobieństwo')\n",
    "plt.margins(0.02)\n",
    "plt.title('Empiryczna dystrybyanta z próby')\n",
    "plt.show()"
   ]
  },
  {
   "cell_type": "code",
   "execution_count": 28,
   "id": "1a4f90ee",
   "metadata": {
    "scrolled": true
   },
   "outputs": [
    {
     "data": {
      "image/png": "[encoded data removed]",
      "text/plain": [
       "<Figure size 432x288 with 1 Axes>"
      ]
     },
     "metadata": {
      "needs_background": "light"
     },
     "output_type": "display_data"
    }
   ],
   "source": [
    "_ = plt.hist(gamma_data,  orientation = 'horizontal')\n",
    "_ = plt.xlabel('Ilośc')\n",
    "_ = plt.ylabel('wartość gamma')\n",
    "plt.title('Histogram')\n",
    "plt.show()"
   ]
  },
  {
   "cell_type": "code",
   "execution_count": 31,
   "id": "a50c5f95",
   "metadata": {},
   "outputs": [
    {
     "data": {
      "image/png": "[encoded data removed]",
      "text/plain": [
       "<Figure size 432x288 with 1 Axes>"
      ]
     },
     "metadata": {
      "needs_background": "light"
     },
     "output_type": "display_data"
    }
   ],
   "source": [
    "bin_xd = [0, 1, 2, 3, 4, 5, 6]\n",
    "_ = plt.hist(gamma_data, bins = bin_xd, density=True, label='symulacje')\n",
    "_ = plt.xlabel('wartość gamma')\n",
    "_ = plt.ylabel('Częstość')\n",
    "plt.title('Histogram i gęstość gamma')\n",
    "plt.yticks([0, 0.2, 0.4, 0.5, 0.6, 0.7, 0.8, 0.9, 1])\n",
    "xx = np.linspace (0, 6, 100) \n",
    "yy = stats.gamma.pdf(xx, a=0.5, scale=1)\n",
    "plt.ylim(0, 1)\n",
    "plt.plot(xx, yy, label='gamma(0.5)')\n",
    "plt.legend()\n",
    "plt.show()"
   ]
  },
  {
   "cell_type": "code",
   "execution_count": 33,
   "id": "f079386f",
   "metadata": {},
   "outputs": [
    {
     "data": {
      "image/png": "[encoded data removed]",
      "text/plain": [
       "<Figure size 432x288 with 1 Axes>"
      ]
     },
     "metadata": {
      "needs_background": "light"
     },
     "output_type": "display_data"
    }
   ],
   "source": [
    "xx = np.linspace (0, 6, 100) \n",
    "yy = stats.gamma.pdf(xx, a=0.5, scale=1)\n",
    "plt.plot(xx, yy)\n",
    "plt.show()"
   ]
  },
  {
   "cell_type": "code",
   "execution_count": 34,
   "id": "caecb37c",
   "metadata": {},
   "outputs": [
    {
     "data": {
      "image/png": "[encoded data removed]",
      "text/plain": [
       "<Figure size 432x288 with 1 Axes>"
      ]
     },
     "metadata": {
      "needs_background": "light"
     },
     "output_type": "display_data"
    }
   ],
   "source": [
    "bin_xd = [0, 1, 2, 3, 4, 5, 6]\n",
    "_ = plt.hist(gamma_data, bins = bin_xd)\n",
    "_ = plt.xlabel('wartość gamma')\n",
    "_ = plt.ylabel('Częstość')\n",
    "plt.title('Histogram')\n",
    "plt.yticks([0, 2000, 4000, 6000, 8000, 10000],['0t','2t','4t','6t','8t','10t'])\n",
    "plt.show()"
   ]
  },
  {
   "cell_type": "code",
   "execution_count": 35,
   "id": "df04cc8a",
   "metadata": {},
   "outputs": [
    {
     "name": "stdout",
     "output_type": "stream",
     "text": [
      "Help on function hist in module matplotlib.pyplot:\n",
      "\n",
      "hist(x, bins=None, range=None, density=False, weights=None, cumulative=False, bottom=None, histtype='bar', align='mid', orientation='vertical', rwidth=None, log=False, color=None, label=None, stacked=False, *, data=None, **kwargs)\n",
      "    Plot a histogram.\n",
      "    \n",
      "    Compute and draw the histogram of *x*.  The return value is a tuple\n",
      "    (*n*, *bins*, *patches*) or ([*n0*, *n1*, ...], *bins*, [*patches0*,\n",
      "    *patches1*, ...]) if the input contains multiple data.  See the\n",
      "    documentation of the *weights* parameter to draw a histogram of\n",
      "    already-binned data.\n",
      "    \n",
      "    Multiple data can be provided via *x* as a list of datasets\n",
      "    of potentially different length ([*x0*, *x1*, ...]), or as\n",
      "    a 2D ndarray in which each column is a dataset.  Note that\n",
      "    the ndarray form is transposed relative to the list form.\n",
      "    \n",
      "    Masked arrays are not supported.\n",
      "    \n",
      "    The *bins*, *range*, *weights*, and *density* parameters behave as in\n",
      "    `numpy.histogram`.\n",
      "    \n",
      "    Parameters\n",
      "    ----------\n",
      "    x : (n,) array or sequence of (n,) arrays\n",
      "        Input values, this takes either a single array or a sequence of\n",
      "        arrays which are not required to be of the same length.\n",
      "    \n",
      "    bins : int or sequence or str, default: :rc:`hist.bins`\n",
      "        If *bins* is an integer, it defines the number of equal-width bins\n",
      "        in the range.\n",
      "    \n",
      "        If *bins* is a sequence, it defines the bin edges, including the\n",
      "        left edge of the first bin and the right edge of the last bin;\n",
      "        in this case, bins may be unequally spaced.  All but the last\n",
      "        (righthand-most) bin is half-open.  In other words, if *bins* is::\n",
      "    \n",
      "            [1, 2, 3, 4]\n",
      "    \n",
      "        then the first bin is ``[1, 2)`` (including 1, but excluding 2) and\n",
      "        the second ``[2, 3)``.  The last bin, however, is ``[3, 4]``, which\n",
      "        *includes* 4.\n",
      "    \n",
      "        If *bins* is a string, it is one of the binning strategies\n",
      "        supported by `numpy.histogram_bin_edges`: 'auto', 'fd', 'doane',\n",
      "        'scott', 'stone', 'rice', 'sturges', or 'sqrt'.\n",
      "    \n",
      "    range : tuple or None, default: None\n",
      "        The lower and upper range of the bins. Lower and upper outliers\n",
      "        are ignored. If not provided, *range* is ``(x.min(), x.max())``.\n",
      "        Range has no effect if *bins* is a sequence.\n",
      "    \n",
      "        If *bins* is a sequence or *range* is specified, autoscaling\n",
      "        is based on the specified bin range instead of the\n",
      "        range of x.\n",
      "    \n",
      "    density : bool, default: False\n",
      "        If ``True``, draw and return a probability density: each bin\n",
      "        will display the bin's raw count divided by the total number of\n",
      "        counts *and the bin width*\n",
      "        (``density = counts / (sum(counts) * np.diff(bins))``),\n",
      "        so that the area under the histogram integrates to 1\n",
      "        (``np.sum(density * np.diff(bins)) == 1``).\n",
      "    \n",
      "        If *stacked* is also ``True``, the sum of the histograms is\n",
      "        normalized to 1.\n",
      "    \n",
      "    weights : (n,) array-like or None, default: None\n",
      "        An array of weights, of the same shape as *x*.  Each value in\n",
      "        *x* only contributes its associated weight towards the bin count\n",
      "        (instead of 1).  If *density* is ``True``, the weights are\n",
      "        normalized, so that the integral of the density over the range\n",
      "        remains 1.\n",
      "    \n",
      "        This parameter can be used to draw a histogram of data that has\n",
      "        already been binned, e.g. using `numpy.histogram` (by treating each\n",
      "        bin as a single point with a weight equal to its count) ::\n",
      "    \n",
      "            counts, bins = np.histogram(data)\n",
      "            plt.hist(bins[:-1], bins, weights=counts)\n",
      "    \n",
      "        (or you may alternatively use `~.bar()`).\n",
      "    \n",
      "    cumulative : bool or -1, default: False\n",
      "        If ``True``, then a histogram is computed where each bin gives the\n",
      "        counts in that bin plus all bins for smaller values. The last bin\n",
      "        gives the total number of datapoints.\n",
      "    \n",
      "        If *density* is also ``True`` then the histogram is normalized such\n",
      "        that the last bin equals 1.\n",
      "    \n",
      "        If *cumulative* is a number less than 0 (e.g., -1), the direction\n",
      "        of accumulation is reversed.  In this case, if *density* is also\n",
      "        ``True``, then the histogram is normalized such that the first bin\n",
      "        equals 1.\n",
      "    \n",
      "    bottom : array-like, scalar, or None, default: None\n",
      "        Location of the bottom of each bin, ie. bins are drawn from\n",
      "        ``bottom`` to ``bottom + hist(x, bins)`` If a scalar, the bottom\n",
      "        of each bin is shifted by the same amount. If an array, each bin\n",
      "        is shifted independently and the length of bottom must match the\n",
      "        number of bins. If None, defaults to 0.\n",
      "    \n",
      "    histtype : {'bar', 'barstacked', 'step', 'stepfilled'}, default: 'bar'\n",
      "        The type of histogram to draw.\n",
      "    \n",
      "        - 'bar' is a traditional bar-type histogram.  If multiple data\n",
      "          are given the bars are arranged side by side.\n",
      "        - 'barstacked' is a bar-type histogram where multiple\n",
      "          data are stacked on top of each other.\n",
      "        - 'step' generates a lineplot that is by default unfilled.\n",
      "        - 'stepfilled' generates a lineplot that is by default filled.\n",
      "    \n",
      "    align : {'left', 'mid', 'right'}, default: 'mid'\n",
      "        The horizontal alignment of the histogram bars.\n",
      "    \n",
      "        - 'left': bars are centered on the left bin edges.\n",
      "        - 'mid': bars are centered between the bin edges.\n",
      "        - 'right': bars are centered on the right bin edges.\n",
      "    \n",
      "    orientation : {'vertical', 'horizontal'}, default: 'vertical'\n",
      "        If 'horizontal', `~.Axes.barh` will be used for bar-type histograms\n",
      "        and the *bottom* kwarg will be the left edges.\n",
      "    \n",
      "    rwidth : float or None, default: None\n",
      "        The relative width of the bars as a fraction of the bin width.  If\n",
      "        ``None``, automatically compute the width.\n",
      "    \n",
      "        Ignored if *histtype* is 'step' or 'stepfilled'.\n",
      "    \n",
      "    log : bool, default: False\n",
      "        If ``True``, the histogram axis will be set to a log scale.\n",
      "    \n",
      "    color : color or array-like of colors or None, default: None\n",
      "        Color or sequence of colors, one per dataset.  Default (``None``)\n",
      "        uses the standard line color sequence.\n",
      "    \n",
      "    label : str or None, default: None\n",
      "        String, or sequence of strings to match multiple datasets.  Bar\n",
      "        charts yield multiple patches per dataset, but only the first gets\n",
      "        the label, so that `~.Axes.legend` will work as expected.\n",
      "    \n",
      "    stacked : bool, default: False\n",
      "        If ``True``, multiple data are stacked on top of each other If\n",
      "        ``False`` multiple data are arranged side by side if histtype is\n",
      "        'bar' or on top of each other if histtype is 'step'\n",
      "    \n",
      "    Returns\n",
      "    -------\n",
      "    n : array or list of arrays\n",
      "        The values of the histogram bins. See *density* and *weights* for a\n",
      "        description of the possible semantics.  If input *x* is an array,\n",
      "        then this is an array of length *nbins*. If input is a sequence of\n",
      "        arrays ``[data1, data2, ...]``, then this is a list of arrays with\n",
      "        the values of the histograms for each of the arrays in the same\n",
      "        order.  The dtype of the array *n* (or of its element arrays) will\n",
      "        always be float even if no weighting or normalization is used.\n",
      "    \n",
      "    bins : array\n",
      "        The edges of the bins. Length nbins + 1 (nbins left edges and right\n",
      "        edge of last bin).  Always a single array even when multiple data\n",
      "        sets are passed in.\n",
      "    \n",
      "    patches : `.BarContainer` or list of a single `.Polygon` or list of such objects\n",
      "        Container of individual artists used to create the histogram\n",
      "        or list of such containers if there are multiple input datasets.\n",
      "    \n",
      "    Other Parameters\n",
      "    ----------------\n",
      "    **kwargs\n",
      "        `~matplotlib.patches.Patch` properties\n",
      "    \n",
      "    See Also\n",
      "    --------\n",
      "    hist2d : 2D histograms\n",
      "    \n",
      "    Notes\n",
      "    -----\n",
      "    For large numbers of bins (>1000), 'step' and 'stepfilled' can be\n",
      "    significantly faster than 'bar' and 'barstacked'.\n",
      "    \n",
      "    .. note::\n",
      "        In addition to the above described arguments, this function can take\n",
      "        a *data* keyword argument. If such a *data* argument is given,\n",
      "        the following arguments can also be string ``s``, which is\n",
      "        interpreted as ``data[s]`` (unless this raises an exception):\n",
      "        *x*, *weights*.\n",
      "    \n",
      "        Objects passed as **data** must support item access (``data[s]``) and\n",
      "        membership test (``s in data``).\n",
      "\n"
     ]
    }
   ],
   "source": [
    "help(plt.hist)"
   ]
  },
  {
   "cell_type": "markdown",
   "id": "117b5b4f",
   "metadata": {},
   "source": [
    "# Metoda count i index działa dla listy"
   ]
  },
  {
   "cell_type": "code",
   "execution_count": 36,
   "id": "bdee5c1a",
   "metadata": {},
   "outputs": [
    {
     "ename": "AttributeError",
     "evalue": "'numpy.ndarray' object has no attribute 'count'",
     "output_type": "error",
     "traceback": [
      "\u001b[1;31m---------------------------------------------------------------------------\u001b[0m",
      "\u001b[1;31mAttributeError\u001b[0m                            Traceback (most recent call last)",
      "\u001b[1;32m~\\AppData\\Local\\Temp/ipykernel_16048/2367248635.py\u001b[0m in \u001b[0;36m<module>\u001b[1;34m\u001b[0m\n\u001b[1;32m----> 1\u001b[1;33m \u001b[0mgamma_data\u001b[0m\u001b[1;33m.\u001b[0m\u001b[0mcount\u001b[0m\u001b[1;33m(\u001b[0m\u001b[0mgamma_data\u001b[0m\u001b[1;33m[\u001b[0m\u001b[1;36m100\u001b[0m\u001b[1;33m]\u001b[0m\u001b[1;33m)\u001b[0m\u001b[1;33m\u001b[0m\u001b[1;33m\u001b[0m\u001b[0m\n\u001b[0m",
      "\u001b[1;31mAttributeError\u001b[0m: 'numpy.ndarray' object has no attribute 'count'"
     ]
    }
   ],
   "source": [
    "gamma_data.count(gamma_data[100])"
   ]
  },
  {
   "cell_type": "code",
   "execution_count": 37,
   "id": "48bde821",
   "metadata": {
    "scrolled": true
   },
   "outputs": [
    {
     "ename": "AttributeError",
     "evalue": "'numpy.ndarray' object has no attribute 'index'",
     "output_type": "error",
     "traceback": [
      "\u001b[1;31m---------------------------------------------------------------------------\u001b[0m",
      "\u001b[1;31mAttributeError\u001b[0m                            Traceback (most recent call last)",
      "\u001b[1;32m~\\AppData\\Local\\Temp/ipykernel_16048/53316964.py\u001b[0m in \u001b[0;36m<module>\u001b[1;34m\u001b[0m\n\u001b[1;32m----> 1\u001b[1;33m \u001b[0mgamma_data\u001b[0m\u001b[1;33m.\u001b[0m\u001b[0mindex\u001b[0m\u001b[1;33m(\u001b[0m\u001b[0mmax\u001b[0m\u001b[1;33m(\u001b[0m\u001b[0mgamma_data\u001b[0m\u001b[1;33m)\u001b[0m\u001b[1;33m)\u001b[0m\u001b[1;33m\u001b[0m\u001b[1;33m\u001b[0m\u001b[0m\n\u001b[0m",
      "\u001b[1;31mAttributeError\u001b[0m: 'numpy.ndarray' object has no attribute 'index'"
     ]
    }
   ],
   "source": [
    "gamma_data.index(max(gamma_data))"
   ]
  },
  {
   "cell_type": "code",
   "execution_count": 38,
   "id": "de6b412c",
   "metadata": {},
   "outputs": [
    {
     "data": {
      "text/plain": [
       "8.37727910733894"
      ]
     },
     "execution_count": 38,
     "metadata": {},
     "output_type": "execute_result"
    }
   ],
   "source": [
    "max(gamma_data)"
   ]
  },
  {
   "cell_type": "code",
   "execution_count": 39,
   "id": "374a08ea",
   "metadata": {},
   "outputs": [],
   "source": [
    "a=0.5"
   ]
  },
  {
   "cell_type": "code",
   "execution_count": 40,
   "id": "dec2d046",
   "metadata": {},
   "outputs": [],
   "source": [
    "mean, var, skew, kurt = stats.gamma.stats(a, moments='mvsk')"
   ]
  },
  {
   "cell_type": "code",
   "execution_count": 41,
   "id": "9c475fc7",
   "metadata": {},
   "outputs": [
    {
     "data": {
      "text/plain": [
       "array(0.5)"
      ]
     },
     "execution_count": 41,
     "metadata": {},
     "output_type": "execute_result"
    }
   ],
   "source": [
    "mean"
   ]
  },
  {
   "cell_type": "code",
   "execution_count": 42,
   "id": "c1c3ad8b",
   "metadata": {},
   "outputs": [
    {
     "data": {
      "text/plain": [
       "array(0.5)"
      ]
     },
     "execution_count": 42,
     "metadata": {},
     "output_type": "execute_result"
    }
   ],
   "source": [
    "var"
   ]
  },
  {
   "cell_type": "code",
   "execution_count": 43,
   "id": "f69ee69d",
   "metadata": {},
   "outputs": [
    {
     "data": {
      "text/plain": [
       "array(2.82842712)"
      ]
     },
     "execution_count": 43,
     "metadata": {},
     "output_type": "execute_result"
    }
   ],
   "source": [
    "skew"
   ]
  },
  {
   "cell_type": "code",
   "execution_count": 44,
   "id": "dc29e148",
   "metadata": {},
   "outputs": [
    {
     "data": {
      "text/plain": [
       "array(12.)"
      ]
     },
     "execution_count": 44,
     "metadata": {},
     "output_type": "execute_result"
    }
   ],
   "source": [
    "kurt"
   ]
  },
  {
   "cell_type": "code",
   "execution_count": null,
   "id": "5f4b81a5",
   "metadata": {},
   "outputs": [],
   "source": []
  },
  {
   "cell_type": "code",
   "execution_count": null,
   "id": "bbf61a07",
   "metadata": {},
   "outputs": [],
   "source": []
  },
  {
   "cell_type": "code",
   "execution_count": null,
   "id": "23b5a250",
   "metadata": {},
   "outputs": [],
   "source": []
  },
  {
   "cell_type": "code",
   "execution_count": null,
   "id": "5cee1efb",
   "metadata": {},
   "outputs": [],
   "source": []
  }
 ],
 "metadata": {
  "kernelspec": {
   "display_name": "Python 3 (ipykernel)",
   "language": "python",
   "name": "python3"
  },
  "language_info": {
   "codemirror_mode": {
    "name": "ipython",
    "version": 3
   },
   "file_extension": ".py",
   "mimetype": "text/x-python",
   "name": "python",
   "nbconvert_exporter": "python",
   "pygments_lexer": "ipython3",
   "version": "3.9.7"
  }
 },
 "nbformat": 4,
 "nbformat_minor": 5
}
