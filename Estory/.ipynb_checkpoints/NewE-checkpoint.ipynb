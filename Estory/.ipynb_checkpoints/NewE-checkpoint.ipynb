{
 "cells": [
  {
   "cell_type": "code",
   "execution_count": 12,
   "id": "ced72968",
   "metadata": {},
   "outputs": [],
   "source": [
    "# %matplotlib inline\n",
    "import collections\n",
    "import math\n",
    "import numpy as np\n",
    "import scipy as sp\n",
    "import scipy.stats as stats\n",
    "import matplotlib.pyplot as plt"
   ]
  },
  {
   "cell_type": "markdown",
   "id": "bf911e4f",
   "metadata": {},
   "source": [
    "# Generowanie N próbek z rozkładu Gamma o wielkości n"
   ]
  },
  {
   "cell_type": "code",
   "execution_count": 13,
   "id": "4f216c91",
   "metadata": {},
   "outputs": [],
   "source": [
    "n = 2\n",
    "N = 3\n",
    "ALFA = 0.5 \n",
    "WP = []\n",
    "WNewE = []  \n",
    "for i in range(N):\n",
    "    x = stats.gamma.rvs(a=ALFA, size=n)\n",
    "    WP.append(x)"
   ]
  },
  {
   "cell_type": "markdown",
   "id": "3c92643d",
   "metadata": {},
   "source": [
    "# Wyznaczenie wartości Nowego estymatora"
   ]
  },
  {
   "cell_type": "code",
   "execution_count": 18,
   "id": "d16c1537",
   "metadata": {},
   "outputs": [
    {
     "name": "stdout",
     "output_type": "stream",
     "text": [
      "lnX: [[-1.9478931181965533, -0.7800215429905929]]\n",
      "XlnX: [[-0.2777191904918185, -0.35755886128430636]]\n",
      "S: 0.6009702782099425\n",
      "SlnX: -2.727914661187146\n",
      "SXlnX: -0.6352780517761248\n",
      "NewE: 3.2587086277171844\n"
     ]
    },
    {
     "ename": "IndexError",
     "evalue": "list assignment index out of range",
     "output_type": "error",
     "traceback": [
      "\u001b[1;31m---------------------------------------------------------------------------\u001b[0m",
      "\u001b[1;31mIndexError\u001b[0m                                Traceback (most recent call last)",
      "\u001b[1;32m~\\AppData\\Local\\Temp/ipykernel_22160/4144085270.py\u001b[0m in \u001b[0;36m<module>\u001b[1;34m\u001b[0m\n\u001b[0;32m     16\u001b[0m     \u001b[0mNewE\u001b[0m \u001b[1;33m=\u001b[0m \u001b[1;33m(\u001b[0m\u001b[0mn\u001b[0m\u001b[1;33m*\u001b[0m\u001b[0mS\u001b[0m\u001b[1;33m)\u001b[0m\u001b[1;33m/\u001b[0m\u001b[1;33m(\u001b[0m\u001b[0mn\u001b[0m\u001b[1;33m*\u001b[0m\u001b[0mSXlnX\u001b[0m \u001b[1;33m-\u001b[0m \u001b[0mSlnX\u001b[0m\u001b[1;33m*\u001b[0m\u001b[0mS\u001b[0m\u001b[1;33m)\u001b[0m\u001b[1;33m\u001b[0m\u001b[1;33m\u001b[0m\u001b[0m\n\u001b[0;32m     17\u001b[0m     \u001b[0mprint\u001b[0m\u001b[1;33m(\u001b[0m\u001b[1;34m\"NewE:\"\u001b[0m\u001b[1;33m,\u001b[0m\u001b[0mNewE\u001b[0m\u001b[1;33m)\u001b[0m\u001b[1;33m\u001b[0m\u001b[1;33m\u001b[0m\u001b[0m\n\u001b[1;32m---> 18\u001b[1;33m     \u001b[0mWNewE\u001b[0m\u001b[1;33m[\u001b[0m\u001b[0mj\u001b[0m\u001b[1;33m]\u001b[0m \u001b[1;33m=\u001b[0m \u001b[0mNewE\u001b[0m\u001b[1;33m\u001b[0m\u001b[1;33m\u001b[0m\u001b[0m\n\u001b[0m\u001b[0;32m     19\u001b[0m     \u001b[0mprint\u001b[0m\u001b[1;33m(\u001b[0m\u001b[1;34m\"j = \"\u001b[0m\u001b[1;33m,\u001b[0m\u001b[0mj\u001b[0m\u001b[1;33m)\u001b[0m\u001b[1;33m\u001b[0m\u001b[1;33m\u001b[0m\u001b[0m\n\u001b[0;32m     20\u001b[0m     \u001b[0mprint\u001b[0m\u001b[1;33m(\u001b[0m\u001b[1;34m\"WNewE:\"\u001b[0m\u001b[1;33m,\u001b[0m\u001b[0mWNewE\u001b[0m\u001b[1;33m[\u001b[0m\u001b[0mj\u001b[0m\u001b[1;33m]\u001b[0m\u001b[1;33m)\u001b[0m\u001b[1;33m\u001b[0m\u001b[1;33m\u001b[0m\u001b[0m\n",
      "\u001b[1;31mIndexError\u001b[0m: list assignment index out of range"
     ]
    }
   ],
   "source": [
    "for j in range(N):\n",
    "    lnX = []\n",
    "    for i in range(n):\n",
    "        lnX.append(math.log(WP[j][i]))\n",
    "    print(\"lnX:\",[lnX])    \n",
    "    XlnX = []\n",
    "    for i in range(n):\n",
    "        XlnX.append(WP[j][i]*math.log(WP[j][i]))\n",
    "    print(\"XlnX:\",[XlnX])\n",
    "    S = np.sum(WP[j])\n",
    "    print(\"S:\",S)\n",
    "    SlnX = np.sum(lnX)\n",
    "    print(\"SlnX:\",SlnX)\n",
    "    SXlnX = np.sum(XlnX)\n",
    "    print(\"SXlnX:\",SXlnX)\n",
    "    NewE = (n*S)/(n*SXlnX - SlnX*S)\n",
    "    print(\"NewE:\",NewE)\n",
    "    WNewE[j] = NewE\n",
    "    print(\"j = \",j)\n",
    "    print(\"WNewE:\",WNewE[j])"
   ]
  },
  {
   "cell_type": "code",
   "execution_count": 19,
   "id": "3085641d",
   "metadata": {},
   "outputs": [
    {
     "name": "stdout",
     "output_type": "stream",
     "text": [
      "j= 0\n",
      "j= 1\n",
      "j= 2\n"
     ]
    }
   ],
   "source": [
    "for j in range(N):\n",
    "    print(\"j=\",j)"
   ]
  },
  {
   "cell_type": "code",
   "execution_count": null,
   "id": "bdd7b243",
   "metadata": {},
   "outputs": [],
   "source": [
    "'''\n",
    "print(\"gamma_data:\",[x])\n",
    "print(\"lnX:\",[lnX])\n",
    "print(\"XlnX:\",[XlnX])\n",
    "print(\"lnX[0]:\",math.log(x[0]))\n",
    "print(\"X[0]*ln[0]:\",x[0]*math.log(x[0]))\n",
    "'''"
   ]
  },
  {
   "cell_type": "code",
   "execution_count": null,
   "id": "b19728a2",
   "metadata": {},
   "outputs": [],
   "source": [
    "print(\"WNewE:\",[WNewE])"
   ]
  },
  {
   "cell_type": "code",
   "execution_count": null,
   "id": "ff52bd5f",
   "metadata": {},
   "outputs": [],
   "source": []
  },
  {
   "cell_type": "code",
   "execution_count": null,
   "id": "dc30b527",
   "metadata": {},
   "outputs": [],
   "source": []
  }
 ],
 "metadata": {
  "kernelspec": {
   "display_name": "Python 3 (ipykernel)",
   "language": "python",
   "name": "python3"
  },
  "language_info": {
   "codemirror_mode": {
    "name": "ipython",
    "version": 3
   },
   "file_extension": ".py",
   "mimetype": "text/x-python",
   "name": "python",
   "nbconvert_exporter": "python",
   "pygments_lexer": "ipython3",
   "version": "3.9.7"
  }
 },
 "nbformat": 4,
 "nbformat_minor": 5
}
