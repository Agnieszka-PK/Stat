{
 "cells": [
  {
   "cell_type": "code",
   "execution_count": 1,
   "id": "ced72968",
   "metadata": {
    "scrolled": true
   },
   "outputs": [],
   "source": [
    "# %matplotlib inline\n",
    "import collections\n",
    "import math\n",
    "import numpy as np\n",
    "import scipy as sp\n",
    "import scipy.stats as stats\n",
    "import matplotlib as mpl\n",
    "import matplotlib.pyplot as plt\n",
    "plt.rc('pgf', texsystem='pdflatex')\n",
    "# Install a pip package in the current Jupyter kernel\n",
    "# import sys\n",
    "# !{sys.executable} -m pip install pyqtwebengine --user\n",
    "# !{sys.executable} -m pip install pyqt5 --user\n",
    "# pip3 install PyQt5==5.9.2"
   ]
  },
  {
   "cell_type": "markdown",
   "id": "437fe9ff",
   "metadata": {},
   "source": [
    "# Generowanie N próbek z rozkładu Gamma o wielkości n"
   ]
  },
  {
   "cell_type": "code",
   "execution_count": 2,
   "id": "69facd4d",
   "metadata": {},
   "outputs": [],
   "source": [
    "n = 10\n",
    "N = 10000\n",
    "ALFA = 0.6 \n",
    "WP = []\n",
    "WNewE = []  \n",
    "for i in range(N):\n",
    "    x = stats.gamma.rvs(a=ALFA, size=n)\n",
    "    WP.append(x)\n",
    "WNewEK = []  "
   ]
  },
  {
   "cell_type": "markdown",
   "id": "479f173f",
   "metadata": {},
   "source": [
    "# Wyznaczenie wartości Nowego estymatora i Nowego z korektą"
   ]
  },
  {
   "cell_type": "code",
   "execution_count": 3,
   "id": "1164e7e4",
   "metadata": {},
   "outputs": [],
   "source": [
    "for j in range(N):\n",
    "    lnX = []\n",
    "    for i in range(n):\n",
    "        lnX.append(math.log(WP[j][i]))\n",
    "    XlnX = []\n",
    "    for i in range(n):\n",
    "        XlnX.append(WP[j][i]*math.log(WP[j][i]))\n",
    "    S = np.sum(WP[j])\n",
    "    SlnX = np.sum(lnX)\n",
    "    SXlnX = np.sum(XlnX)\n",
    "    NewE = (n*S)/(n*SXlnX - SlnX*S)\n",
    "    WNewE.append(NewE)\n",
    "    WNewEK.append((n-1)/(n+2)*NewE)"
   ]
  },
  {
   "cell_type": "code",
   "execution_count": 4,
   "id": "93b24377",
   "metadata": {},
   "outputs": [
    {
     "name": "stdout",
     "output_type": "stream",
     "text": [
      "E(WNewE)= 0.8034653586344057\n",
      "Std-NewE= 0.4190567555309192\n",
      "Var(WNewE)= 0.1756085643561006\n",
      "Var(WNewEK)= 0.09877981745030658\n",
      "RWNewE= 0.21700671652032794\n",
      "RWNewEK= 0.09878657234994317\n"
     ]
    }
   ],
   "source": [
    "print(\"E(WNewE)=\",np.mean(WNewE))\n",
    "print(\"Std-NewE=\",np.std(WNewE))\n",
    "print(\"Var(WNewE)=\",np.var(WNewE))\n",
    "print(\"Var(WNewEK)=\",(((n-1)/(n+2))**2)*np.var(WNewE))\n",
    "# print(\"BWNewE=\",np.mean(WNewE) - ALFA)\n",
    "# print(\"BWNewEK=\",np.mean(WNewEK) - ALFA)\n",
    "print(\"RWNewE=\",np.var(WNewE) + (np.mean(WNewE) - ALFA)**2)\n",
    "print(\"RWNewEK=\",np.var(WNewEK) + (np.mean(WNewEK) - ALFA)**2)"
   ]
  },
  {
   "cell_type": "markdown",
   "id": "5a019268",
   "metadata": {},
   "source": [
    "# Boxplots dla NewE i NewEK"
   ]
  },
  {
   "cell_type": "code",
   "execution_count": 5,
   "id": "b055f99e",
   "metadata": {},
   "outputs": [
    {
     "data": {
      "image/png": "[encoded data removed]",
      "text/plain": [
       "<Figure size 432x288 with 1 Axes>"
      ]
     },
     "metadata": {
      "needs_background": "light"
     },
     "output_type": "display_data"
    }
   ],
   "source": [
    "data = [WNewE, WNewEK]\n",
    "# fig = plt.figure(figsize =(5, 4))\n",
    "plt.title('NewE i NewEK')\n",
    "plt.ylim(0, 4)\n",
    "plt.yticks([0, 1, 2, 3, 4])\n",
    "plt.grid()\n",
    "plt.boxplot(data)\n",
    "plt.savefig('C:\\\\Users\\\\123\\\\Documents\\\\DDR\\\\Praca\\\\p1rys.pgf')"
   ]
  },
  {
   "cell_type": "code",
   "execution_count": null,
   "id": "45995edf",
   "metadata": {},
   "outputs": [],
   "source": []
  }
 ],
 "metadata": {
  "kernelspec": {
   "display_name": "Python 3 (ipykernel)",
   "language": "python",
   "name": "python3"
  },
  "language_info": {
   "codemirror_mode": {
    "name": "ipython",
    "version": 3
   },
   "file_extension": ".py",
   "mimetype": "text/x-python",
   "name": "python",
   "nbconvert_exporter": "python",
   "pygments_lexer": "ipython3",
   "version": "3.9.7"
  }
 },
 "nbformat": 4,
 "nbformat_minor": 5
}
