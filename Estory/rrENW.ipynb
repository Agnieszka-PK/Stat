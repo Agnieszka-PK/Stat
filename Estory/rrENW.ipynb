{
 "cells": [
  {
   "cell_type": "code",
   "execution_count": 114,
   "id": "d44d0664",
   "metadata": {},
   "outputs": [],
   "source": [
    "import math\n",
    "import matplotlib.pyplot as plt\n",
    "import numpy as np\n",
    "import scipy.stats as stats\n",
    "import scipy.special as sp\n",
    "import scipy.optimize as opt\n",
    "n = 100\n",
    "ALFA = 0.6 \n",
    "w = 2.3\n",
    "data = stats.gamma.rvs(a=ALFA, size=n)"
   ]
  },
  {
   "cell_type": "markdown",
   "id": "984f0e04",
   "metadata": {},
   "source": [
    "# Wyznaczenie rozwiązania równania g(\\alpha) = ln R(x) metodą bisekcji"
   ]
  },
  {
   "cell_type": "code",
   "execution_count": 115,
   "id": "4a9c5b3e",
   "metadata": {},
   "outputs": [],
   "source": [
    "def g(v):\n",
    "    return math.log(v) - sp.psi(v) - w\n",
    "# Metoda bisekcji\n",
    "iter = 100\n",
    "delta = 0.00001\n",
    "# KONIECZNA WARTOŚĆ w\n",
    "ka = 0.00001\n",
    "kb = 2*ALFA\n",
    "for k in range(1, iter):\n",
    "    v = (ka + kb) / 2\n",
    "    if abs(g(v)) < delta:\n",
    "        break\n",
    "    else:\n",
    "        if g(v) * g(ka) < 0:\n",
    "            kb = v\n",
    "        else:\n",
    "            ka = v"
   ]
  },
  {
   "cell_type": "code",
   "execution_count": 116,
   "id": "87062a47",
   "metadata": {},
   "outputs": [
    {
     "data": {
      "text/plain": [
       "0.2998381288528442"
      ]
     },
     "execution_count": 116,
     "metadata": {},
     "output_type": "execute_result"
    }
   ],
   "source": [
    "v"
   ]
  },
  {
   "cell_type": "markdown",
   "id": "bfb4f339",
   "metadata": {},
   "source": [
    "# Wykres funkcji g(\\alpha) = ln(\\alpha) - Psi(\\alpha)"
   ]
  },
  {
   "cell_type": "code",
   "execution_count": 117,
   "id": "fc493c3c",
   "metadata": {},
   "outputs": [
    {
     "data": {
      "image/png": "[encoded data removed]",
      "text/plain": [
       "<Figure size 432x288 with 1 Axes>"
      ]
     },
     "metadata": {
      "needs_background": "light"
     },
     "output_type": "display_data"
    }
   ],
   "source": [
    "# KONIECZNA WARTOŚĆ w\n",
    "xx = np.linspace(0.1, 4, 1000)\n",
    "yy = []\n",
    "for i in xx:\n",
    "    yy.append(math.log(i) - sp.psi(i))\n",
    "dd = []\n",
    "for i in xx:\n",
    "    dd.append(w)  \n",
    "plt.plot(xx,yy)\n",
    "plt.plot(xx,dd)\n",
    "plt.title(r'g($\\alpha$)')\n",
    "plt.xlabel(r'$\\alpha$')\n",
    "plt.grid()"
   ]
  },
  {
   "cell_type": "markdown",
   "id": "9898c9a3",
   "metadata": {},
   "source": [
    "# Rozwiązanie równania g(\\alpha) = ln R(x) funkcją fsolve"
   ]
  },
  {
   "cell_type": "code",
   "execution_count": 127,
   "id": "355e57a6",
   "metadata": {},
   "outputs": [],
   "source": [
    "x0 = opt.fsolve(g,0.01)"
   ]
  },
  {
   "cell_type": "code",
   "execution_count": 128,
   "id": "90646b0a",
   "metadata": {},
   "outputs": [
    {
     "name": "stdout",
     "output_type": "stream",
     "text": [
      "x0 = [0.29983755] g(x0)+w= [2.3]\n",
      "v = 0.2998381288528442 g(v)+w= 2.299994859650764\n"
     ]
    }
   ],
   "source": [
    "print(\"x0 =\",x0,\"g(x0)+w=\",g(x0)+w)\n",
    "print(\"v =\",v,\"g(v)+w=\",g(v)+w)"
   ]
  },
  {
   "cell_type": "markdown",
   "id": "27cf8615",
   "metadata": {},
   "source": [
    "# Zastosowanie funkcji fsolve wydaje się dokładniejsze niż bisekcja"
   ]
  },
  {
   "cell_type": "code",
   "execution_count": null,
   "id": "802c7db8",
   "metadata": {},
   "outputs": [],
   "source": []
  }
 ],
 "metadata": {
  "kernelspec": {
   "display_name": "Python 3 (ipykernel)",
   "language": "python",
   "name": "python3"
  },
  "language_info": {
   "codemirror_mode": {
    "name": "ipython",
    "version": 3
   },
   "file_extension": ".py",
   "mimetype": "text/x-python",
   "name": "python",
   "nbconvert_exporter": "python",
   "pygments_lexer": "ipython3",
   "version": "3.9.7"
  }
 },
 "nbformat": 4,
 "nbformat_minor": 5
}
