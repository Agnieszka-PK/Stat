{
 "cells": [
  {
   "cell_type": "code",
   "execution_count": 206,
   "id": "ced72968",
   "metadata": {},
   "outputs": [],
   "source": [
    "# %matplotlib inline\n",
    "import collections\n",
    "import math\n",
    "import numpy as np\n",
    "import scipy as sp\n",
    "import scipy.stats as stats\n",
    "import matplotlib.pyplot as plt"
   ]
  },
  {
   "cell_type": "markdown",
   "id": "6ba833bc",
   "metadata": {},
   "source": [
    "# Generowanie próbki z rozkładu Gamma o wielkości size"
   ]
  },
  {
   "cell_type": "code",
   "execution_count": 207,
   "id": "828244ab",
   "metadata": {},
   "outputs": [],
   "source": [
    "gamma_data = stats.gamma.rvs(a=0.5, size=10)    "
   ]
  },
  {
   "cell_type": "code",
   "execution_count": 208,
   "id": "6d71c8ac",
   "metadata": {},
   "outputs": [
    {
     "name": "stdout",
     "output_type": "stream",
     "text": [
      "[array([0.45852663, 0.246352  , 0.11037588, 0.49292078, 0.05403206,\n",
      "       0.46457759, 0.24742741, 0.00873552, 0.36043534, 0.45701897])]\n"
     ]
    }
   ],
   "source": [
    "print([gamma_data])"
   ]
  },
  {
   "cell_type": "markdown",
   "id": "b8e0c98d",
   "metadata": {},
   "source": [
    "# Wyznaczenie wartości Nowego estymatora"
   ]
  },
  {
   "cell_type": "code",
   "execution_count": 209,
   "id": "8aacdeed",
   "metadata": {},
   "outputs": [
    {
     "ename": "TypeError",
     "evalue": "'builtin_function_or_method' object does not support item assignment",
     "output_type": "error",
     "traceback": [
      "\u001b[1;31m---------------------------------------------------------------------------\u001b[0m",
      "\u001b[1;31mTypeError\u001b[0m                                 Traceback (most recent call last)",
      "\u001b[1;32m~\\AppData\\Local\\Temp/ipykernel_9232/1981936221.py\u001b[0m in \u001b[0;36m<module>\u001b[1;34m\u001b[0m\n\u001b[0;32m      1\u001b[0m \u001b[1;32mfor\u001b[0m \u001b[0mi\u001b[0m \u001b[1;32min\u001b[0m \u001b[0mrange\u001b[0m\u001b[1;33m(\u001b[0m\u001b[0mgamma_data\u001b[0m\u001b[1;33m.\u001b[0m\u001b[0msize\u001b[0m\u001b[1;33m)\u001b[0m\u001b[1;33m:\u001b[0m\u001b[1;33m\u001b[0m\u001b[1;33m\u001b[0m\u001b[0m\n\u001b[1;32m----> 2\u001b[1;33m   \u001b[0mlnX\u001b[0m\u001b[1;33m[\u001b[0m\u001b[0mi\u001b[0m\u001b[1;33m]\u001b[0m \u001b[1;33m=\u001b[0m \u001b[0mmath\u001b[0m\u001b[1;33m.\u001b[0m\u001b[0mlog\u001b[0m\u001b[1;33m(\u001b[0m\u001b[0mgamma_data\u001b[0m\u001b[1;33m[\u001b[0m\u001b[0mi\u001b[0m\u001b[1;33m]\u001b[0m\u001b[1;33m)\u001b[0m\u001b[1;33m\u001b[0m\u001b[1;33m\u001b[0m\u001b[0m\n\u001b[0m",
      "\u001b[1;31mTypeError\u001b[0m: 'builtin_function_or_method' object does not support item assignment"
     ]
    }
   ],
   "source": [
    "for i in range(gamma_data.size):\n",
    "  lnX[i] = math.log(gamma_data[i])"
   ]
  },
  {
   "cell_type": "code",
   "execution_count": 200,
   "id": "5e4d79a0",
   "metadata": {},
   "outputs": [
    {
     "name": "stdout",
     "output_type": "stream",
     "text": [
      "Wielkość próbki: 10\n",
      "Wymiar próbki: (10,)\n",
      "Typ elementów próbki: float64\n",
      "Pamięć w Bajtach na element próbki: 8\n"
     ]
    }
   ],
   "source": [
    "print(\"Wielkość próbki:\",gamma_data.size)\n",
    "print(\"Wymiar próbki:\",gamma_data.shape)\n",
    "print(\"Typ elementów próbki:\",gamma_data.dtype)\n",
    "print(\"Pamięć w Bajtach na element próbki:\",gamma_data.itemsize)"
   ]
  },
  {
   "cell_type": "code",
   "execution_count": 201,
   "id": "09951866",
   "metadata": {},
   "outputs": [
    {
     "name": "stdout",
     "output_type": "stream",
     "text": [
      "gamma_data: [array([1.01599176e-01, 1.14674168e+00, 8.20155202e-02, 6.18393926e-02,\n",
      "       4.12065666e-03, 2.18889008e+00, 6.24040647e-01, 6.13742175e-01,\n",
      "       4.57105933e-04, 5.62902632e-05])]\n",
      "lnX: [array([-2.28671986,  0.1369246 , -2.50084678, -2.7832147 , -5.49174275,\n",
      "        0.7833946 , -0.47153977, -0.48818035, -7.69059539, -9.78498898])]\n"
     ]
    }
   ],
   "source": [
    "print(\"gamma_data:\",[gamma_data])\n",
    "print(\"lnX:\",[lnX])"
   ]
  },
  {
   "cell_type": "code",
   "execution_count": 202,
   "id": "644864aa",
   "metadata": {},
   "outputs": [
    {
     "ename": "NameError",
     "evalue": "name 'XlnX' is not defined",
     "output_type": "error",
     "traceback": [
      "\u001b[1;31m---------------------------------------------------------------------------\u001b[0m",
      "\u001b[1;31mNameError\u001b[0m                                 Traceback (most recent call last)",
      "\u001b[1;32m~\\AppData\\Local\\Temp/ipykernel_9232/484048748.py\u001b[0m in \u001b[0;36m<module>\u001b[1;34m\u001b[0m\n\u001b[0;32m      1\u001b[0m \u001b[1;32mfor\u001b[0m \u001b[0mi\u001b[0m \u001b[1;32min\u001b[0m \u001b[0mrange\u001b[0m\u001b[1;33m(\u001b[0m\u001b[0mgamma_data\u001b[0m\u001b[1;33m.\u001b[0m\u001b[0msize\u001b[0m\u001b[1;33m)\u001b[0m\u001b[1;33m:\u001b[0m\u001b[1;33m\u001b[0m\u001b[1;33m\u001b[0m\u001b[0m\n\u001b[1;32m----> 2\u001b[1;33m   \u001b[0mXlnX\u001b[0m\u001b[1;33m[\u001b[0m\u001b[0mi\u001b[0m\u001b[1;33m]\u001b[0m \u001b[1;33m=\u001b[0m \u001b[0mgamma_data\u001b[0m\u001b[1;33m[\u001b[0m\u001b[0mi\u001b[0m\u001b[1;33m]\u001b[0m\u001b[1;33m*\u001b[0m\u001b[0mmath\u001b[0m\u001b[1;33m.\u001b[0m\u001b[0mlog\u001b[0m\u001b[1;33m(\u001b[0m\u001b[0mgamma_data\u001b[0m\u001b[1;33m[\u001b[0m\u001b[0mi\u001b[0m\u001b[1;33m]\u001b[0m\u001b[1;33m)\u001b[0m\u001b[1;33m\u001b[0m\u001b[1;33m\u001b[0m\u001b[0m\n\u001b[0m",
      "\u001b[1;31mNameError\u001b[0m: name 'XlnX' is not defined"
     ]
    }
   ],
   "source": [
    "for i in range(gamma_data.size):\n",
    "  XlnX[i] = gamma_data[i]*math.log(gamma_data[i])"
   ]
  },
  {
   "cell_type": "code",
   "execution_count": null,
   "id": "31bbc916",
   "metadata": {},
   "outputs": [],
   "source": [
    "S = np.sum(gamma_data)\n",
    "SlnX = np.sum(lnX)\n",
    "SXlnX = np.sum(XlnX)\n",
    "NewE = (gamma_data.size*S)/(gamma_data.size*SXlnX - SlnX*S)\n",
    "print(\"NewE:\",NewE)"
   ]
  },
  {
   "cell_type": "code",
   "execution_count": null,
   "id": "f1da3ffb",
   "metadata": {},
   "outputs": [],
   "source": []
  },
  {
   "cell_type": "code",
   "execution_count": null,
   "id": "0190e103",
   "metadata": {},
   "outputs": [],
   "source": []
  }
 ],
 "metadata": {
  "kernelspec": {
   "display_name": "Python 3 (ipykernel)",
   "language": "python",
   "name": "python3"
  },
  "language_info": {
   "codemirror_mode": {
    "name": "ipython",
    "version": 3
   },
   "file_extension": ".py",
   "mimetype": "text/x-python",
   "name": "python",
   "nbconvert_exporter": "python",
   "pygments_lexer": "ipython3",
   "version": "3.9.7"
  }
 },
 "nbformat": 4,
 "nbformat_minor": 5
}
