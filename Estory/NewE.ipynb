{
 "cells": [
  {
   "cell_type": "code",
   "execution_count": 32,
   "id": "ced72968",
   "metadata": {},
   "outputs": [],
   "source": [
    "# %matplotlib inline\n",
    "import collections\n",
    "import math\n",
    "import numpy as np\n",
    "import scipy as sp\n",
    "import scipy.stats as stats\n",
    "import matplotlib.pyplot as plt"
   ]
  },
  {
   "cell_type": "markdown",
   "id": "20e1c54a",
   "metadata": {},
   "source": [
    "# Generowanie N próbek z rozkładu Gamma o wielkości n"
   ]
  },
  {
   "cell_type": "code",
   "execution_count": 33,
   "id": "7ec782b4",
   "metadata": {},
   "outputs": [],
   "source": [
    "n = 4\n",
    "N = 6\n",
    "ALFA = 0.5 \n",
    "WP = []\n",
    "WNewE = []  \n",
    "for i in range(N):\n",
    "    x = stats.gamma.rvs(a=ALFA, size=n)\n",
    "    WP.append(x)"
   ]
  },
  {
   "cell_type": "markdown",
   "id": "3fe3c898",
   "metadata": {},
   "source": [
    "# Wyznaczenie wartości Nowego estymatora"
   ]
  },
  {
   "cell_type": "code",
   "execution_count": 34,
   "id": "425e7e95",
   "metadata": {},
   "outputs": [
    {
     "name": "stdout",
     "output_type": "stream",
     "text": [
      "lnX: [[-1.6340166744185025, -0.09092289408401094, 0.6237699005145676, -2.0701915521961003]]\n",
      "XlnX: [[-0.31886882317999626, -0.08302061375860409, 1.1639229730009215, -0.2611787051465646]]\n",
      "S: 3.1003431346983863\n",
      "SlnX: -3.171361220184046\n",
      "SXlnX: 0.5008548309157566\n",
      "NewE: 1.047791336658417\n",
      "lnX: [[-2.9422454513437244, 0.7469512967560636, 0.5701911626311645, -3.3306508034977447]]\n",
      "XlnX: [[-0.15519507537802654, 1.5764823469655591, 1.008443004092756, -0.11913677428847022]]\n",
      "S: 3.9676778233172314\n",
      "SlnX: -4.955753795454241\n",
      "SXlnX: 2.310593501391818\n",
      "NewE: 0.549060607105606\n",
      "lnX: [[-0.6694329545763347, -1.0980485269600586, -1.6985221447335688, -1.3192636257644348]]\n",
      "XlnX: [[-0.3427488842025408, -0.3662225797336052, -0.31075091677882355, -0.35268149701212714]]\n",
      "S: 1.2958059183795152\n",
      "SlnX: -4.785267252034396\n",
      "SXlnX: -1.3724038777270966\n",
      "NewE: 7.288385533995612\n",
      "lnX: [[-1.0465908402167483, 0.14074471808624353, -0.0005942688341321143, -1.860474836310276]]\n",
      "XlnX: [[-0.3674923498642637, 0.16201557255311133, -0.0005939157835987482, -0.28948751967570374]]\n",
      "S: 2.6572681628965347\n",
      "SlnX: -2.766915227274913\n",
      "SXlnX: -0.49555821277045486\n",
      "NewE: 1.9792683564781226\n",
      "lnX: [[-0.9008960099240415, 0.7217929710785548, -1.4827456927039318, -0.5170641673503871]]\n",
      "XlnX: [[-0.36594894338954004, 1.4855365887484446, -0.3366033227015289, -0.3083090886212633]]\n",
      "S: 3.287607634588058\n",
      "SlnX: -2.1789128988998057\n",
      "SXlnX: 0.4746752340361125\n",
      "NewE: 1.4511441806466754\n",
      "lnX: [[-2.824822693391319, -1.9321212995628227, -2.6141172575854266, -0.21150270066148477]]\n",
      "XlnX: [[-0.16756614767794514, -0.27984965084654556, -0.19143809509022205, -0.17118332646625492]]\n",
      "S: 1.0867592963439359\n",
      "SlnX: -7.582563951201053\n",
      "SXlnX: -0.8100372200809677\n",
      "NewE: 0.8693599728432208\n",
      "WNewE: [1.047791336658417, 0.549060607105606, 7.288385533995612, 1.9792683564781226, 1.4511441806466754, 0.8693599728432208]\n"
     ]
    }
   ],
   "source": [
    "for j in range(N):\n",
    "    lnX = []\n",
    "    for i in range(n):\n",
    "        lnX.append(math.log(WP[j][i]))\n",
    "    print(\"lnX:\",[lnX])    \n",
    "    XlnX = []\n",
    "    for i in range(n):\n",
    "        XlnX.append(WP[j][i]*math.log(WP[j][i]))\n",
    "    print(\"XlnX:\",[XlnX])\n",
    "    S = np.sum(WP[j])\n",
    "    print(\"S:\",S)\n",
    "    SlnX = np.sum(lnX)\n",
    "    print(\"SlnX:\",SlnX)\n",
    "    SXlnX = np.sum(XlnX)\n",
    "    print(\"SXlnX:\",SXlnX)\n",
    "    NewE = (n*S)/(n*SXlnX - SlnX*S)\n",
    "    print(\"NewE:\",NewE)\n",
    "    WNewE.append(NewE)\n",
    "print(\"WNewE:\",WNewE)"
   ]
  },
  {
   "cell_type": "code",
   "execution_count": 36,
   "id": "475dca9b",
   "metadata": {},
   "outputs": [
    {
     "name": "stdout",
     "output_type": "stream",
     "text": [
      "E(WNewE)= 2.1975016646212757\n",
      "Std-NewE= 2.3210962192424915\n",
      "Var(WNewE)= 5.3874876589817875\n"
     ]
    }
   ],
   "source": [
    "print(\"E(WNewE)=\",np.mean(WNewE))\n",
    "print(\"Std-NewE=\",np.std(WNewE))\n",
    "print(\"Var(WNewE)=\",np.var(WNewE))"
   ]
  },
  {
   "cell_type": "code",
   "execution_count": null,
   "id": "a7f970bc",
   "metadata": {},
   "outputs": [],
   "source": []
  }
 ],
 "metadata": {
  "kernelspec": {
   "display_name": "Python 3 (ipykernel)",
   "language": "python",
   "name": "python3"
  },
  "language_info": {
   "codemirror_mode": {
    "name": "ipython",
    "version": 3
   },
   "file_extension": ".py",
   "mimetype": "text/x-python",
   "name": "python",
   "nbconvert_exporter": "python",
   "pygments_lexer": "ipython3",
   "version": "3.9.7"
  }
 },
 "nbformat": 4,
 "nbformat_minor": 5
}
