{
 "cells": [
  {
   "cell_type": "markdown",
   "id": "11b810e7",
   "metadata": {},
   "source": [
    "# Porównanie estymatorów parametru kształtu dla rozkładu Gamma"
   ]
  },
  {
   "cell_type": "code",
   "execution_count": 167,
   "id": "d44d0664",
   "metadata": {},
   "outputs": [],
   "source": [
    "import math\n",
    "import collections\n",
    "import statistics as st\n",
    "import matplotlib as mpl\n",
    "import matplotlib.pyplot as plt\n",
    "import numpy as np\n",
    "import scipy.stats as stats\n",
    "import scipy.special as spc\n",
    "import scipy.optimize as opt\n",
    "# Pakiet do tabel\n",
    "# !pip install tabulate\n",
    "import tabulate\n",
    "n = 100\n",
    "ALFA = 0.6 "
   ]
  },
  {
   "cell_type": "markdown",
   "id": "60d83be0",
   "metadata": {},
   "source": [
    "# Wyznaczenie statystyki R(x) = śr_art(x)/śr_geom(x)"
   ]
  },
  {
   "cell_type": "code",
   "execution_count": 156,
   "id": "a50bede6",
   "metadata": {},
   "outputs": [
    {
     "data": {
      "text/plain": [
       "0.8441454490216934"
      ]
     },
     "execution_count": 156,
     "metadata": {},
     "output_type": "execute_result"
    }
   ],
   "source": [
    "x = stats.gamma.rvs(a=ALFA, size=n)\n",
    "Rx = st.mean(x)/st.geometric_mean(x)\n",
    "lRx = math.log(Rx)\n",
    "lRx"
   ]
  },
  {
   "cell_type": "markdown",
   "id": "bfb4f339",
   "metadata": {},
   "source": [
    "# Wykres funkcji g(\\alpha) = ln(\\alpha) - Psi(\\alpha)"
   ]
  },
  {
   "cell_type": "code",
   "execution_count": 157,
   "id": "fc493c3c",
   "metadata": {},
   "outputs": [
    {
     "data": {
      "image/png": "[encoded data removed]",
      "text/plain": [
       "<Figure size 432x288 with 1 Axes>"
      ]
     },
     "metadata": {
      "needs_background": "light"
     },
     "output_type": "display_data"
    }
   ],
   "source": [
    "# KONIECZNA WARTOŚĆ w\n",
    "xx = np.linspace(0.1, 4, 1000)\n",
    "yy = []\n",
    "for i in xx:\n",
    "    yy.append(math.log(i) - sp.psi(i))\n",
    "dd = []\n",
    "for i in xx:\n",
    "    dd.append(lRx)  \n",
    "plt.plot(xx,yy, label=r'g($\\alpha$)=ln($\\alpha$)-Psi($\\alpha$)')\n",
    "plt.plot(xx,dd, label=r'ln(R(x)), x $\\sim$ $\\Gamma$($\\alpha$,1)')\n",
    "plt.title(r'Rozwiazanie rownania g($\\alpha$)=R(x)')\n",
    "plt.xlabel(r'$\\alpha$')\n",
    "plt.legend()\n",
    "plt.grid()\n",
    "plt.savefig(\"C:\\\\Users\\\\123\\\\Documents\\\\DDR\\\\Praca\\\\gR.pgf\", bbox_inches='tight')\n",
    "plt.show()\n",
    "plt.close()"
   ]
  },
  {
   "cell_type": "markdown",
   "id": "984f0e04",
   "metadata": {},
   "source": [
    "# Wyznaczenie rozwiązania równania g(\\alpha) = ln R(x) metodą bisekcji"
   ]
  },
  {
   "cell_type": "code",
   "execution_count": 158,
   "id": "4a9c5b3e",
   "metadata": {},
   "outputs": [],
   "source": [
    "def g(v):\n",
    "    return math.log(v) - sp.psi(v) - lRx\n",
    "# Metoda bisekcji\n",
    "iter = 100\n",
    "delta = 0.00001\n",
    "# KONIECZNA WARTOŚĆ lRx\n",
    "ka = 0.00001\n",
    "kb = 2*ALFA\n",
    "for k in range(1, iter):\n",
    "    v = (ka + kb) / 2\n",
    "    if abs(g(v)) < delta:\n",
    "        break\n",
    "    else:\n",
    "        if g(v) * g(ka) < 0:\n",
    "            kb = v\n",
    "        else:\n",
    "            ka = v"
   ]
  },
  {
   "cell_type": "markdown",
   "id": "9898c9a3",
   "metadata": {},
   "source": [
    "# Wyznaczenie Estymatorów parametru kształtu"
   ]
  },
  {
   "cell_type": "code",
   "execution_count": 160,
   "id": "355e57a6",
   "metadata": {},
   "outputs": [],
   "source": [
    "# Wyznaczenie Estymatora Największej Wiarogodności\n",
    "eNW = opt.fsolve(g,0.01)\n",
    "def gn(v):\n",
    "    return  sp.psi(n*v) - sp.psi(v) - math.log(n) - lRx\n",
    "# Wyznaczenie Estymatora Niezmienniczego Największej Wiarogodności\n",
    "eNNW = opt.fsolve(gn,0.01)\n",
    "lnX = []\n",
    "for i in range(n):\n",
    "    lnX.append(math.log(x[i]))\n",
    "XlnX = []\n",
    "for i in range(n):\n",
    "    XlnX.append(x[i]*math.log(x[i]))\n",
    "S = np.sum(x)\n",
    "SlnX = np.sum(lnX)\n",
    "SXlnX = np.sum(XlnX)\n",
    "# Wyznaczenie Nowego Estymatora\n",
    "NewE = (n*S)/(n*SXlnX - SlnX*S)"
   ]
  },
  {
   "cell_type": "code",
   "execution_count": 163,
   "id": "90646b0a",
   "metadata": {
    "scrolled": true
   },
   "outputs": [
    {
     "name": "stdout",
     "output_type": "stream",
     "text": [
      "Pierwiastekiem równiania z fsolve() jest x0 = [0.71396146] g(eNW)= [-1.11022302e-16]\n",
      "Pierwiastekiem równiania z Bisekcji jest v = 0.7139597388458254 g(v)= 2.3105154783875648e-06\n",
      "--------------------------------------------------------------------\n",
      "Estymator Największej Wiarogodności eNW = [0.71396146] , g(eNW)= [-1.11022302e-16]\n",
      "Estymator Niezmienniczy Największej Wiarogodności eNNW = [0.70874998] , g(eNNW)= [3.33066907e-16]\n",
      "Nowy Estymator NewE = 0.7225614307705657\n"
     ]
    }
   ],
   "source": [
    "print(\"Pierwiastekiem równiania z fsolve() jest x0 =\",eNW,\"g(eNW)=\",g(eNW))\n",
    "print(\"Pierwiastekiem równiania z Bisekcji jest v =\",v,\"g(v)=\",g(v))\n",
    "print(\"--------------------------------------------------------------------\")\n",
    "print(\"Estymator Największej Wiarogodności eNW =\",eNW,\", g(eNW)=\",g(eNW))\n",
    "print(\"Estymator Niezmienniczy Największej Wiarogodności eNNW =\",eNNW,\", g(eNNW)=\",gn(eNNW))\n",
    "print(\"Nowy Estymator NewE =\",NewE)"
   ]
  },
  {
   "cell_type": "code",
   "execution_count": 168,
   "id": "ee9a48b9",
   "metadata": {},
   "outputs": [
    {
     "ename": "TypeError",
     "evalue": "'module' object is not callable",
     "output_type": "error",
     "traceback": [
      "\u001b[1;31m---------------------------------------------------------------------------\u001b[0m",
      "\u001b[1;31mTypeError\u001b[0m                                 Traceback (most recent call last)",
      "\u001b[1;32m~\\AppData\\Local\\Temp/ipykernel_21672/1739977688.py\u001b[0m in \u001b[0;36m<module>\u001b[1;34m\u001b[0m\n\u001b[0;32m      1\u001b[0m \u001b[0mtable\u001b[0m \u001b[1;33m=\u001b[0m \u001b[1;33m[\u001b[0m\u001b[1;33m[\u001b[0m\u001b[1;34m'First Name'\u001b[0m\u001b[1;33m,\u001b[0m \u001b[1;34m'Last Name'\u001b[0m\u001b[1;33m,\u001b[0m \u001b[1;34m'Age'\u001b[0m\u001b[1;33m]\u001b[0m\u001b[1;33m,\u001b[0m \u001b[1;33m[\u001b[0m\u001b[1;34m'John'\u001b[0m\u001b[1;33m,\u001b[0m \u001b[1;34m'Smith'\u001b[0m\u001b[1;33m,\u001b[0m \u001b[1;36m39\u001b[0m\u001b[1;33m]\u001b[0m\u001b[1;33m,\u001b[0m \u001b[1;33m[\u001b[0m\u001b[1;34m'Mary'\u001b[0m\u001b[1;33m,\u001b[0m \u001b[1;34m'Jane'\u001b[0m\u001b[1;33m,\u001b[0m \u001b[1;36m25\u001b[0m\u001b[1;33m]\u001b[0m\u001b[1;33m,\u001b[0m \u001b[1;33m[\u001b[0m\u001b[1;34m'Jennifer'\u001b[0m\u001b[1;33m,\u001b[0m \u001b[1;34m'Doe'\u001b[0m\u001b[1;33m,\u001b[0m \u001b[1;36m28\u001b[0m\u001b[1;33m]\u001b[0m\u001b[1;33m]\u001b[0m\u001b[1;33m\u001b[0m\u001b[1;33m\u001b[0m\u001b[0m\n\u001b[1;32m----> 2\u001b[1;33m \u001b[0mprint\u001b[0m\u001b[1;33m(\u001b[0m\u001b[0mtabulate\u001b[0m\u001b[1;33m(\u001b[0m\u001b[0mtable\u001b[0m\u001b[1;33m)\u001b[0m\u001b[1;33m)\u001b[0m\u001b[1;33m\u001b[0m\u001b[1;33m\u001b[0m\u001b[0m\n\u001b[0m",
      "\u001b[1;31mTypeError\u001b[0m: 'module' object is not callable"
     ]
    }
   ],
   "source": [
    "table = [['First Name', 'Last Name', 'Age'], ['John', 'Smith', 39], ['Mary', 'Jane', 25], ['Jennifer', 'Doe', 28]]\n",
    "print(tabulate(table))"
   ]
  },
  {
   "cell_type": "code",
   "execution_count": 169,
   "id": "65fa6815",
   "metadata": {},
   "outputs": [
    {
     "ename": "TypeError",
     "evalue": "'module' object is not callable",
     "output_type": "error",
     "traceback": [
      "\u001b[1;31m---------------------------------------------------------------------------\u001b[0m",
      "\u001b[1;31mTypeError\u001b[0m                                 Traceback (most recent call last)",
      "\u001b[1;32m~\\AppData\\Local\\Temp/ipykernel_21672/327022299.py\u001b[0m in \u001b[0;36m<module>\u001b[1;34m\u001b[0m\n\u001b[0;32m      1\u001b[0m \u001b[0minfo\u001b[0m \u001b[1;33m=\u001b[0m \u001b[1;33m{\u001b[0m\u001b[1;34m'First Name'\u001b[0m\u001b[1;33m:\u001b[0m \u001b[1;33m[\u001b[0m\u001b[1;34m'John'\u001b[0m\u001b[1;33m,\u001b[0m \u001b[1;34m'Mary'\u001b[0m\u001b[1;33m,\u001b[0m \u001b[1;34m'Jennifer'\u001b[0m\u001b[1;33m]\u001b[0m\u001b[1;33m,\u001b[0m \u001b[1;34m'Last Name'\u001b[0m\u001b[1;33m:\u001b[0m \u001b[1;33m[\u001b[0m\u001b[1;34m'Smith'\u001b[0m\u001b[1;33m,\u001b[0m \u001b[1;34m'Jane'\u001b[0m\u001b[1;33m,\u001b[0m \u001b[1;34m'Doe'\u001b[0m\u001b[1;33m]\u001b[0m\u001b[1;33m,\u001b[0m \u001b[1;34m'Age'\u001b[0m\u001b[1;33m:\u001b[0m \u001b[1;33m[\u001b[0m\u001b[1;36m39\u001b[0m\u001b[1;33m,\u001b[0m \u001b[1;36m25\u001b[0m\u001b[1;33m,\u001b[0m \u001b[1;36m28\u001b[0m\u001b[1;33m]\u001b[0m\u001b[1;33m}\u001b[0m\u001b[1;33m\u001b[0m\u001b[1;33m\u001b[0m\u001b[0m\n\u001b[1;32m----> 2\u001b[1;33m \u001b[0mprint\u001b[0m\u001b[1;33m(\u001b[0m\u001b[0mtabulate\u001b[0m\u001b[1;33m(\u001b[0m\u001b[0minfo\u001b[0m\u001b[1;33m,\u001b[0m \u001b[0mheaders\u001b[0m\u001b[1;33m=\u001b[0m\u001b[1;34m'keys'\u001b[0m\u001b[1;33m)\u001b[0m\u001b[1;33m)\u001b[0m\u001b[1;33m\u001b[0m\u001b[1;33m\u001b[0m\u001b[0m\n\u001b[0m",
      "\u001b[1;31mTypeError\u001b[0m: 'module' object is not callable"
     ]
    }
   ],
   "source": [
    "info = {'First Name': ['John', 'Mary', 'Jennifer'], 'Last Name': ['Smith', 'Jane', 'Doe'], 'Age': [39, 25, 28]}\n",
    "print(tabulate(info, headers='keys'))"
   ]
  },
  {
   "cell_type": "code",
   "execution_count": null,
   "id": "c1e0408a",
   "metadata": {},
   "outputs": [],
   "source": []
  }
 ],
 "metadata": {
  "kernelspec": {
   "display_name": "Python 3 (ipykernel)",
   "language": "python",
   "name": "python3"
  },
  "language_info": {
   "codemirror_mode": {
    "name": "ipython",
    "version": 3
   },
   "file_extension": ".py",
   "mimetype": "text/x-python",
   "name": "python",
   "nbconvert_exporter": "python",
   "pygments_lexer": "ipython3",
   "version": "3.9.7"
  }
 },
 "nbformat": 4,
 "nbformat_minor": 5
}
