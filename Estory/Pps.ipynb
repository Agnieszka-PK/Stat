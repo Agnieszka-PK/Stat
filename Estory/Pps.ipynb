{
 "cells": [
  {
   "cell_type": "markdown",
   "id": "696c8259",
   "metadata": {},
   "source": [
    "# Parametr położenia i skali"
   ]
  },
  {
   "cell_type": "code",
   "execution_count": 14,
   "id": "7d6e7ad5",
   "metadata": {},
   "outputs": [
    {
     "data": {
      "image/png": "[encoded data removed]",
      "text/plain": [
       "<Figure size 576x288 with 1 Axes>"
      ]
     },
     "metadata": {
      "needs_background": "light"
     },
     "output_type": "display_data"
    }
   ],
   "source": [
    "import numpy as np\n",
    "import matplotlib.pyplot as plt\n",
    "\n",
    "x = 0.5*np.random.randn(1000)+4\n",
    "\n",
    "y = (x-np.mean(x))/np.std(x)\n",
    "\n",
    "z = (x-np.min(x))/(np.max(x)-np.min(x))\n",
    "\n",
    "plt.figure(figsize=(8,4))\n",
    "plt.hist(x, bins=30, label='original')\n",
    "plt.hist(y, alpha=0.7, bins=30, label='standard scaler')\n",
    "plt.hist(z, alpha=0.7, bins=30, label='minmax scaler')\n",
    "plt.legend()\n",
    "plt.savefig('C:\\\\Users\\\\123\\\\Documents\\\\GitHub\\\\Stat\\\\Estory\\\\r1.jpg')\n",
    "plt.show()"
   ]
  },
  {
   "cell_type": "markdown",
   "id": "7e245fa4",
   "metadata": {},
   "source": [
    "# Pobieranie danych ze strony internetowej - odczytanie pliku"
   ]
  },
  {
   "cell_type": "code",
   "execution_count": 4,
   "id": "608096e2",
   "metadata": {},
   "outputs": [
    {
     "data": {
      "text/html": [
       "<div>\n",
       "<style scoped>\n",
       "    .dataframe tbody tr th:only-of-type {\n",
       "        vertical-align: middle;\n",
       "    }\n",
       "\n",
       "    .dataframe tbody tr th {\n",
       "        vertical-align: top;\n",
       "    }\n",
       "\n",
       "    .dataframe thead th {\n",
       "        text-align: right;\n",
       "    }\n",
       "</style>\n",
       "<table border=\"1\" class=\"dataframe\">\n",
       "  <thead>\n",
       "    <tr style=\"text-align: right;\">\n",
       "      <th></th>\n",
       "      <th>Time</th>\n",
       "      <th>Q1</th>\n",
       "      <th>Q2</th>\n",
       "      <th>T1</th>\n",
       "      <th>T2</th>\n",
       "    </tr>\n",
       "  </thead>\n",
       "  <tbody>\n",
       "    <tr>\n",
       "      <th>0</th>\n",
       "      <td>0.0</td>\n",
       "      <td>0.0</td>\n",
       "      <td>0.0</td>\n",
       "      <td>16.06</td>\n",
       "      <td>16.00</td>\n",
       "    </tr>\n",
       "    <tr>\n",
       "      <th>1</th>\n",
       "      <td>1.0</td>\n",
       "      <td>0.0</td>\n",
       "      <td>0.0</td>\n",
       "      <td>16.06</td>\n",
       "      <td>15.97</td>\n",
       "    </tr>\n",
       "    <tr>\n",
       "      <th>2</th>\n",
       "      <td>2.0</td>\n",
       "      <td>0.0</td>\n",
       "      <td>0.0</td>\n",
       "      <td>16.06</td>\n",
       "      <td>16.03</td>\n",
       "    </tr>\n",
       "    <tr>\n",
       "      <th>3</th>\n",
       "      <td>3.0</td>\n",
       "      <td>0.0</td>\n",
       "      <td>0.0</td>\n",
       "      <td>16.03</td>\n",
       "      <td>16.00</td>\n",
       "    </tr>\n",
       "    <tr>\n",
       "      <th>4</th>\n",
       "      <td>4.0</td>\n",
       "      <td>0.0</td>\n",
       "      <td>0.0</td>\n",
       "      <td>16.03</td>\n",
       "      <td>15.94</td>\n",
       "    </tr>\n",
       "  </tbody>\n",
       "</table>\n",
       "</div>"
      ],
      "text/plain": [
       "   Time   Q1   Q2     T1     T2\n",
       "0   0.0  0.0  0.0  16.06  16.00\n",
       "1   1.0  0.0  0.0  16.06  15.97\n",
       "2   2.0  0.0  0.0  16.06  16.03\n",
       "3   3.0  0.0  0.0  16.03  16.00\n",
       "4   4.0  0.0  0.0  16.03  15.94"
      ]
     },
     "execution_count": 4,
     "metadata": {},
     "output_type": "execute_result"
    }
   ],
   "source": [
    "from sklearn.model_selection import train_test_split\n",
    "import pandas as pd\n",
    "url = 'http://apmonitor.com/pds/uploads/Main/tclab_data6.txt'\n",
    "data = pd.read_csv(url)\n",
    "data.head()"
   ]
  },
  {
   "cell_type": "code",
   "execution_count": 5,
   "id": "bb976a36",
   "metadata": {},
   "outputs": [
    {
     "data": {
      "text/html": [
       "<div>\n",
       "<style scoped>\n",
       "    .dataframe tbody tr th:only-of-type {\n",
       "        vertical-align: middle;\n",
       "    }\n",
       "\n",
       "    .dataframe tbody tr th {\n",
       "        vertical-align: top;\n",
       "    }\n",
       "\n",
       "    .dataframe thead th {\n",
       "        text-align: right;\n",
       "    }\n",
       "</style>\n",
       "<table border=\"1\" class=\"dataframe\">\n",
       "  <thead>\n",
       "    <tr style=\"text-align: right;\">\n",
       "      <th></th>\n",
       "      <th>Q1</th>\n",
       "      <th>Q2</th>\n",
       "      <th>T1</th>\n",
       "      <th>T2</th>\n",
       "    </tr>\n",
       "    <tr>\n",
       "      <th>Time</th>\n",
       "      <th></th>\n",
       "      <th></th>\n",
       "      <th></th>\n",
       "      <th></th>\n",
       "    </tr>\n",
       "  </thead>\n",
       "  <tbody>\n",
       "    <tr>\n",
       "      <th>0.0</th>\n",
       "      <td>0.0</td>\n",
       "      <td>0.0</td>\n",
       "      <td>16.06</td>\n",
       "      <td>16.00</td>\n",
       "    </tr>\n",
       "    <tr>\n",
       "      <th>1.0</th>\n",
       "      <td>0.0</td>\n",
       "      <td>0.0</td>\n",
       "      <td>16.06</td>\n",
       "      <td>15.97</td>\n",
       "    </tr>\n",
       "    <tr>\n",
       "      <th>2.0</th>\n",
       "      <td>0.0</td>\n",
       "      <td>0.0</td>\n",
       "      <td>16.06</td>\n",
       "      <td>16.03</td>\n",
       "    </tr>\n",
       "    <tr>\n",
       "      <th>3.0</th>\n",
       "      <td>0.0</td>\n",
       "      <td>0.0</td>\n",
       "      <td>16.03</td>\n",
       "      <td>16.00</td>\n",
       "    </tr>\n",
       "    <tr>\n",
       "      <th>4.0</th>\n",
       "      <td>0.0</td>\n",
       "      <td>0.0</td>\n",
       "      <td>16.03</td>\n",
       "      <td>15.94</td>\n",
       "    </tr>\n",
       "  </tbody>\n",
       "</table>\n",
       "</div>"
      ],
      "text/plain": [
       "       Q1   Q2     T1     T2\n",
       "Time                        \n",
       "0.0   0.0  0.0  16.06  16.00\n",
       "1.0   0.0  0.0  16.06  15.97\n",
       "2.0   0.0  0.0  16.06  16.03\n",
       "3.0   0.0  0.0  16.03  16.00\n",
       "4.0   0.0  0.0  16.03  15.94"
      ]
     },
     "execution_count": 5,
     "metadata": {},
     "output_type": "execute_result"
    }
   ],
   "source": [
    "data.set_index('Time',inplace=True)\n",
    "data.head()"
   ]
  },
  {
   "cell_type": "markdown",
   "id": "893353fe",
   "metadata": {},
   "source": [
    "# Pobieranie danych z tabeli bezpośrednio ze strony www"
   ]
  },
  {
   "cell_type": "code",
   "execution_count": 11,
   "id": "f6daf88e",
   "metadata": {},
   "outputs": [
    {
     "name": "stdout",
     "output_type": "stream",
     "text": [
      "[                                            0                     1  \\\n",
      "0                            Wyszczegolnienie      Ogółem w tys. ha   \n",
      "1                            Wyszczegolnienie      Ogółem w tys. ha   \n",
      "2  Ogółem  Grunty orne i sady  Uzytki zielone  18805  14 683  4 122   \n",
      "\n",
      "                                2                               3  \\\n",
      "0  w % ogołem - klasy bonitacyjne  w % ogołem - klasy bonitacyjne   \n",
      "1                               I                              II   \n",
      "2                   0,4  0,4  0,0                   2,9  3,3  1,5   \n",
      "\n",
      "                                4                               5  \\\n",
      "0  w % ogołem - klasy bonitacyjne  w % ogołem - klasy bonitacyjne   \n",
      "1                             III                              IV   \n",
      "2                22,3  24,9  13,4                39,8  39,1  42,5   \n",
      "\n",
      "                                6                               7  \n",
      "0  w % ogołem - klasy bonitacyjne  w % ogołem - klasy bonitacyjne  \n",
      "1                               V                              VI  \n",
      "2                22,7  20,3  31,3                11,9  12,0  11,3  ]\n"
     ]
    }
   ],
   "source": [
    "url = 'http://www.zs-strzyzow.itl.pl/files/dydaktyka/estatystyka/index/tabela14.htm'\n",
    "table = pd.read_html(url)\n",
    "print(table)"
   ]
  },
  {
   "cell_type": "code",
   "execution_count": null,
   "id": "728b62e3",
   "metadata": {},
   "outputs": [],
   "source": []
  }
 ],
 "metadata": {
  "kernelspec": {
   "display_name": "Python 3 (ipykernel)",
   "language": "python",
   "name": "python3"
  },
  "language_info": {
   "codemirror_mode": {
    "name": "ipython",
    "version": 3
   },
   "file_extension": ".py",
   "mimetype": "text/x-python",
   "name": "python",
   "nbconvert_exporter": "python",
   "pygments_lexer": "ipython3",
   "version": "3.9.7"
  }
 },
 "nbformat": 4,
 "nbformat_minor": 5
}
