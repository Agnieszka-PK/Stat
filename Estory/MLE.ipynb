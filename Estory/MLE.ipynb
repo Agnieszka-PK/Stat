{
 "cells": [
  {
   "cell_type": "markdown",
   "id": "ae14d224",
   "metadata": {},
   "source": [
    "# Generowanie próbki z rozkładu Gamma(ALFA,sigma=1)"
   ]
  },
  {
   "cell_type": "code",
   "execution_count": 101,
   "id": "da90bb78",
   "metadata": {},
   "outputs": [],
   "source": [
    "import math\n",
    "import matplotlib.pyplot as plt\n",
    "import numpy as np\n",
    "import scipy.stats as stats\n",
    "import scipy.special as sp\n",
    "n = 100\n",
    "ALFA = 0.6 \n",
    "data = stats.gamma.rvs(a=ALFA, size=n)"
   ]
  },
  {
   "cell_type": "markdown",
   "id": "652b4a68",
   "metadata": {},
   "source": [
    "# Histogram dla próbki"
   ]
  },
  {
   "cell_type": "code",
   "execution_count": 102,
   "id": "289c879a",
   "metadata": {},
   "outputs": [
    {
     "data": {
      "image/png": "[encoded data removed]",
      "text/plain": [
       "<Figure size 432x288 with 1 Axes>"
      ]
     },
     "metadata": {
      "needs_background": "light"
     },
     "output_type": "display_data"
    }
   ],
   "source": [
    "hx, hy, _ = plt.hist(data, bins=50, color=\"green\")\n",
    "\n",
    "plt.ylim(0.0,max(hx)+0.05)\n",
    "plt.title(r'Gamma distribution $\\alpha = 0.6$ and $\\sigma = 1$')\n",
    "plt.grid()\n",
    "\n",
    "xx = np.linspace (0, 4, 100) \n",
    "yy = stats.gamma.pdf(xx, a=ALFA, scale=1)\n",
    "# plt.ylim(0, 1)\n",
    "plt.plot(xx, yy, label=\"gamma(ALFA)\", color=\"red\")\n",
    "# logpdf(x, a, loc=0, scale=1)\n",
    "\n",
    "plt.savefig(\"C:\\\\Users\\\\123\\\\Documents\\\\DDR\\\\Praca\\\\gamma.pgf\", bbox_inches='tight')\n",
    "plt.show()\n",
    "plt.close()"
   ]
  },
  {
   "cell_type": "code",
   "execution_count": 103,
   "id": "415ab8dd",
   "metadata": {},
   "outputs": [
    {
     "data": {
      "image/png": "[encoded data removed]",
      "text/plain": [
       "<Figure size 432x288 with 1 Axes>"
      ]
     },
     "metadata": {
      "needs_background": "light"
     },
     "output_type": "display_data"
    }
   ],
   "source": [
    "# stats.gamma.pdf(6,a=ALFA, scale=1)\n",
    "# print( np.log(stats.gamma.pdf(data,a=ALFA, scale=1).sum() ))\n",
    "# print( np.sum(stats.gamma.logpdf(data,a=ALFA, scale=1))) -- nie jest to samo co wyżej\n",
    "\n",
    "alf = np.linspace(0, 5, 1000)\n",
    "\n",
    "y = []\n",
    "for i in alf:\n",
    "    y.append(np.log(stats.gamma.pdf(data,a=i,scale=1)).sum())\n",
    "\n",
    "# bin_xd = [0, 1, 2, 3, 4, 5]\n",
    "plt.plot(alf,y)\n",
    "\n",
    "plt.title(r'Log-Likelihood')\n",
    "plt.xlabel(r'$\\alpha$')\n",
    "\n",
    "plt.grid()\n",
    "\n",
    "plt.savefig(\"C:\\\\Users\\\\123\\\\Documents\\\\DDR\\\\Praca\\\\Log-Lik-gamma.pgf\", bbox_inches='tight')\n",
    "#plt.show()"
   ]
  },
  {
   "cell_type": "code",
   "execution_count": 104,
   "id": "67f2322e",
   "metadata": {},
   "outputs": [
    {
     "name": "stdout",
     "output_type": "stream",
     "text": [
      "mean (from max log likelohood) --->  0.6356356356356356\n"
     ]
    }
   ],
   "source": [
    "print('mean (from max log likelohood) ---> ', alf[y.index(np.sort(y)[-2])])"
   ]
  },
  {
   "cell_type": "code",
   "execution_count": 100,
   "id": "3e0dece4",
   "metadata": {
    "scrolled": true
   },
   "outputs": [
    {
     "data": {
      "text/plain": [
       "nan"
      ]
     },
     "execution_count": 100,
     "metadata": {},
     "output_type": "execute_result"
    }
   ],
   "source": [
    "max(y)"
   ]
  },
  {
   "cell_type": "code",
   "execution_count": 84,
   "id": "0f409546",
   "metadata": {},
   "outputs": [
    {
     "data": {
      "text/plain": [
       "0.6056056056056056"
      ]
     },
     "execution_count": 84,
     "metadata": {},
     "output_type": "execute_result"
    }
   ],
   "source": [
    "alf[y.index(np.sort(y)[-2])]"
   ]
  },
  {
   "cell_type": "code",
   "execution_count": 83,
   "id": "0f2f4b22",
   "metadata": {},
   "outputs": [
    {
     "data": {
      "text/plain": [
       "-30.705687854976063"
      ]
     },
     "execution_count": 83,
     "metadata": {},
     "output_type": "execute_result"
    }
   ],
   "source": [
    "np.sort(y)[-2]"
   ]
  },
  {
   "cell_type": "markdown",
   "id": "a704798e",
   "metadata": {},
   "source": [
    "# Dla ustalonej próbki data"
   ]
  },
  {
   "cell_type": "code",
   "execution_count": 62,
   "id": "cfcfe535",
   "metadata": {},
   "outputs": [
    {
     "data": {
      "text/plain": [
       "0.03861850618078095"
      ]
     },
     "execution_count": 62,
     "metadata": {},
     "output_type": "execute_result"
    }
   ],
   "source": [
    "data[0]"
   ]
  },
  {
   "cell_type": "markdown",
   "id": "cb9d35ea",
   "metadata": {},
   "source": [
    "# stats.gamma.pdf(data,a=ALFA,scale=1)[0] liczy wartość gęstości gamma"
   ]
  },
  {
   "cell_type": "code",
   "execution_count": 64,
   "id": "05b90b60",
   "metadata": {},
   "outputs": [
    {
     "data": {
      "text/plain": [
       "2.3744292879922977"
      ]
     },
     "execution_count": 64,
     "metadata": {},
     "output_type": "execute_result"
    }
   ],
   "source": [
    "stats.gamma.pdf(data,a=ALFA,scale=1)[0]"
   ]
  },
  {
   "cell_type": "markdown",
   "id": "662de2eb",
   "metadata": {},
   "source": [
    "# Wyznaczenie wartości gęstości gamma ze wzroru dla danego data[0] "
   ]
  },
  {
   "cell_type": "code",
   "execution_count": 65,
   "id": "d5a3826a",
   "metadata": {},
   "outputs": [
    {
     "data": {
      "text/plain": [
       "2.3744292879922977"
      ]
     },
     "execution_count": 65,
     "metadata": {},
     "output_type": "execute_result"
    }
   ],
   "source": [
    "data[0]**(ALFA-1)*math.exp(-data[0])/sp.gamma(ALFA)"
   ]
  },
  {
   "cell_type": "code",
   "execution_count": null,
   "id": "bf5d1cb2",
   "metadata": {},
   "outputs": [],
   "source": []
  }
 ],
 "metadata": {
  "kernelspec": {
   "display_name": "Python 3 (ipykernel)",
   "language": "python",
   "name": "python3"
  },
  "language_info": {
   "codemirror_mode": {
    "name": "ipython",
    "version": 3
   },
   "file_extension": ".py",
   "mimetype": "text/x-python",
   "name": "python",
   "nbconvert_exporter": "python",
   "pygments_lexer": "ipython3",
   "version": "3.9.7"
  }
 },
 "nbformat": 4,
 "nbformat_minor": 5
}
