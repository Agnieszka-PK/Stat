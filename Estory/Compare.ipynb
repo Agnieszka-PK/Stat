{
 "cells": [
  {
   "cell_type": "code",
   "execution_count": 142,
   "id": "38f0c118",
   "metadata": {},
   "outputs": [],
   "source": [
    "# %matplotlib inline\n",
    "import collections\n",
    "import math\n",
    "import numpy as np\n",
    "import scipy as sp\n",
    "import scipy.stats as stats\n",
    "import statsmodels.api as sm\n",
    "import matplotlib.pyplot as plt"
   ]
  },
  {
   "cell_type": "markdown",
   "id": "7d62a81a",
   "metadata": {},
   "source": [
    "# Generowanie próbki z rozkładu Gamma o wielkości size"
   ]
  },
  {
   "cell_type": "code",
   "execution_count": 143,
   "id": "74930510",
   "metadata": {},
   "outputs": [],
   "source": [
    "gamma_data = stats.gamma.rvs(a=0.5, size=10000)    "
   ]
  },
  {
   "cell_type": "code",
   "execution_count": 144,
   "id": "beac54d8",
   "metadata": {},
   "outputs": [
    {
     "name": "stdout",
     "output_type": "stream",
     "text": [
      "[array([0.00707816, 0.00558121, 0.21193636, ..., 0.10146811, 0.11590328,\n",
      "       0.91701311])]\n"
     ]
    }
   ],
   "source": [
    "print([gamma_data])"
   ]
  },
  {
   "cell_type": "markdown",
   "id": "c5a7bfb2",
   "metadata": {},
   "source": [
    "# Największa wartość w próbce"
   ]
  },
  {
   "cell_type": "code",
   "execution_count": 145,
   "id": "76d1f9fa",
   "metadata": {},
   "outputs": [
    {
     "data": {
      "text/plain": [
       "7.78751"
      ]
     },
     "execution_count": 145,
     "metadata": {},
     "output_type": "execute_result"
    }
   ],
   "source": [
    "round(max(gamma_data),5)"
   ]
  },
  {
   "cell_type": "code",
   "execution_count": 146,
   "id": "cc41a527",
   "metadata": {},
   "outputs": [
    {
     "data": {
      "text/plain": [
       "8"
      ]
     },
     "execution_count": 146,
     "metadata": {},
     "output_type": "execute_result"
    }
   ],
   "source": [
    "round(max(gamma_data))"
   ]
  },
  {
   "cell_type": "markdown",
   "id": "afe39a6c",
   "metadata": {},
   "source": [
    "# Najmniejsza wartość w próbce"
   ]
  },
  {
   "cell_type": "code",
   "execution_count": 147,
   "id": "056ff0ad",
   "metadata": {},
   "outputs": [
    {
     "data": {
      "text/plain": [
       "4.61e-09"
      ]
     },
     "execution_count": 147,
     "metadata": {},
     "output_type": "execute_result"
    }
   ],
   "source": [
    "round(min(gamma_data),11)"
   ]
  },
  {
   "cell_type": "markdown",
   "id": "ee19bcc5",
   "metadata": {},
   "source": [
    "# Długość próbki"
   ]
  },
  {
   "cell_type": "code",
   "execution_count": 148,
   "id": "6cfdd375",
   "metadata": {},
   "outputs": [
    {
     "data": {
      "text/plain": [
       "10000"
      ]
     },
     "execution_count": 148,
     "metadata": {},
     "output_type": "execute_result"
    }
   ],
   "source": [
    "len(gamma_data)"
   ]
  },
  {
   "cell_type": "markdown",
   "id": "4c57ce44",
   "metadata": {},
   "source": [
    "# Ostatni elemet w próbce"
   ]
  },
  {
   "cell_type": "code",
   "execution_count": 149,
   "id": "f0095936",
   "metadata": {},
   "outputs": [
    {
     "data": {
      "text/plain": [
       "0.9170131134431749"
      ]
     },
     "execution_count": 149,
     "metadata": {},
     "output_type": "execute_result"
    }
   ],
   "source": [
    "gamma_data[-1]"
   ]
  },
  {
   "cell_type": "code",
   "execution_count": 150,
   "id": "458146b0",
   "metadata": {},
   "outputs": [
    {
     "data": {
      "text/plain": [
       "0.9170131134431749"
      ]
     },
     "execution_count": 150,
     "metadata": {},
     "output_type": "execute_result"
    }
   ],
   "source": [
    "gamma_data[9999]"
   ]
  },
  {
   "cell_type": "code",
   "execution_count": 151,
   "id": "5932e697",
   "metadata": {},
   "outputs": [],
   "source": [
    "maks = max(gamma_data)"
   ]
  },
  {
   "cell_type": "code",
   "execution_count": 152,
   "id": "056ee377",
   "metadata": {},
   "outputs": [
    {
     "data": {
      "text/plain": [
       "7.7875102392950115"
      ]
     },
     "execution_count": 152,
     "metadata": {},
     "output_type": "execute_result"
    }
   ],
   "source": [
    "maks"
   ]
  },
  {
   "cell_type": "code",
   "execution_count": 171,
   "id": "6aa268b0",
   "metadata": {},
   "outputs": [
    {
     "data": {
      "text/plain": [
       "array([4.60982241e-09, 1.75838948e-08, 6.97630740e-08, ...,\n",
       "       5.58148238e+00, 6.59506760e+00, 7.78751024e+00])"
      ]
     },
     "execution_count": 171,
     "metadata": {},
     "output_type": "execute_result"
    }
   ],
   "source": [
    "np.sort(gamma_data)"
   ]
  },
  {
   "cell_type": "code",
   "execution_count": 172,
   "id": "cab4c018",
   "metadata": {},
   "outputs": [
    {
     "data": {
      "text/plain": [
       "7.7875102392950115"
      ]
     },
     "execution_count": 172,
     "metadata": {},
     "output_type": "execute_result"
    }
   ],
   "source": [
    "np.sort(gamma_data)[-1]"
   ]
  },
  {
   "cell_type": "markdown",
   "id": "a58f5bc1",
   "metadata": {},
   "source": [
    "# Typ obiektu"
   ]
  },
  {
   "cell_type": "code",
   "execution_count": 153,
   "id": "46d663e6",
   "metadata": {},
   "outputs": [
    {
     "data": {
      "text/plain": [
       "numpy.ndarray"
      ]
     },
     "execution_count": 153,
     "metadata": {},
     "output_type": "execute_result"
    }
   ],
   "source": [
    "type(gamma_data)"
   ]
  },
  {
   "cell_type": "markdown",
   "id": "0f80a919",
   "metadata": {},
   "source": [
    "# Wymiar wektora"
   ]
  },
  {
   "cell_type": "code",
   "execution_count": 154,
   "id": "33856298",
   "metadata": {},
   "outputs": [
    {
     "data": {
      "text/plain": [
       "(10000,)"
      ]
     },
     "execution_count": 154,
     "metadata": {},
     "output_type": "execute_result"
    }
   ],
   "source": [
    "gamma_data.shape"
   ]
  },
  {
   "cell_type": "code",
   "execution_count": 155,
   "id": "669ca923",
   "metadata": {},
   "outputs": [
    {
     "data": {
      "text/plain": [
       "0.007078156658340634"
      ]
     },
     "execution_count": 155,
     "metadata": {},
     "output_type": "execute_result"
    }
   ],
   "source": [
    "gamma_data[0]"
   ]
  },
  {
   "cell_type": "code",
   "execution_count": null,
   "id": "452e509a",
   "metadata": {},
   "outputs": [],
   "source": []
  },
  {
   "cell_type": "code",
   "execution_count": 156,
   "id": "99185445",
   "metadata": {},
   "outputs": [
    {
     "data": {
      "text/plain": [
       "array([5.26477612, 5.47296866, 7.78751024, 5.38807083, 5.33020952,\n",
       "       5.58148238, 5.01857654, 5.4233694 , 6.5950676 , 5.11821835])"
      ]
     },
     "execution_count": 156,
     "metadata": {},
     "output_type": "execute_result"
    }
   ],
   "source": [
    "gamma_data[gamma_data > 5]"
   ]
  },
  {
   "cell_type": "markdown",
   "id": "009bd7f3",
   "metadata": {},
   "source": [
    "# Średnia arytmetyczna z próby"
   ]
  },
  {
   "cell_type": "code",
   "execution_count": 162,
   "id": "a1ea9d18",
   "metadata": {},
   "outputs": [
    {
     "data": {
      "text/plain": [
       "0.496152638280372"
      ]
     },
     "execution_count": 162,
     "metadata": {},
     "output_type": "execute_result"
    }
   ],
   "source": [
    "np.mean(gamma_data)"
   ]
  },
  {
   "cell_type": "code",
   "execution_count": 164,
   "id": "bf403b17",
   "metadata": {},
   "outputs": [
    {
     "data": {
      "text/plain": [
       "4961.52638280372"
      ]
     },
     "execution_count": 164,
     "metadata": {},
     "output_type": "execute_result"
    }
   ],
   "source": [
    "np.sum(gamma_data)"
   ]
  },
  {
   "cell_type": "code",
   "execution_count": 165,
   "id": "d150e97c",
   "metadata": {},
   "outputs": [
    {
     "data": {
      "text/plain": [
       "0.496152638280372"
      ]
     },
     "execution_count": 165,
     "metadata": {},
     "output_type": "execute_result"
    }
   ],
   "source": [
    "np.sum(gamma_data)/np.median(gamma_data)10000"
   ]
  },
  {
   "cell_type": "markdown",
   "id": "2d4c4c1d",
   "metadata": {},
   "source": [
    "# Mediana z próby"
   ]
  },
  {
   "cell_type": "code",
   "execution_count": 161,
   "id": "0d73a7a1",
   "metadata": {},
   "outputs": [
    {
     "data": {
      "text/plain": [
       "0.22956026272398128"
      ]
     },
     "execution_count": 161,
     "metadata": {},
     "output_type": "execute_result"
    }
   ],
   "source": [
    "np.median(gamma_data)"
   ]
  },
  {
   "cell_type": "markdown",
   "id": "b5881332",
   "metadata": {},
   "source": [
    "# Odchylenie standardowe"
   ]
  },
  {
   "cell_type": "code",
   "execution_count": 166,
   "id": "26c71788",
   "metadata": {},
   "outputs": [
    {
     "data": {
      "text/plain": [
       "0.6867316931799549"
      ]
     },
     "execution_count": 166,
     "metadata": {},
     "output_type": "execute_result"
    }
   ],
   "source": [
    "np.std(gamma_data)"
   ]
  },
  {
   "cell_type": "code",
   "execution_count": 167,
   "id": "d7b49a25",
   "metadata": {},
   "outputs": [
    {
     "data": {
      "text/plain": [
       "0.47160041841780764"
      ]
     },
     "execution_count": 167,
     "metadata": {},
     "output_type": "execute_result"
    }
   ],
   "source": [
    "np.std(gamma_data)**2"
   ]
  },
  {
   "cell_type": "markdown",
   "id": "891a967b",
   "metadata": {},
   "source": [
    "# Wariancja z próby"
   ]
  },
  {
   "cell_type": "code",
   "execution_count": 168,
   "id": "901751c7",
   "metadata": {},
   "outputs": [
    {
     "data": {
      "text/plain": [
       "array([0.23919385, 0.24066033, 0.08077889, ..., 0.15577587, 0.14458957,\n",
       "       0.17712354])"
      ]
     },
     "execution_count": 168,
     "metadata": {},
     "output_type": "execute_result"
    }
   ],
   "source": [
    "(gamma_data - np.mean(gamma_data))**2"
   ]
  },
  {
   "cell_type": "code",
   "execution_count": 170,
   "id": "bbe37de6",
   "metadata": {},
   "outputs": [
    {
     "data": {
      "text/plain": [
       "0.4716004184178076"
      ]
     },
     "execution_count": 170,
     "metadata": {},
     "output_type": "execute_result"
    }
   ],
   "source": [
    "np.sum((gamma_data - np.mean(gamma_data))**2)/10000"
   ]
  },
  {
   "cell_type": "markdown",
   "id": "a8c07991",
   "metadata": {},
   "source": [
    "# Metoda count i index działa dla listy"
   ]
  },
  {
   "cell_type": "code",
   "execution_count": 114,
   "id": "ca13f229",
   "metadata": {},
   "outputs": [
    {
     "ename": "AttributeError",
     "evalue": "'numpy.ndarray' object has no attribute 'count'",
     "output_type": "error",
     "traceback": [
      "\u001b[1;31m---------------------------------------------------------------------------\u001b[0m",
      "\u001b[1;31mAttributeError\u001b[0m                            Traceback (most recent call last)",
      "\u001b[1;32m~\\AppData\\Local\\Temp/ipykernel_15684/2367248635.py\u001b[0m in \u001b[0;36m<module>\u001b[1;34m\u001b[0m\n\u001b[1;32m----> 1\u001b[1;33m \u001b[0mgamma_data\u001b[0m\u001b[1;33m.\u001b[0m\u001b[0mcount\u001b[0m\u001b[1;33m(\u001b[0m\u001b[0mgamma_data\u001b[0m\u001b[1;33m[\u001b[0m\u001b[1;36m100\u001b[0m\u001b[1;33m]\u001b[0m\u001b[1;33m)\u001b[0m\u001b[1;33m\u001b[0m\u001b[1;33m\u001b[0m\u001b[0m\n\u001b[0m",
      "\u001b[1;31mAttributeError\u001b[0m: 'numpy.ndarray' object has no attribute 'count'"
     ]
    }
   ],
   "source": [
    "gamma_data.count(gamma_data[100])"
   ]
  },
  {
   "cell_type": "code",
   "execution_count": 113,
   "id": "4f0e992f",
   "metadata": {
    "scrolled": true
   },
   "outputs": [
    {
     "ename": "AttributeError",
     "evalue": "'numpy.ndarray' object has no attribute 'index'",
     "output_type": "error",
     "traceback": [
      "\u001b[1;31m---------------------------------------------------------------------------\u001b[0m",
      "\u001b[1;31mAttributeError\u001b[0m                            Traceback (most recent call last)",
      "\u001b[1;32m~\\AppData\\Local\\Temp/ipykernel_15684/53316964.py\u001b[0m in \u001b[0;36m<module>\u001b[1;34m\u001b[0m\n\u001b[1;32m----> 1\u001b[1;33m \u001b[0mgamma_data\u001b[0m\u001b[1;33m.\u001b[0m\u001b[0mindex\u001b[0m\u001b[1;33m(\u001b[0m\u001b[0mmax\u001b[0m\u001b[1;33m(\u001b[0m\u001b[0mgamma_data\u001b[0m\u001b[1;33m)\u001b[0m\u001b[1;33m)\u001b[0m\u001b[1;33m\u001b[0m\u001b[1;33m\u001b[0m\u001b[0m\n\u001b[0m",
      "\u001b[1;31mAttributeError\u001b[0m: 'numpy.ndarray' object has no attribute 'index'"
     ]
    }
   ],
   "source": [
    "gamma_data.index(max(gamma_data))"
   ]
  },
  {
   "cell_type": "code",
   "execution_count": 62,
   "id": "b924fa3d",
   "metadata": {},
   "outputs": [],
   "source": [
    "gamma_data = stats.gamma.rvs(a=0.5, size=10000)    "
   ]
  },
  {
   "cell_type": "code",
   "execution_count": 63,
   "id": "1a54bd38",
   "metadata": {},
   "outputs": [
    {
     "name": "stdout",
     "output_type": "stream",
     "text": [
      "[array([0.14050926, 0.00744197, 0.16405607, ..., 0.21907695, 0.08877687,\n",
      "       0.11059351])]\n"
     ]
    }
   ],
   "source": [
    "print([gamma_data])"
   ]
  },
  {
   "cell_type": "code",
   "execution_count": 64,
   "id": "0c427c1b",
   "metadata": {},
   "outputs": [
    {
     "data": {
      "text/plain": [
       "9.459128150140065"
      ]
     },
     "execution_count": 64,
     "metadata": {},
     "output_type": "execute_result"
    }
   ],
   "source": [
    "max(gamma_data)"
   ]
  },
  {
   "cell_type": "code",
   "execution_count": 52,
   "id": "b3636bda",
   "metadata": {},
   "outputs": [],
   "source": [
    "a=0.5"
   ]
  },
  {
   "cell_type": "code",
   "execution_count": 53,
   "id": "dec2d046",
   "metadata": {},
   "outputs": [],
   "source": [
    "mean, var, skew, kurt = stats.gamma.stats(a, moments='mvsk')"
   ]
  },
  {
   "cell_type": "code",
   "execution_count": 54,
   "id": "b96d64cd",
   "metadata": {},
   "outputs": [
    {
     "data": {
      "text/plain": [
       "array(0.5)"
      ]
     },
     "execution_count": 54,
     "metadata": {},
     "output_type": "execute_result"
    }
   ],
   "source": [
    "mean"
   ]
  },
  {
   "cell_type": "code",
   "execution_count": 55,
   "id": "fce83574",
   "metadata": {},
   "outputs": [
    {
     "data": {
      "text/plain": [
       "array(0.5)"
      ]
     },
     "execution_count": 55,
     "metadata": {},
     "output_type": "execute_result"
    }
   ],
   "source": [
    "var"
   ]
  },
  {
   "cell_type": "code",
   "execution_count": 56,
   "id": "816e6dc5",
   "metadata": {},
   "outputs": [
    {
     "data": {
      "text/plain": [
       "array(2.82842712)"
      ]
     },
     "execution_count": 56,
     "metadata": {},
     "output_type": "execute_result"
    }
   ],
   "source": [
    "skew"
   ]
  },
  {
   "cell_type": "code",
   "execution_count": 57,
   "id": "929f9bfa",
   "metadata": {},
   "outputs": [
    {
     "data": {
      "text/plain": [
       "array(12.)"
      ]
     },
     "execution_count": 57,
     "metadata": {},
     "output_type": "execute_result"
    }
   ],
   "source": [
    "kurt"
   ]
  },
  {
   "cell_type": "code",
   "execution_count": 58,
   "id": "4bd693b6",
   "metadata": {},
   "outputs": [
    {
     "data": {
      "text/plain": [
       "(array([8.2264e+04, 1.2128e+04, 3.6600e+03, 1.2610e+03, 4.2900e+02,\n",
       "        1.5900e+02, 6.6000e+01, 2.2000e+01, 7.0000e+00, 4.0000e+00]),\n",
       " array([1.89672028e-10, 9.17368969e-01, 1.83473794e+00, 2.75210691e+00,\n",
       "        3.66947588e+00, 4.58684485e+00, 5.50421381e+00, 6.42158278e+00,\n",
       "        7.33895175e+00, 8.25632072e+00, 9.17368969e+00]),\n",
       " <BarContainer object of 10 artists>)"
      ]
     },
     "execution_count": 58,
     "metadata": {},
     "output_type": "execute_result"
    }
   ],
   "source": [
    "ax.hist(gamma_data)"
   ]
  },
  {
   "cell_type": "code",
   "execution_count": null,
   "id": "b9c4e2cd",
   "metadata": {},
   "outputs": [],
   "source": []
  }
 ],
 "metadata": {
  "kernelspec": {
   "display_name": "Python 3 (ipykernel)",
   "language": "python",
   "name": "python3"
  },
  "language_info": {
   "codemirror_mode": {
    "name": "ipython",
    "version": 3
   },
   "file_extension": ".py",
   "mimetype": "text/x-python",
   "name": "python",
   "nbconvert_exporter": "python",
   "pygments_lexer": "ipython3",
   "version": "3.9.7"
  }
 },
 "nbformat": 4,
 "nbformat_minor": 5
}
