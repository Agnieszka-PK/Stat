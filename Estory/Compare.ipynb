{
 "cells": [
  {
   "cell_type": "code",
   "execution_count": 16,
   "id": "38f0c118",
   "metadata": {},
   "outputs": [],
   "source": [
    "# %matplotlib inline\n",
    "import collections\n",
    "import math\n",
    "import numpy as np\n",
    "import scipy as sp\n",
    "import scipy.stats as stats\n",
    "import statsmodels.api as sm"
   ]
  },
  {
   "cell_type": "code",
   "execution_count": 22,
   "id": "74930510",
   "metadata": {},
   "outputs": [],
   "source": [
    "gamma_data = stats.gamma.rvs(a=0.5, size=100000)    "
   ]
  },
  {
   "cell_type": "code",
   "execution_count": 23,
   "id": "beac54d8",
   "metadata": {},
   "outputs": [
    {
     "name": "stdout",
     "output_type": "stream",
     "text": [
      "[array([0.11943834, 0.30558023, 1.22002767, ..., 0.34877523, 1.2842137 ,\n",
      "       0.45734658])]\n"
     ]
    }
   ],
   "source": [
    "print([gamma_data])"
   ]
  },
  {
   "cell_type": "code",
   "execution_count": 24,
   "id": "b924fa3d",
   "metadata": {},
   "outputs": [],
   "source": [
    "gamma_data = stats.gamma.rvs(a=0.5, size=100000)    "
   ]
  },
  {
   "cell_type": "code",
   "execution_count": 25,
   "id": "1a54bd38",
   "metadata": {},
   "outputs": [
    {
     "name": "stdout",
     "output_type": "stream",
     "text": [
      "[array([7.98604491e-01, 5.97251566e-06, 8.46284075e-05, ...,\n",
      "       7.21383842e-01, 9.07994060e-02, 4.32932771e-01])]\n"
     ]
    }
   ],
   "source": [
    "print([gamma_data])"
   ]
  },
  {
   "cell_type": "code",
   "execution_count": null,
   "id": "dec2d046",
   "metadata": {},
   "outputs": [],
   "source": []
  }
 ],
 "metadata": {
  "kernelspec": {
   "display_name": "Python 3 (ipykernel)",
   "language": "python",
   "name": "python3"
  },
  "language_info": {
   "codemirror_mode": {
    "name": "ipython",
    "version": 3
   },
   "file_extension": ".py",
   "mimetype": "text/x-python",
   "name": "python",
   "nbconvert_exporter": "python",
   "pygments_lexer": "ipython3",
   "version": "3.9.7"
  }
 },
 "nbformat": 4,
 "nbformat_minor": 5
}
