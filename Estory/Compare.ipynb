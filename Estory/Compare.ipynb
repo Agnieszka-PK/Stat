{
 "cells": [
  {
   "cell_type": "code",
   "execution_count": 242,
   "id": "38f0c118",
   "metadata": {},
   "outputs": [],
   "source": [
    "# %matplotlib inline\n",
    "import collections\n",
    "import math\n",
    "import numpy as np\n",
    "import scipy as sp\n",
    "import scipy.stats as stats\n",
    "import statsmodels.api as sm\n",
    "import matplotlib.pyplot as plt"
   ]
  },
  {
   "cell_type": "markdown",
   "id": "4bbbd650",
   "metadata": {},
   "source": [
    "# Generowanie próbki z rozkładu Gamma o wielkości size"
   ]
  },
  {
   "cell_type": "code",
   "execution_count": 243,
   "id": "74930510",
   "metadata": {},
   "outputs": [],
   "source": [
    "gamma_data = stats.gamma.rvs(a=0.5, size=10000)    "
   ]
  },
  {
   "cell_type": "code",
   "execution_count": 244,
   "id": "beac54d8",
   "metadata": {},
   "outputs": [
    {
     "name": "stdout",
     "output_type": "stream",
     "text": [
      "[array([1.57164409, 0.96388065, 0.13234716, ..., 0.01596452, 0.44649074,\n",
      "       0.09876964])]\n"
     ]
    }
   ],
   "source": [
    "print([gamma_data])"
   ]
  },
  {
   "cell_type": "markdown",
   "id": "eb164ae2",
   "metadata": {},
   "source": [
    "# Największa wartość w próbce"
   ]
  },
  {
   "cell_type": "code",
   "execution_count": 245,
   "id": "12bca6af",
   "metadata": {},
   "outputs": [
    {
     "data": {
      "text/plain": [
       "7.85273"
      ]
     },
     "execution_count": 245,
     "metadata": {},
     "output_type": "execute_result"
    }
   ],
   "source": [
    "round(max(gamma_data),5)"
   ]
  },
  {
   "cell_type": "code",
   "execution_count": 246,
   "id": "9c8e2444",
   "metadata": {},
   "outputs": [
    {
     "data": {
      "text/plain": [
       "8"
      ]
     },
     "execution_count": 246,
     "metadata": {},
     "output_type": "execute_result"
    }
   ],
   "source": [
    "round(max(gamma_data))"
   ]
  },
  {
   "cell_type": "markdown",
   "id": "ba31448f",
   "metadata": {},
   "source": [
    "# Najmniejsza wartość w próbce"
   ]
  },
  {
   "cell_type": "code",
   "execution_count": 247,
   "id": "0429134f",
   "metadata": {},
   "outputs": [
    {
     "data": {
      "text/plain": [
       "4.2e-10"
      ]
     },
     "execution_count": 247,
     "metadata": {},
     "output_type": "execute_result"
    }
   ],
   "source": [
    "round(min(gamma_data),11)"
   ]
  },
  {
   "cell_type": "markdown",
   "id": "f9a6b6b8",
   "metadata": {},
   "source": [
    "# Długość próbki"
   ]
  },
  {
   "cell_type": "code",
   "execution_count": 248,
   "id": "17bff7e8",
   "metadata": {},
   "outputs": [
    {
     "data": {
      "text/plain": [
       "10000"
      ]
     },
     "execution_count": 248,
     "metadata": {},
     "output_type": "execute_result"
    }
   ],
   "source": [
    "len(gamma_data)"
   ]
  },
  {
   "cell_type": "markdown",
   "id": "45730e59",
   "metadata": {},
   "source": [
    "# Ostatni elemet w próbce"
   ]
  },
  {
   "cell_type": "code",
   "execution_count": 249,
   "id": "6a93c349",
   "metadata": {},
   "outputs": [
    {
     "data": {
      "text/plain": [
       "0.09876963784711444"
      ]
     },
     "execution_count": 249,
     "metadata": {},
     "output_type": "execute_result"
    }
   ],
   "source": [
    "gamma_data[-1]"
   ]
  },
  {
   "cell_type": "code",
   "execution_count": 250,
   "id": "5d0641d8",
   "metadata": {},
   "outputs": [
    {
     "data": {
      "text/plain": [
       "0.09876963784711444"
      ]
     },
     "execution_count": 250,
     "metadata": {},
     "output_type": "execute_result"
    }
   ],
   "source": [
    "gamma_data[len(gamma_data)-1]"
   ]
  },
  {
   "cell_type": "code",
   "execution_count": 251,
   "id": "636fee2f",
   "metadata": {},
   "outputs": [],
   "source": [
    "maks = max(gamma_data)"
   ]
  },
  {
   "cell_type": "code",
   "execution_count": 252,
   "id": "74a96c74",
   "metadata": {},
   "outputs": [
    {
     "data": {
      "text/plain": [
       "7.852730320105815"
      ]
     },
     "execution_count": 252,
     "metadata": {},
     "output_type": "execute_result"
    }
   ],
   "source": [
    "maks"
   ]
  },
  {
   "cell_type": "code",
   "execution_count": 253,
   "id": "ead6becb",
   "metadata": {},
   "outputs": [
    {
     "data": {
      "text/plain": [
       "array([4.18108313e-10, 9.17901428e-09, 3.44538592e-08, ...,\n",
       "       6.85634553e+00, 7.48046344e+00, 7.85273032e+00])"
      ]
     },
     "execution_count": 253,
     "metadata": {},
     "output_type": "execute_result"
    }
   ],
   "source": [
    "np.sort(gamma_data)"
   ]
  },
  {
   "cell_type": "code",
   "execution_count": 254,
   "id": "800c8466",
   "metadata": {},
   "outputs": [
    {
     "data": {
      "text/plain": [
       "7.852730320105815"
      ]
     },
     "execution_count": 254,
     "metadata": {},
     "output_type": "execute_result"
    }
   ],
   "source": [
    "np.sort(gamma_data)[-1]"
   ]
  },
  {
   "cell_type": "markdown",
   "id": "8f6d7860",
   "metadata": {},
   "source": [
    "# Typ obiektu"
   ]
  },
  {
   "cell_type": "code",
   "execution_count": 255,
   "id": "fceea025",
   "metadata": {},
   "outputs": [
    {
     "data": {
      "text/plain": [
       "numpy.ndarray"
      ]
     },
     "execution_count": 255,
     "metadata": {},
     "output_type": "execute_result"
    }
   ],
   "source": [
    "type(gamma_data)"
   ]
  },
  {
   "cell_type": "markdown",
   "id": "6b42df06",
   "metadata": {},
   "source": [
    "# Wymiar wektora"
   ]
  },
  {
   "cell_type": "code",
   "execution_count": 256,
   "id": "5faa046c",
   "metadata": {},
   "outputs": [
    {
     "data": {
      "text/plain": [
       "(10000,)"
      ]
     },
     "execution_count": 256,
     "metadata": {},
     "output_type": "execute_result"
    }
   ],
   "source": [
    "gamma_data.shape"
   ]
  },
  {
   "cell_type": "code",
   "execution_count": 257,
   "id": "21a29247",
   "metadata": {},
   "outputs": [
    {
     "data": {
      "text/plain": [
       "1.571644093933349"
      ]
     },
     "execution_count": 257,
     "metadata": {},
     "output_type": "execute_result"
    }
   ],
   "source": [
    "gamma_data[0]"
   ]
  },
  {
   "cell_type": "code",
   "execution_count": 258,
   "id": "be41a9a2",
   "metadata": {},
   "outputs": [
    {
     "data": {
      "text/plain": [
       "array([5.35411121, 5.18535917, 5.2437278 , 7.85273032, 5.64428107,\n",
       "       5.29172507, 5.34978433, 5.04459836, 5.78301989, 5.80586202,\n",
       "       6.41648386, 6.85634553, 5.81594944, 7.48046344, 6.5327594 ])"
      ]
     },
     "execution_count": 258,
     "metadata": {},
     "output_type": "execute_result"
    }
   ],
   "source": [
    "gamma_data[gamma_data > 5]"
   ]
  },
  {
   "cell_type": "code",
   "execution_count": null,
   "id": "1f67b7e3",
   "metadata": {},
   "outputs": [],
   "source": []
  },
  {
   "cell_type": "markdown",
   "id": "25eb0260",
   "metadata": {},
   "source": [
    "# Średnia arytmetyczna z próby"
   ]
  },
  {
   "cell_type": "code",
   "execution_count": 259,
   "id": "1e4b9078",
   "metadata": {},
   "outputs": [
    {
     "data": {
      "text/plain": [
       "0.48489355839223325"
      ]
     },
     "execution_count": 259,
     "metadata": {},
     "output_type": "execute_result"
    }
   ],
   "source": [
    "np.mean(gamma_data)"
   ]
  },
  {
   "cell_type": "code",
   "execution_count": 260,
   "id": "a7e1391b",
   "metadata": {},
   "outputs": [
    {
     "data": {
      "text/plain": [
       "4848.935583922333"
      ]
     },
     "execution_count": 260,
     "metadata": {},
     "output_type": "execute_result"
    }
   ],
   "source": [
    "np.sum(gamma_data)"
   ]
  },
  {
   "cell_type": "code",
   "execution_count": 261,
   "id": "65bc8484",
   "metadata": {},
   "outputs": [
    {
     "data": {
      "text/plain": [
       "0.48489355839223325"
      ]
     },
     "execution_count": 261,
     "metadata": {},
     "output_type": "execute_result"
    }
   ],
   "source": [
    "np.sum(gamma_data)/len(gamma_data)"
   ]
  },
  {
   "cell_type": "markdown",
   "id": "a846ed65",
   "metadata": {},
   "source": [
    "# Mediana z próby"
   ]
  },
  {
   "cell_type": "code",
   "execution_count": 262,
   "id": "a639aaf4",
   "metadata": {},
   "outputs": [
    {
     "data": {
      "text/plain": [
       "0.2184367709084043"
      ]
     },
     "execution_count": 262,
     "metadata": {},
     "output_type": "execute_result"
    }
   ],
   "source": [
    "np.median(gamma_data)"
   ]
  },
  {
   "cell_type": "markdown",
   "id": "31b75e14",
   "metadata": {},
   "source": [
    "# Odchylenie standardowe"
   ]
  },
  {
   "cell_type": "code",
   "execution_count": 263,
   "id": "811e7842",
   "metadata": {},
   "outputs": [
    {
     "data": {
      "text/plain": [
       "0.6860112835343932"
      ]
     },
     "execution_count": 263,
     "metadata": {},
     "output_type": "execute_result"
    }
   ],
   "source": [
    "np.std(gamma_data)"
   ]
  },
  {
   "cell_type": "code",
   "execution_count": 264,
   "id": "fa698258",
   "metadata": {},
   "outputs": [
    {
     "data": {
      "text/plain": [
       "0.47061148113650564"
      ]
     },
     "execution_count": 264,
     "metadata": {},
     "output_type": "execute_result"
    }
   ],
   "source": [
    "np.std(gamma_data)**2"
   ]
  },
  {
   "cell_type": "code",
   "execution_count": 290,
   "id": "4ae1a4b8",
   "metadata": {},
   "outputs": [
    {
     "data": {
      "text/plain": [
       "0.4706114811365057"
      ]
     },
     "execution_count": 290,
     "metadata": {},
     "output_type": "execute_result"
    }
   ],
   "source": [
    "np.var(gamma_data)"
   ]
  },
  {
   "cell_type": "markdown",
   "id": "11e5c449",
   "metadata": {},
   "source": [
    "# Wariancja z próby"
   ]
  },
  {
   "cell_type": "code",
   "execution_count": 265,
   "id": "90d58583",
   "metadata": {},
   "outputs": [
    {
     "data": {
      "text/plain": [
       "array([1.18102673, 0.22942863, 0.12428896, ..., 0.21989444, 0.00147478,\n",
       "       0.14909168])"
      ]
     },
     "execution_count": 265,
     "metadata": {},
     "output_type": "execute_result"
    }
   ],
   "source": [
    "(gamma_data - np.mean(gamma_data))**2"
   ]
  },
  {
   "cell_type": "code",
   "execution_count": 266,
   "id": "40089666",
   "metadata": {},
   "outputs": [
    {
     "data": {
      "text/plain": [
       "0.4706114811365057"
      ]
     },
     "execution_count": 266,
     "metadata": {},
     "output_type": "execute_result"
    }
   ],
   "source": [
    "np.sum((gamma_data - np.mean(gamma_data))**2)/len(gamma_data)"
   ]
  },
  {
   "cell_type": "markdown",
   "id": "acdf6905",
   "metadata": {},
   "source": [
    "# Empiryczna dystrybuata z próby"
   ]
  },
  {
   "cell_type": "code",
   "execution_count": 279,
   "id": "30673eeb",
   "metadata": {
    "scrolled": true
   },
   "outputs": [
    {
     "data": {
      "image/png": "[encoded data removed]",
      "text/plain": [
       "<Figure size 432x288 with 1 Axes>"
      ]
     },
     "metadata": {
      "needs_background": "light"
     },
     "output_type": "display_data"
    }
   ],
   "source": [
    "x = np.sort(gamma_data)\n",
    "y = np.arange(1, len(x) +1)/len(x)\n",
    "_ = plt.plot(x, y, marker='.', linestyle=\"none\")\n",
    "_ = plt.xlabel('wartości zmiennej gamma')\n",
    "_ = plt.ylabel('Prawdopodobieństwo')\n",
    "plt.margins(0.02)\n",
    "plt.title('Empiryczna dystrybyanta z próby')\n",
    "plt.show()"
   ]
  },
  {
   "cell_type": "code",
   "execution_count": 296,
   "id": "06fce07c",
   "metadata": {
    "scrolled": true
   },
   "outputs": [
    {
     "data": {
      "image/png": "[encoded data removed]",
      "text/plain": [
       "<Figure size 432x288 with 1 Axes>"
      ]
     },
     "metadata": {
      "needs_background": "light"
     },
     "output_type": "display_data"
    }
   ],
   "source": [
    "_ = plt.hist(gamma_data,  orientation = 'horizontal')\n",
    "_ = plt.xlabel('Ilośc')\n",
    "_ = plt.ylabel('wartość gamma')\n",
    "plt.title('Histogram')\n",
    "plt.show()"
   ]
  },
  {
   "cell_type": "code",
   "execution_count": 299,
   "id": "3ca07e39",
   "metadata": {},
   "outputs": [
    {
     "data": {
      "image/png": "[encoded data removed]",
      "text/plain": [
       "<Figure size 432x288 with 1 Axes>"
      ]
     },
     "metadata": {
      "needs_background": "light"
     },
     "output_type": "display_data"
    }
   ],
   "source": [
    "bin_xd = [0, 1, 2, 3, 4, 5, 6]\n",
    "_ = plt.hist(gamma_data, bins = bin_xd, density=True)\n",
    "_ = plt.xlabel('wartość gamma')\n",
    "_ = plt.ylabel('Częstość')\n",
    "plt.title('Histogram')\n",
    "plt.yticks([0, 2000, 4000, 6000, 8000, 10000])\n",
    "xx = np.linspace (0, 6, 100) \n",
    "yy = stats.gamma.pdf(xx, a=0.5, scale=1)\n",
    "plt.plot(xx, yy)\n",
    "plt.show()"
   ]
  },
  {
   "cell_type": "code",
   "execution_count": 294,
   "id": "f7cc9dc8",
   "metadata": {},
   "outputs": [
    {
     "data": {
      "image/png": "[encoded data removed]",
      "text/plain": [
       "<Figure size 432x288 with 1 Axes>"
      ]
     },
     "metadata": {
      "needs_background": "light"
     },
     "output_type": "display_data"
    }
   ],
   "source": [
    "xx = np.linspace (0, 6, 100) \n",
    "yy = stats.gamma.pdf(xx, a=0.5, scale=1)\n",
    "plt.plot(xx, yy)\n",
    "plt.show()"
   ]
  },
  {
   "cell_type": "code",
   "execution_count": 289,
   "id": "e9e2e45d",
   "metadata": {},
   "outputs": [
    {
     "data": {
      "image/png": "[encoded data removed]",
      "text/plain": [
       "<Figure size 432x288 with 1 Axes>"
      ]
     },
     "metadata": {
      "needs_background": "light"
     },
     "output_type": "display_data"
    }
   ],
   "source": [
    "bin_xd = [0, 1, 2, 3, 4, 5, 6]\n",
    "_ = plt.hist(gamma_data, bins = bin_xd)\n",
    "_ = plt.xlabel('wartość gamma')\n",
    "_ = plt.ylabel('Częstość')\n",
    "plt.title('Histogram')\n",
    "plt.yticks([0, 2000, 4000, 6000, 8000, 10000],['0t','2t','4t','6t','8t','10t'])\n",
    "plt.show()"
   ]
  },
  {
   "cell_type": "code",
   "execution_count": 272,
   "id": "1494930d",
   "metadata": {},
   "outputs": [
    {
     "name": "stdout",
     "output_type": "stream",
     "text": [
      "Help on function hist in module matplotlib.pyplot:\n",
      "\n",
      "hist(x, bins=None, range=None, density=False, weights=None, cumulative=False, bottom=None, histtype='bar', align='mid', orientation='vertical', rwidth=None, log=False, color=None, label=None, stacked=False, *, data=None, **kwargs)\n",
      "    Plot a histogram.\n",
      "    \n",
      "    Compute and draw the histogram of *x*.  The return value is a tuple\n",
      "    (*n*, *bins*, *patches*) or ([*n0*, *n1*, ...], *bins*, [*patches0*,\n",
      "    *patches1*, ...]) if the input contains multiple data.  See the\n",
      "    documentation of the *weights* parameter to draw a histogram of\n",
      "    already-binned data.\n",
      "    \n",
      "    Multiple data can be provided via *x* as a list of datasets\n",
      "    of potentially different length ([*x0*, *x1*, ...]), or as\n",
      "    a 2D ndarray in which each column is a dataset.  Note that\n",
      "    the ndarray form is transposed relative to the list form.\n",
      "    \n",
      "    Masked arrays are not supported.\n",
      "    \n",
      "    The *bins*, *range*, *weights*, and *density* parameters behave as in\n",
      "    `numpy.histogram`.\n",
      "    \n",
      "    Parameters\n",
      "    ----------\n",
      "    x : (n,) array or sequence of (n,) arrays\n",
      "        Input values, this takes either a single array or a sequence of\n",
      "        arrays which are not required to be of the same length.\n",
      "    \n",
      "    bins : int or sequence or str, default: :rc:`hist.bins`\n",
      "        If *bins* is an integer, it defines the number of equal-width bins\n",
      "        in the range.\n",
      "    \n",
      "        If *bins* is a sequence, it defines the bin edges, including the\n",
      "        left edge of the first bin and the right edge of the last bin;\n",
      "        in this case, bins may be unequally spaced.  All but the last\n",
      "        (righthand-most) bin is half-open.  In other words, if *bins* is::\n",
      "    \n",
      "            [1, 2, 3, 4]\n",
      "    \n",
      "        then the first bin is ``[1, 2)`` (including 1, but excluding 2) and\n",
      "        the second ``[2, 3)``.  The last bin, however, is ``[3, 4]``, which\n",
      "        *includes* 4.\n",
      "    \n",
      "        If *bins* is a string, it is one of the binning strategies\n",
      "        supported by `numpy.histogram_bin_edges`: 'auto', 'fd', 'doane',\n",
      "        'scott', 'stone', 'rice', 'sturges', or 'sqrt'.\n",
      "    \n",
      "    range : tuple or None, default: None\n",
      "        The lower and upper range of the bins. Lower and upper outliers\n",
      "        are ignored. If not provided, *range* is ``(x.min(), x.max())``.\n",
      "        Range has no effect if *bins* is a sequence.\n",
      "    \n",
      "        If *bins* is a sequence or *range* is specified, autoscaling\n",
      "        is based on the specified bin range instead of the\n",
      "        range of x.\n",
      "    \n",
      "    density : bool, default: False\n",
      "        If ``True``, draw and return a probability density: each bin\n",
      "        will display the bin's raw count divided by the total number of\n",
      "        counts *and the bin width*\n",
      "        (``density = counts / (sum(counts) * np.diff(bins))``),\n",
      "        so that the area under the histogram integrates to 1\n",
      "        (``np.sum(density * np.diff(bins)) == 1``).\n",
      "    \n",
      "        If *stacked* is also ``True``, the sum of the histograms is\n",
      "        normalized to 1.\n",
      "    \n",
      "    weights : (n,) array-like or None, default: None\n",
      "        An array of weights, of the same shape as *x*.  Each value in\n",
      "        *x* only contributes its associated weight towards the bin count\n",
      "        (instead of 1).  If *density* is ``True``, the weights are\n",
      "        normalized, so that the integral of the density over the range\n",
      "        remains 1.\n",
      "    \n",
      "        This parameter can be used to draw a histogram of data that has\n",
      "        already been binned, e.g. using `numpy.histogram` (by treating each\n",
      "        bin as a single point with a weight equal to its count) ::\n",
      "    \n",
      "            counts, bins = np.histogram(data)\n",
      "            plt.hist(bins[:-1], bins, weights=counts)\n",
      "    \n",
      "        (or you may alternatively use `~.bar()`).\n",
      "    \n",
      "    cumulative : bool or -1, default: False\n",
      "        If ``True``, then a histogram is computed where each bin gives the\n",
      "        counts in that bin plus all bins for smaller values. The last bin\n",
      "        gives the total number of datapoints.\n",
      "    \n",
      "        If *density* is also ``True`` then the histogram is normalized such\n",
      "        that the last bin equals 1.\n",
      "    \n",
      "        If *cumulative* is a number less than 0 (e.g., -1), the direction\n",
      "        of accumulation is reversed.  In this case, if *density* is also\n",
      "        ``True``, then the histogram is normalized such that the first bin\n",
      "        equals 1.\n",
      "    \n",
      "    bottom : array-like, scalar, or None, default: None\n",
      "        Location of the bottom of each bin, ie. bins are drawn from\n",
      "        ``bottom`` to ``bottom + hist(x, bins)`` If a scalar, the bottom\n",
      "        of each bin is shifted by the same amount. If an array, each bin\n",
      "        is shifted independently and the length of bottom must match the\n",
      "        number of bins. If None, defaults to 0.\n",
      "    \n",
      "    histtype : {'bar', 'barstacked', 'step', 'stepfilled'}, default: 'bar'\n",
      "        The type of histogram to draw.\n",
      "    \n",
      "        - 'bar' is a traditional bar-type histogram.  If multiple data\n",
      "          are given the bars are arranged side by side.\n",
      "        - 'barstacked' is a bar-type histogram where multiple\n",
      "          data are stacked on top of each other.\n",
      "        - 'step' generates a lineplot that is by default unfilled.\n",
      "        - 'stepfilled' generates a lineplot that is by default filled.\n",
      "    \n",
      "    align : {'left', 'mid', 'right'}, default: 'mid'\n",
      "        The horizontal alignment of the histogram bars.\n",
      "    \n",
      "        - 'left': bars are centered on the left bin edges.\n",
      "        - 'mid': bars are centered between the bin edges.\n",
      "        - 'right': bars are centered on the right bin edges.\n",
      "    \n",
      "    orientation : {'vertical', 'horizontal'}, default: 'vertical'\n",
      "        If 'horizontal', `~.Axes.barh` will be used for bar-type histograms\n",
      "        and the *bottom* kwarg will be the left edges.\n",
      "    \n",
      "    rwidth : float or None, default: None\n",
      "        The relative width of the bars as a fraction of the bin width.  If\n",
      "        ``None``, automatically compute the width.\n",
      "    \n",
      "        Ignored if *histtype* is 'step' or 'stepfilled'.\n",
      "    \n",
      "    log : bool, default: False\n",
      "        If ``True``, the histogram axis will be set to a log scale.\n",
      "    \n",
      "    color : color or array-like of colors or None, default: None\n",
      "        Color or sequence of colors, one per dataset.  Default (``None``)\n",
      "        uses the standard line color sequence.\n",
      "    \n",
      "    label : str or None, default: None\n",
      "        String, or sequence of strings to match multiple datasets.  Bar\n",
      "        charts yield multiple patches per dataset, but only the first gets\n",
      "        the label, so that `~.Axes.legend` will work as expected.\n",
      "    \n",
      "    stacked : bool, default: False\n",
      "        If ``True``, multiple data are stacked on top of each other If\n",
      "        ``False`` multiple data are arranged side by side if histtype is\n",
      "        'bar' or on top of each other if histtype is 'step'\n",
      "    \n",
      "    Returns\n",
      "    -------\n",
      "    n : array or list of arrays\n",
      "        The values of the histogram bins. See *density* and *weights* for a\n",
      "        description of the possible semantics.  If input *x* is an array,\n",
      "        then this is an array of length *nbins*. If input is a sequence of\n",
      "        arrays ``[data1, data2, ...]``, then this is a list of arrays with\n",
      "        the values of the histograms for each of the arrays in the same\n",
      "        order.  The dtype of the array *n* (or of its element arrays) will\n",
      "        always be float even if no weighting or normalization is used.\n",
      "    \n",
      "    bins : array\n",
      "        The edges of the bins. Length nbins + 1 (nbins left edges and right\n",
      "        edge of last bin).  Always a single array even when multiple data\n",
      "        sets are passed in.\n",
      "    \n",
      "    patches : `.BarContainer` or list of a single `.Polygon` or list of such objects\n",
      "        Container of individual artists used to create the histogram\n",
      "        or list of such containers if there are multiple input datasets.\n",
      "    \n",
      "    Other Parameters\n",
      "    ----------------\n",
      "    **kwargs\n",
      "        `~matplotlib.patches.Patch` properties\n",
      "    \n",
      "    See Also\n",
      "    --------\n",
      "    hist2d : 2D histograms\n",
      "    \n",
      "    Notes\n",
      "    -----\n",
      "    For large numbers of bins (>1000), 'step' and 'stepfilled' can be\n",
      "    significantly faster than 'bar' and 'barstacked'.\n",
      "    \n",
      "    .. note::\n",
      "        In addition to the above described arguments, this function can take\n",
      "        a *data* keyword argument. If such a *data* argument is given,\n",
      "        the following arguments can also be string ``s``, which is\n",
      "        interpreted as ``data[s]`` (unless this raises an exception):\n",
      "        *x*, *weights*.\n",
      "    \n",
      "        Objects passed as **data** must support item access (``data[s]``) and\n",
      "        membership test (``s in data``).\n",
      "\n"
     ]
    }
   ],
   "source": [
    "help(plt.hist)"
   ]
  },
  {
   "cell_type": "markdown",
   "id": "a58d2983",
   "metadata": {},
   "source": [
    "_ = sns.swarmplot(x='kolumna_jakaś',y='inna_kolumna', data = zbior_z_danymi)\n",
    "_ = plt.xlabel('zmienna gamma')\n",
    "_ = plt.ylabel('Empiryczna dystrybyanta z próby')\n",
    "plt.margins(0.02)\n",
    "plt.show()"
   ]
  },
  {
   "cell_type": "code",
   "execution_count": 291,
   "id": "255ad3a4",
   "metadata": {},
   "outputs": [
    {
     "ename": "NameError",
     "evalue": "name 'sns' is not defined",
     "output_type": "error",
     "traceback": [
      "\u001b[1;31m---------------------------------------------------------------------------\u001b[0m",
      "\u001b[1;31mNameError\u001b[0m                                 Traceback (most recent call last)",
      "\u001b[1;32m~\\AppData\\Local\\Temp/ipykernel_15684/699795001.py\u001b[0m in \u001b[0;36m<module>\u001b[1;34m\u001b[0m\n\u001b[1;32m----> 1\u001b[1;33m \u001b[0mhelp\u001b[0m\u001b[1;33m(\u001b[0m\u001b[0msns\u001b[0m\u001b[1;33m.\u001b[0m\u001b[0mdistplot\u001b[0m\u001b[1;33m)\u001b[0m\u001b[1;33m\u001b[0m\u001b[1;33m\u001b[0m\u001b[0m\n\u001b[0m",
      "\u001b[1;31mNameError\u001b[0m: name 'sns' is not defined"
     ]
    }
   ],
   "source": [
    "help(sns.distplot)"
   ]
  },
  {
   "cell_type": "markdown",
   "id": "f5f4a922",
   "metadata": {},
   "source": [
    "# Metoda count i index działa dla listy"
   ]
  },
  {
   "cell_type": "code",
   "execution_count": 241,
   "id": "fb393f37",
   "metadata": {},
   "outputs": [
    {
     "ename": "AttributeError",
     "evalue": "'numpy.ndarray' object has no attribute 'count'",
     "output_type": "error",
     "traceback": [
      "\u001b[1;31m---------------------------------------------------------------------------\u001b[0m",
      "\u001b[1;31mAttributeError\u001b[0m                            Traceback (most recent call last)",
      "\u001b[1;32m~\\AppData\\Local\\Temp/ipykernel_15684/2367248635.py\u001b[0m in \u001b[0;36m<module>\u001b[1;34m\u001b[0m\n\u001b[1;32m----> 1\u001b[1;33m \u001b[0mgamma_data\u001b[0m\u001b[1;33m.\u001b[0m\u001b[0mcount\u001b[0m\u001b[1;33m(\u001b[0m\u001b[0mgamma_data\u001b[0m\u001b[1;33m[\u001b[0m\u001b[1;36m100\u001b[0m\u001b[1;33m]\u001b[0m\u001b[1;33m)\u001b[0m\u001b[1;33m\u001b[0m\u001b[1;33m\u001b[0m\u001b[0m\n\u001b[0m",
      "\u001b[1;31mAttributeError\u001b[0m: 'numpy.ndarray' object has no attribute 'count'"
     ]
    }
   ],
   "source": [
    "gamma_data.count(gamma_data[100])"
   ]
  },
  {
   "cell_type": "code",
   "execution_count": 113,
   "id": "117c3eb7",
   "metadata": {
    "scrolled": true
   },
   "outputs": [
    {
     "ename": "AttributeError",
     "evalue": "'numpy.ndarray' object has no attribute 'index'",
     "output_type": "error",
     "traceback": [
      "\u001b[1;31m---------------------------------------------------------------------------\u001b[0m",
      "\u001b[1;31mAttributeError\u001b[0m                            Traceback (most recent call last)",
      "\u001b[1;32m~\\AppData\\Local\\Temp/ipykernel_15684/53316964.py\u001b[0m in \u001b[0;36m<module>\u001b[1;34m\u001b[0m\n\u001b[1;32m----> 1\u001b[1;33m \u001b[0mgamma_data\u001b[0m\u001b[1;33m.\u001b[0m\u001b[0mindex\u001b[0m\u001b[1;33m(\u001b[0m\u001b[0mmax\u001b[0m\u001b[1;33m(\u001b[0m\u001b[0mgamma_data\u001b[0m\u001b[1;33m)\u001b[0m\u001b[1;33m)\u001b[0m\u001b[1;33m\u001b[0m\u001b[1;33m\u001b[0m\u001b[0m\n\u001b[0m",
      "\u001b[1;31mAttributeError\u001b[0m: 'numpy.ndarray' object has no attribute 'index'"
     ]
    }
   ],
   "source": [
    "gamma_data.index(max(gamma_data))"
   ]
  },
  {
   "cell_type": "code",
   "execution_count": 62,
   "id": "b924fa3d",
   "metadata": {},
   "outputs": [],
   "source": [
    "gamma_data = stats.gamma.rvs(a=0.5, size=10000)    "
   ]
  },
  {
   "cell_type": "code",
   "execution_count": 63,
   "id": "1a54bd38",
   "metadata": {},
   "outputs": [
    {
     "name": "stdout",
     "output_type": "stream",
     "text": [
      "[array([0.14050926, 0.00744197, 0.16405607, ..., 0.21907695, 0.08877687,\n",
      "       0.11059351])]\n"
     ]
    }
   ],
   "source": [
    "print([gamma_data])"
   ]
  },
  {
   "cell_type": "code",
   "execution_count": 64,
   "id": "c41d2806",
   "metadata": {},
   "outputs": [
    {
     "data": {
      "text/plain": [
       "9.459128150140065"
      ]
     },
     "execution_count": 64,
     "metadata": {},
     "output_type": "execute_result"
    }
   ],
   "source": [
    "max(gamma_data)"
   ]
  },
  {
   "cell_type": "code",
   "execution_count": 52,
   "id": "a1678daf",
   "metadata": {},
   "outputs": [],
   "source": [
    "a=0.5"
   ]
  },
  {
   "cell_type": "code",
   "execution_count": 53,
   "id": "dec2d046",
   "metadata": {},
   "outputs": [],
   "source": [
    "mean, var, skew, kurt = stats.gamma.stats(a, moments='mvsk')"
   ]
  },
  {
   "cell_type": "code",
   "execution_count": 54,
   "id": "40b876c4",
   "metadata": {},
   "outputs": [
    {
     "data": {
      "text/plain": [
       "array(0.5)"
      ]
     },
     "execution_count": 54,
     "metadata": {},
     "output_type": "execute_result"
    }
   ],
   "source": [
    "mean"
   ]
  },
  {
   "cell_type": "code",
   "execution_count": 55,
   "id": "5c5de63f",
   "metadata": {},
   "outputs": [
    {
     "data": {
      "text/plain": [
       "array(0.5)"
      ]
     },
     "execution_count": 55,
     "metadata": {},
     "output_type": "execute_result"
    }
   ],
   "source": [
    "var"
   ]
  },
  {
   "cell_type": "code",
   "execution_count": 56,
   "id": "b9224b23",
   "metadata": {},
   "outputs": [
    {
     "data": {
      "text/plain": [
       "array(2.82842712)"
      ]
     },
     "execution_count": 56,
     "metadata": {},
     "output_type": "execute_result"
    }
   ],
   "source": [
    "skew"
   ]
  },
  {
   "cell_type": "code",
   "execution_count": 57,
   "id": "8d4d7c02",
   "metadata": {},
   "outputs": [
    {
     "data": {
      "text/plain": [
       "array(12.)"
      ]
     },
     "execution_count": 57,
     "metadata": {},
     "output_type": "execute_result"
    }
   ],
   "source": [
    "kurt"
   ]
  },
  {
   "cell_type": "code",
   "execution_count": 58,
   "id": "2b390f54",
   "metadata": {},
   "outputs": [
    {
     "data": {
      "text/plain": [
       "(array([8.2264e+04, 1.2128e+04, 3.6600e+03, 1.2610e+03, 4.2900e+02,\n",
       "        1.5900e+02, 6.6000e+01, 2.2000e+01, 7.0000e+00, 4.0000e+00]),\n",
       " array([1.89672028e-10, 9.17368969e-01, 1.83473794e+00, 2.75210691e+00,\n",
       "        3.66947588e+00, 4.58684485e+00, 5.50421381e+00, 6.42158278e+00,\n",
       "        7.33895175e+00, 8.25632072e+00, 9.17368969e+00]),\n",
       " <BarContainer object of 10 artists>)"
      ]
     },
     "execution_count": 58,
     "metadata": {},
     "output_type": "execute_result"
    }
   ],
   "source": [
    "ax.hist(gamma_data)"
   ]
  },
  {
   "cell_type": "code",
   "execution_count": null,
   "id": "a2e593df",
   "metadata": {},
   "outputs": [],
   "source": []
  }
 ],
 "metadata": {
  "kernelspec": {
   "display_name": "Python 3 (ipykernel)",
   "language": "python",
   "name": "python3"
  },
  "language_info": {
   "codemirror_mode": {
    "name": "ipython",
    "version": 3
   },
   "file_extension": ".py",
   "mimetype": "text/x-python",
   "name": "python",
   "nbconvert_exporter": "python",
   "pygments_lexer": "ipython3",
   "version": "3.9.7"
  }
 },
 "nbformat": 4,
 "nbformat_minor": 5
}
